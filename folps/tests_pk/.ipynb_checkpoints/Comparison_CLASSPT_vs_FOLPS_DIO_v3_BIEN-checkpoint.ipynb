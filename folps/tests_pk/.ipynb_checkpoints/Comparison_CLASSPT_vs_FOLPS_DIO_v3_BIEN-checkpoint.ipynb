{
 "cells": [
  {
   "cell_type": "code",
   "execution_count": 1,
   "id": "67f083d9",
   "metadata": {},
   "outputs": [
    {
     "name": "stderr",
     "output_type": "stream",
     "text": [
      "/home/hernan/anaconda3/envs/classpt/lib/python3.10/site-packages/scipy/__init__.py:146: UserWarning: A NumPy version >=1.17.3 and <1.25.0 is required for this version of SciPy (detected version 1.26.4\n",
      "  warnings.warn(f\"A NumPy version >={np_minversion} and <{np_maxversion}\"\n"
     ]
    }
   ],
   "source": [
    "import numpy as np\n",
    "import matplotlib\n",
    "import matplotlib.pyplot as plt\n",
    "import FOLPSnu_v3_May25 as FOLPS"
   ]
  },
  {
   "cell_type": "code",
   "execution_count": 2,
   "id": "657ae0ea-57b4-4dd9-a550-4392a5ef9a30",
   "metadata": {},
   "outputs": [],
   "source": [
    "import matplotlib\n",
    "import matplotlib.pyplot as plt\n",
    "import numpy as np\n",
    "from numpy.fft import fft, ifft , rfft, irfft , fftfreq\n",
    "from numpy import exp, log, log10, cos, sin, pi, cosh, sinh , sqrt\n",
    "from classy import Class\n",
    "from scipy.optimize import fsolve\n",
    "from scipy.special import gamma\n",
    "from scipy.special import hyp2f1\n",
    "from scipy import interpolate\n",
    "import sys,os\n",
    "from time import time\n",
    "from scipy.integrate import quad\n",
    "import scipy.integrate as integrate\n",
    "from scipy import special\n",
    "from scipy.special import factorial\n",
    "import math"
   ]
  },
  {
   "cell_type": "code",
   "execution_count": 3,
   "id": "6c96cc07-d0d3-4af1-bd63-778ac3ca6f75",
   "metadata": {},
   "outputs": [],
   "source": [
    "# esthetic definitions for the plots\n",
    "font = {'size'   : 15, 'family':'sans-serif'}\n",
    "axislabelfontsize='large'\n",
    "matplotlib.rc('font', **font)\n",
    "matplotlib.rc('text', usetex=True)"
   ]
  },
  {
   "cell_type": "markdown",
   "id": "5bc06cd5",
   "metadata": {},
   "source": [
    "# Comparison between Velocileptors & Folps & CLASSPT"
   ]
  },
  {
   "cell_type": "code",
   "execution_count": 4,
   "id": "c9415af3",
   "metadata": {},
   "outputs": [],
   "source": [
    "def get_multipoles(k_ev=None, inputpkl=None, CosmoParams=None, NuisanParams=None, bias = \"folps\"):\n",
    "    \n",
    "    nonlinear = FOLPS.NonLinear(inputpkl=inputpkT, CosmoParams=CosmoParams, EdSkernels=True)\n",
    "    \n",
    "    kh, Pkl0, Pkl2, Pkl4 = FOLPS.RSDmultipoles(kev=k_ev, NuisanParams=NuisanParams, Omfid = 0.31,\n",
    "                                               AP = False, IR=False, bias=bias)\n",
    "    return kh, Pkl0, Pkl2, Pkl4"
   ]
  },
  {
   "cell_type": "code",
   "execution_count": 5,
   "id": "7af391bf-21dd-403e-af50-4de6ea50318c",
   "metadata": {},
   "outputs": [],
   "source": [
    "from scipy.interpolate import CubicSpline\n",
    "def interp(k, x, y):\n",
    "    '''Cubic spline interpolation.\n",
    "    \n",
    "    Args:\n",
    "        k: coordinates at which to evaluate the interpolated values.\n",
    "        x: x-coordinates of the data points.\n",
    "        y: y-coordinates of the data points.\n",
    "    Returns:\n",
    "        Cubic interpolation of ‘y’ evaluated at ‘k’.\n",
    "    '''\n",
    "    inter = CubicSpline(x, y)\n",
    "    return inter(k)"
   ]
  },
  {
   "cell_type": "code",
   "execution_count": 6,
   "id": "6cf0f784-141d-4096-aa3b-9dff19e5b4ba",
   "metadata": {},
   "outputs": [],
   "source": [
    "def bias_transf(b1_L, b2_L, bs_L, b3_L, biasout=\"folps\"):\n",
    "    # Cálculo de b_pyb\n",
    "    b1_pyb = b1_L + 1\n",
    "    b2_pyb = 7/2 * (2/7 + bs_L)\n",
    "    b3_pyb = 7/441 * (42 - 145 * b1_L - 21 * b3_L + 630 * bs_L)\n",
    "    b4_pyb = -7/5 * (b1_L - 1) - 7/10 * b2_L\n",
    "\n",
    "    # Cálculo de b_classpt\n",
    "    b1_classpt = b1_pyb\n",
    "    b2_classpt = 2 * (b2_pyb + b4_pyb - b1_pyb)\n",
    "    bG2_classpt = 2/7 * (b2_pyb - b1_pyb)\n",
    "    bGamma3_classpt = 1/6 * (b3_pyb - b1_pyb) - 5/7 * (b2_pyb - b1_pyb)\n",
    "\n",
    "    # Cálculo de b_folps\n",
    "    b1_folps = b1_classpt\n",
    "    b2_folps = b2_classpt - 4/3 * bG2_classpt\n",
    "    bs_folps = 2 * bG2_classpt\n",
    "    b3nl_folps = -32/21 * (bG2_classpt + 2/5 * bGamma3_classpt)\n",
    "\n",
    "    # Retornar los valores según el valor de biasout\n",
    "    if biasout == \"folps\":\n",
    "        return b1_folps, b2_folps, bs_folps, b3nl_folps\n",
    "    elif biasout == \"classpt\":\n",
    "        return b1_classpt, b2_classpt, bG2_classpt, bGamma3_classpt\n",
    "    elif biasout == \"pyb\":\n",
    "        return b1_pyb, b2_pyb, b3_pyb, b4_pyb\n",
    "    else:\n",
    "        raise ValueError(\"Opción inválida para biasout. Elija entre 'folps', 'classpt', o 'pyb'.\")\n"
   ]
  },
  {
   "cell_type": "markdown",
   "id": "c1423ef2-ef00-43a4-87d1-ba37d58a0f9e",
   "metadata": {},
   "source": [
    "### Class-pt"
   ]
  },
  {
   "cell_type": "code",
   "execution_count": 7,
   "id": "787564f6-9aaa-47ba-bea0-5fdbc65790a7",
   "metadata": {},
   "outputs": [],
   "source": [
    "z_pk = 0.8\n",
    "\n",
    "omega_b = 0.02237\n",
    "omega_cdm = 0.1200\n",
    "As =  2.0830e-9\n",
    "ns = 0.9649\n",
    "h = 0.6736\n",
    "speed_of_light = 2.99792458e5\n",
    "\n",
    "nnu = 1\n",
    "nur = 2.0328\n",
    "# mnu = 0.06\n",
    "omega_nu = 0. #0.0006442 #0.0106 * mnu\n",
    "\n",
    "\n",
    "common_settings = {# fixed LambdaCDM parameters\n",
    "                   'P_k_max_h/Mpc': 20.,\n",
    "                    'z_pk': z_pk,\n",
    "                    'A_s': As,\n",
    "                    'n_s': ns,\n",
    "                    'h': h,\n",
    "                    'N_ur': nur,\n",
    "                    'N_ncdm': nnu,\n",
    "                    'omega_ncdm': omega_nu,\n",
    "                    # 'm_ncdm': mnu,\n",
    "                    'tau_reio': 0.0568,\n",
    "                    'omega_b': omega_b,\n",
    "                    'omega_cdm': omega_cdm}  \n",
    "\n",
    "M = Class()\n",
    "M.set(common_settings)\n",
    "#let's first take a look at the one-loop power spectrum for matter without IR resummation\n",
    "M.set({ 'output':'mPk',\n",
    "       'non linear':'PT',\n",
    "       'IR resummation':'No',\n",
    "       'Bias tracers':'Yes'\n",
    "       ,'cb':'Yes'\n",
    "      })\n",
    "M.compute()\n",
    "#now we compute all the spectra including IR resummation, RSD, \n",
    "#and AP generated for a fiducial cosmology with Ωm=0.31\\Omega_m=0.31 \n",
    "M1 = Class()\n",
    "M1.set(common_settings)\n",
    "M1.set({'output':'mPk',\n",
    "        'non linear':'PT',\n",
    "        'IR resummation':'No',\n",
    "        'Bias tracers':'Yes',\n",
    "        'cb':'Yes',\n",
    "        'RSD':'Yes',\n",
    "        'AP':'No',\n",
    "        'Omfid':'0.31',\n",
    "        'FFTLog mode':'Normal'\n",
    "       })\n",
    "M1.compute()"
   ]
  },
  {
   "cell_type": "code",
   "execution_count": 8,
   "id": "d06776fc-4a10-4683-88b2-dee4ec2a0b2f",
   "metadata": {},
   "outputs": [],
   "source": [
    "kvec = np.logspace(-3,np.log10(3),1000) # array of kvec in h/Mpc\n",
    "khvec = kvec*h"
   ]
  },
  {
   "cell_type": "code",
   "execution_count": 9,
   "id": "fecd420f-b20d-481f-8661-634e6b6a8b0e",
   "metadata": {},
   "outputs": [],
   "source": [
    "M.initialize_output(khvec, z_pk, len(khvec))\n",
    "M1.initialize_output(khvec, z_pk, len(khvec))"
   ]
  },
  {
   "cell_type": "code",
   "execution_count": 10,
   "id": "e9070f98-e9ea-4f53-b4a1-1e218c96dd26",
   "metadata": {},
   "outputs": [],
   "source": [
    "#Bias param: Vel\n",
    "b1_L = 2.0;                 \n",
    "b2_L = -0.5;                 \n",
    "bs_L = 1.0;        \n",
    "b3_L = 0.5;  \n",
    "\n",
    "b1_classpt, b2_classpt, bG2_classpt, bGamma3_classpt =  bias_transf(b1_L=b1_L, b2_L=b2_L, bs_L=bs_L, b3_L=b3_L, biasout=\"classpt\")"
   ]
  },
  {
   "cell_type": "code",
   "execution_count": 11,
   "id": "07ae56d7-71fa-4546-b789-b7f5ac41d940",
   "metadata": {},
   "outputs": [
    {
     "name": "stdout",
     "output_type": "stream",
     "text": [
      "bias_classpt: (3.0, 0.9000000000000004, 0.42857142857142855, -0.5886243386243387)\n"
     ]
    }
   ],
   "source": [
    "# NUISANCE PARAMETERS - CLASSPT\n",
    "\n",
    "b1_classpt = b1_classpt;                 \n",
    "cs = 0. # in units [Mpc/h]^2\n",
    "b2_classpt = b2_classpt\n",
    "bG2_classpt = bG2_classpt\n",
    "bGamma3_classpt = bGamma3_classpt\n",
    "Pshot = 0.0 # in units [Mpc/h]^3\n",
    "cs0 = 0. # in units [Mpc/h]^2\n",
    "cs2 = 0. # in units [Mpc/h]^2\n",
    "cs4 = 0. # in units [Mpc/h]^2\n",
    "b4 = 0. # in units [Mpc/h]^4\n",
    "##############################\n",
    "\n",
    "Pkl0_classpt_ = M1.pk_gg_l0(b1_classpt, b2_classpt, bG2_classpt, bGamma3_classpt, cs0, Pshot, b4)\n",
    "Pkl2_classpt_ = M1.pk_gg_l2(b1_classpt, b2_classpt, bG2_classpt, bGamma3_classpt, cs2, b4)\n",
    "Pkl4_classpt_ = M1.pk_gg_l4(b1_classpt, b2_classpt, bG2_classpt, bGamma3_classpt, cs4, b4)\n",
    "print('bias_classpt:', (b1_classpt, b2_classpt, bG2_classpt, bGamma3_classpt))"
   ]
  },
  {
   "cell_type": "code",
   "execution_count": 12,
   "id": "25571acd-4f23-4562-ae93-51c11d8da7b0",
   "metadata": {},
   "outputs": [],
   "source": [
    "k_ev = np.logspace(np.log10(0.01), np.log10(0.3), num=100)"
   ]
  },
  {
   "cell_type": "code",
   "execution_count": 13,
   "id": "c6c4a247-204d-4920-9065-509b9666dc17",
   "metadata": {},
   "outputs": [],
   "source": [
    "Pkl0_classpt = interp(k_ev, kvec, Pkl0_classpt_)\n",
    "Pkl2_classpt = interp(k_ev, kvec, Pkl2_classpt_)\n",
    "Pkl4_classpt = interp(k_ev, kvec, Pkl4_classpt_)"
   ]
  },
  {
   "cell_type": "markdown",
   "id": "4ba2778f-d9ba-403f-97fa-d998c63d31a3",
   "metadata": {},
   "source": [
    "### folps"
   ]
  },
  {
   "cell_type": "code",
   "execution_count": 14,
   "id": "2eb6c72f-2e97-4e88-be4e-c23f87a5121a",
   "metadata": {},
   "outputs": [],
   "source": [
    "omega_b = 0.02237;          #baryons\n",
    "omega_cdm = 0.1200;         #CDM\n",
    "omega_ncdm = 0.0;           #massive neutrinos \n",
    "h = 0.6736;                 #h = H0/100\n",
    "z_pk = 0.8;                 #evaluation redshift\n",
    "CosmoParams = [z_pk, omega_b, omega_cdm, omega_ncdm, h]"
   ]
  },
  {
   "cell_type": "code",
   "execution_count": 15,
   "id": "41bc177d-376e-4c9f-adf1-47ce4dbf6c27",
   "metadata": {},
   "outputs": [],
   "source": [
    "# linear theory matter power spectrum\n",
    "inputpkT = np.loadtxt('Plin.txt', unpack = True)"
   ]
  },
  {
   "cell_type": "code",
   "execution_count": 16,
   "id": "e2a9f0de-5f6b-4ba5-87d3-14a9504ec121",
   "metadata": {},
   "outputs": [],
   "source": [
    "b1_folps, b2_folps, bs2_folps, b3nl_folps =  bias_transf(b1_L=b1_L, b2_L=b2_L, bs_L=bs_L, b3_L=b3_L, biasout=\"folps\")"
   ]
  },
  {
   "cell_type": "code",
   "execution_count": 17,
   "id": "6f7d4b03-0b8a-4ab8-9895-59e0e875e4d0",
   "metadata": {},
   "outputs": [
    {
     "name": "stdout",
     "output_type": "stream",
     "text": [
      "[3.0, 0.9000000000000004, 0.42857142857142855, -0.5886243386243387, 0.0, 0.0, 0.0, 0.0, 0.0, 0.0, 0.0]\n"
     ]
    }
   ],
   "source": [
    "#Nuisance parameters FOLPS\n",
    "\n",
    "#b1_folps = b1_classpt                \n",
    "#b2_folps = b2_classpt - 4/3 * bG2_classpt       \n",
    "#bs2_folps = 2*bG2_classpt     \n",
    "#b3nl_folps = -32/21 * ( bG2_classpt + 2/5 * bGamma3_classpt);  \n",
    "\n",
    "\n",
    "#b1_folps = b1_classpt                \n",
    "#b2_folps = b2_classpt   \n",
    "#bs2_folps = bG2_classpt     \n",
    "#b3nl_folps = bGamma3_classpt\n",
    "\n",
    "#EFT parameters\n",
    "alpha0 = 0.0;               #units: [Mpc/h]^2\n",
    "alpha2 = 0.0;               #units: [Mpc/h]^2\n",
    "alpha4 = 0.0;               #units: [Mpc/h]^2\n",
    "ctilde = 0.0;               #units: [Mpc/h]^4\n",
    "\n",
    "#Stochatics parameters\n",
    "alphashot0 = 0.0;         \n",
    "alphashot2 = 0.0;          #units: [Mpc/h]^2      \n",
    "PshotP = 0.0;              #units: [Mpc/h]^3\n",
    "NuisanParams_folps = [b1_classpt, b2_classpt, bG2_classpt, bGamma3_classpt, alpha0, alpha2, alpha4, ctilde, alphashot0, alphashot2, PshotP]\n",
    "\n",
    "print(NuisanParams_folps)"
   ]
  },
  {
   "cell_type": "code",
   "execution_count": 18,
   "id": "7edcb6d5-e3b3-4f28-90b4-1c65d20d5176",
   "metadata": {},
   "outputs": [
    {
     "name": "stdout",
     "output_type": "stream",
     "text": [
      "N = 128 sampling points\n",
      "M matrices have been computed\n"
     ]
    }
   ],
   "source": [
    "matrices = FOLPS.Matrices(Nfftlog=128, A_full=True)"
   ]
  },
  {
   "cell_type": "code",
   "execution_count": 25,
   "id": "88be5557-8ae4-4821-bf1d-570406f35174",
   "metadata": {},
   "outputs": [
    {
     "name": "stdout",
     "output_type": "stream",
     "text": [
      "[-1.49970182e-02 -1.74681966e-02 -2.03523855e-02 -2.37090307e-02\n",
      " -2.76146002e-02 -3.21577360e-02 -3.74411432e-02 -4.35837298e-02\n",
      " -5.07225978e-02 -5.90149175e-02 -6.86459982e-02 -7.98280393e-02\n",
      " -9.28058443e-02 -1.07861759e-01 -1.25321242e-01 -1.45559124e-01\n",
      " -1.69001488e-01 -1.96138269e-01 -2.27542926e-01 -2.63866786e-01\n",
      " -3.05855988e-01 -3.54364196e-01 -4.10367490e-01 -4.74980823e-01\n",
      " -5.49440120e-01 -6.35188185e-01 -7.33881825e-01 -8.47382299e-01\n",
      " -9.77799625e-01 -1.12751967e+00 -1.29923554e+00 -1.49598392e+00\n",
      " -1.72097359e+00 -1.97812236e+00 -2.27172950e+00 -2.60655752e+00\n",
      " -2.98791433e+00 -3.42169543e+00 -3.91441110e+00 -4.47319447e+00\n",
      " -5.10499335e+00 -5.81907229e+00 -6.62472982e+00 -7.53198065e+00\n",
      " -8.55159969e+00 -9.69512380e+00 -1.09747685e+01 -1.24024367e+01\n",
      " -1.39890951e+01 -1.57500065e+01 -1.76985496e+01 -1.98477004e+01\n",
      " -2.22096382e+01 -2.47955515e+01 -2.76152279e+01 -3.06723371e+01\n",
      " -3.39696598e+01 -3.75128690e+01 -4.12995206e+01 -4.53230310e+01\n",
      " -4.95732774e+01 -5.40360234e+01 -5.86917349e+01 -6.35097032e+01\n",
      " -6.84747909e+01 -7.35796820e+01 -7.88151953e+01 -8.41734458e+01\n",
      " -8.96603489e+01 -9.53193345e+01 -1.01223623e+02 -1.07522182e+02\n",
      " -1.14307958e+02 -1.21723000e+02 -1.29949949e+02 -1.39186366e+02\n",
      " -1.49594567e+02 -1.61284729e+02 -1.74267999e+02 -1.88398545e+02\n",
      " -2.03205195e+02 -2.18061774e+02 -2.32153822e+02 -2.44598347e+02\n",
      " -2.54649381e+02 -2.61963413e+02 -2.66935459e+02 -2.71047988e+02\n",
      " -2.76084616e+02 -2.84113777e+02 -2.96798255e+02 -3.14621513e+02\n",
      " -3.36159383e+02 -3.57804547e+02 -3.74343605e+02 -3.82189955e+02\n",
      " -3.82565982e+02 -3.80920952e+02 -3.84532516e+02 -3.97939165e+02\n",
      " -4.19085957e+02 -4.38865632e+02 -4.46567963e+02 -4.43922265e+02\n",
      " -4.42467351e+02 -4.51214307e+02 -4.66985962e+02 -4.77084628e+02\n",
      " -4.75999625e+02 -4.74349642e+02 -4.83067800e+02 -4.91715518e+02\n",
      " -4.92468705e+02 -4.92499693e+02 -4.96650989e+02 -4.98488397e+02\n",
      " -4.97399512e+02 -4.98430635e+02 -4.99013212e+02 -4.97847180e+02]\n",
      "[-1.46680804e-02 -1.70774951e-02 -1.98837059e-02 -2.31499910e-02\n",
      " -2.69478816e-02 -3.13604940e-02 -3.64863237e-02 -4.24402230e-02\n",
      " -4.93532097e-02 -5.73740369e-02 -6.66789413e-02 -7.74693651e-02\n",
      " -8.99769686e-02 -1.04468186e-01 -1.21249509e-01 -1.40672980e-01\n",
      " -1.63136895e-01 -1.89097978e-01 -2.19091120e-01 -2.53720781e-01\n",
      " -2.93677135e-01 -3.39747098e-01 -3.92827210e-01 -4.53937784e-01\n",
      " -5.24199608e-01 -6.04922417e-01 -6.97606395e-01 -8.03926212e-01\n",
      " -9.25771914e-01 -1.06527083e+00 -1.22481305e+00 -1.40708098e+00\n",
      " -1.61486709e+00 -1.85161590e+00 -2.12107709e+00 -2.42738075e+00\n",
      " -2.77511214e+00 -3.16934627e+00 -3.61567012e+00 -4.12018878e+00\n",
      " -4.68878864e+00 -5.32946998e+00 -6.05022016e+00 -6.85968149e+00\n",
      " -7.76722542e+00 -8.78300260e+00 -9.91793368e+00 -1.11829972e+01\n",
      " -1.25889380e+01 -1.41504402e+01 -1.58814031e+01 -1.77963095e+01\n",
      " -1.99101398e+01 -2.22385057e+01 -2.47976230e+01 -2.76015420e+01\n",
      " -3.06656765e+01 -3.40090697e+01 -3.76475301e+01 -4.15960813e+01\n",
      " -4.58692242e+01 -5.04797471e+01 -5.54364186e+01 -6.07359432e+01\n",
      " -6.63824164e+01 -7.23816928e+01 -7.87266612e+01 -8.53945783e+01\n",
      " -9.23539713e+01 -9.95840558e+01 -1.07063288e+02 -1.14764409e+02\n",
      " -1.22645442e+02 -1.30667331e+02 -1.38811578e+02 -1.47077619e+02\n",
      " -1.55458955e+02 -1.63968776e+02 -1.72651794e+02 -1.81677741e+02\n",
      " -1.91079910e+02 -2.00997106e+02 -2.11576555e+02 -2.22928166e+02\n",
      " -2.35058918e+02 -2.47809595e+02 -2.60866847e+02 -2.73803337e+02\n",
      " -2.86165602e+02 -2.97805162e+02 -3.08805642e+02 -3.19377966e+02\n",
      " -3.29760132e+02 -3.40173843e+02 -3.50971204e+02 -3.62071320e+02\n",
      " -3.72904762e+02 -3.83217031e+02 -3.93247766e+02 -4.03222364e+02\n",
      " -4.12816616e+02 -4.21481212e+02 -4.29431526e+02 -4.37283433e+02\n",
      " -4.44865321e+02 -4.51829310e+02 -4.58302998e+02 -4.64328971e+02\n",
      " -4.69514273e+02 -4.73857705e+02 -4.78358736e+02 -4.82257102e+02\n",
      " -4.85551639e+02 -4.88266091e+02 -4.90239910e+02 -4.91462741e+02\n",
      " -4.92116578e+02 -4.92372411e+02 -4.92527195e+02 -4.92096099e+02]\n"
     ]
    }
   ],
   "source": [
    "kh_folps, Pkl0_folps, Pkl2_folps, Pkl4_folps = get_multipoles(k_ev=k_ev,\n",
    "                                                              inputpkl=inputpkT, \n",
    "                                                              CosmoParams=CosmoParams, \n",
    "                                                              NuisanParams=NuisanParams_folps,\n",
    "                                                              bias=\"classpt\")"
   ]
  },
  {
   "cell_type": "code",
   "execution_count": 26,
   "id": "1406074e-c6e1-4cc6-8beb-8ad1305805a5",
   "metadata": {},
   "outputs": [
    {
     "data": {
      "text/plain": [
       "array([104952.50665115, 106365.13762772, 107720.1896214 , 109011.5231517 ,\n",
       "       110230.5061311 , 111363.78343255, 112407.01087236, 113362.84265184,\n",
       "       114224.31119591, 114983.89105716, 115635.70704422, 116173.00201529,\n",
       "       116588.90644686, 116877.07470002, 117032.6745961 , 117048.07776467,\n",
       "       116912.09155599, 116617.19999973, 116161.55524988, 115548.45609574,\n",
       "       114775.06007996, 113837.78887789, 112735.91259949, 111469.98115432,\n",
       "       110041.7469953 , 108454.19603087, 106712.18880629, 104819.54178877,\n",
       "       102777.10016033, 100596.09566516,  98294.22729172,  95889.36973839,\n",
       "        93397.74549641,  90834.65436102,  88214.92242316,  85553.93652997,\n",
       "        82870.11898519,  80187.90133296,  77528.61049125,  74915.09951827,\n",
       "        72382.22917294,  69946.48032239,  67609.50841847,  65382.80703336,\n",
       "        63277.36025258,  61300.90923285,  59458.33434384,  57748.43321994,\n",
       "        56163.3454473 ,  54691.60274725,  53316.888418  ,  52018.04486414,\n",
       "        50772.0923519 ,  49546.88392533,  48301.389809  ,  47005.20374924,\n",
       "        45632.26830943,  44159.49204341,  42573.48314209,  40870.87504182,\n",
       "        39060.46237667,  37164.1955755 ,  35215.26439953,  33258.11726687,\n",
       "        31351.15676869,  29550.22371723,  27891.0173607 ,  26401.40698319,\n",
       "        25098.03924206,  23978.15830463,  23022.54867947,  22197.6306784 ,\n",
       "        21457.59341621,  20753.08071989,  20035.50634581,  19265.45860762,\n",
       "        18427.98511598,  17534.82847496,  16624.25653713,  15738.61324179,\n",
       "        14915.26706326,  14175.72316124,  13522.21708625,  12938.94468737,\n",
       "        12399.81652145,  11881.24575833,  11370.12070337,  10874.01815888,\n",
       "        10409.93781037,   9992.70283921,   9614.02850192,   9250.06045712,\n",
       "         8870.46269955,   8463.51375845,   8044.38503819,   7657.23562485,\n",
       "         7341.53818364,   7106.97300787,   6913.69940385,   6696.55579802])"
      ]
     },
     "execution_count": 26,
     "metadata": {},
     "output_type": "execute_result"
    }
   ],
   "source": [
    "Pkl0_folps"
   ]
  },
  {
   "cell_type": "code",
   "execution_count": 27,
   "id": "22bef63a-144d-43eb-b716-0d93e23de3ac",
   "metadata": {},
   "outputs": [
    {
     "data": {
      "image/png": "[encoded data removed]",
      "text/plain": [
       "<Figure size 700x500 with 1 Axes>"
      ]
     },
     "metadata": {},
     "output_type": "display_data"
    }
   ],
   "source": [
    "fig, axs = plt.subplots(figsize=(7,5))\n",
    "axs.set_xlabel(r'$k \\, [h\\, {\\rm Mpc}^{-1}]$', fontsize =  14)\n",
    "axs.set_ylabel(r'$\\Delta P_{\\ell}(k)/ P^{\\rm CLASS-PT}_{\\ell} $', fontsize =  14)\n",
    "\n",
    "\n",
    "axs.plot(kh_folps,  1-Pkl0_folps/Pkl0_classpt, color = 'navy', ls = '-', label = r'$\\ell = 0$')\n",
    "axs.plot(kh_folps,  1-Pkl2_folps/Pkl2_classpt, color = 'maroon', ls = '-.', label = r'$\\ell = 2$')\n",
    "axs.plot(kh_folps,  1-Pkl4_folps/Pkl4_classpt, color = 'darkgreen', ls = '--', label = r'$\\ell = 4$')\n",
    "\n",
    "axs.set_xlim([0.002, 0.2])\n",
    "#axs.set_ylim([-1e-2, 2e-2])\n",
    "\n",
    "leg1 = axs.legend(loc = 'best');\n",
    "leg1.get_frame().set_linewidth(0.0);\n",
    "\n",
    "plt.show()"
   ]
  },
  {
   "cell_type": "code",
   "execution_count": 29,
   "id": "6a2c0eba-5328-4cc7-805f-8df4b8497f3d",
   "metadata": {},
   "outputs": [
    {
     "data": {
      "image/png": "[encoded data removed]",
      "text/plain": [
       "<Figure size 700x500 with 1 Axes>"
      ]
     },
     "metadata": {},
     "output_type": "display_data"
    }
   ],
   "source": [
    "import matplotlib.pyplot as plt\n",
    "import matplotlib.ticker as ticker\n",
    "\n",
    "fig, axs = plt.subplots(figsize=(7,5))\n",
    "\n",
    "axs.set_xlabel(r'$k \\, [h\\, {\\rm Mpc}^{-1}]$', fontsize=15)\n",
    "axs.set_ylabel(r'$\\Delta P_{\\ell}(k)/ P^{\\rm CLASS-PT}_{\\ell} $', fontsize=15)\n",
    "\n",
    "axs.plot(kh_folps,  1 - Pkl0_folps / Pkl0_classpt, color='navy', ls='-', label=r'$\\ell = 0$')\n",
    "axs.plot(kh_folps,  1 - Pkl2_folps / Pkl2_classpt, color='maroon', ls='-.', label=r'$\\ell = 2$')\n",
    "\n",
    "axs.set_xlim([0.002, 0.2])\n",
    "#axs.set_ylim([-5e-3, 5e-3])\n",
    "\n",
    "# Configurar notación científica en el eje y\n",
    "axs.yaxis.set_major_formatter(ticker.ScalarFormatter(useMathText=True))\n",
    "axs.ticklabel_format(axis='y', style='sci', scilimits=(-2,2))\n",
    "\n",
    "leg1 = axs.legend(loc='best')\n",
    "leg1.get_frame().set_linewidth(0.0)\n",
    "#plt.savefig(\"plot.pdf\", format=\"pdf\", bbox_inches=\"tight\")\n",
    "\n",
    "plt.show()\n"
   ]
  },
  {
   "cell_type": "code",
   "execution_count": 23,
   "id": "5b16d6a2-6c18-4cfb-af27-340b73f05c2a",
   "metadata": {},
   "outputs": [
    {
     "data": {
      "text/plain": [
       "array([104878.46833721, 106285.15408813, 107633.86620569, 108918.45012874,\n",
       "       110130.26211532, 111255.94248696, 112291.13486481, 113238.47560947,\n",
       "       114090.99056486, 114841.1507718 , 115483.07900996, 116010.02053036,\n",
       "       116415.11263764, 116692.02064375, 116835.92555495, 116839.22376666,\n",
       "       116690.76173367, 116383.06506455, 115914.3227167 , 115287.8651106 ,\n",
       "       114500.90229255, 113549.91893685, 112434.25098513, 111154.5188839 ,\n",
       "       109712.55148102, 108111.41593166, 106356.05383029, 104450.37641026,\n",
       "       102395.34428985, 100202.2663873 ,  97888.89233932,  95473.13790026,\n",
       "        92971.26797093,  90398.62406266,  87770.06815721,  85101.01124663,\n",
       "        82409.86664185,  79720.99088081,  77055.63245263,  74436.51671646,\n",
       "        71898.2280923 ,  69457.09043637,  67114.69723922,  64882.37759658,\n",
       "        62770.92778991,  60787.89937317,  58937.98713998,  57219.85744424,\n",
       "        55625.59025337,  54143.71946287,  52758.02574647,  51447.56096924,\n",
       "        50189.64924948,  48952.70106099,  47696.52604468,  46391.51262817,\n",
       "        45012.44078252,  43537.11669432,  41952.94549421,  40257.19670316,\n",
       "        38459.03686416,  36580.39012856,  34654.00264075,  32723.34077917,\n",
       "        30844.98349158,  29072.66722008,  27440.28141774,  25973.86206821,\n",
       "        24688.43347094,  23580.28818261,  22630.09568211,  21805.07839978,\n",
       "        21061.34505575,  20352.30762996,  19632.84689514,  18867.37293463,\n",
       "        18043.60329083,  17174.05923539,  16294.80964462,  15444.35429395,\n",
       "        14655.19942273,  13944.02390661,  13309.73342103,  12735.45572812,\n",
       "        12197.20442778,  11675.79084582,  11164.24596203,  10676.39382467,\n",
       "        10231.24106398,   9839.88298485,   9487.38294139,   9143.64230857,\n",
       "         8774.68336469,   8369.99018215,   7949.35077161,   7563.5720139 ,\n",
       "         7255.68278034,   7034.80757493,   6855.87815544,   6648.25931784])"
      ]
     },
     "execution_count": 23,
     "metadata": {},
     "output_type": "execute_result"
    }
   ],
   "source": [
    "Pkl0_folps"
   ]
  },
  {
   "cell_type": "code",
   "execution_count": 24,
   "id": "e5e23b4a-c761-4a1d-9d1e-d580d3532298",
   "metadata": {},
   "outputs": [
    {
     "data": {
      "text/plain": [
       "0.8399141549372501"
      ]
     },
     "execution_count": 24,
     "metadata": {},
     "output_type": "execute_result"
    }
   ],
   "source": [
    "FOLPS.f0"
   ]
  },
  {
   "cell_type": "code",
   "execution_count": null,
   "id": "dc5c5b9a-f85d-4b36-b78a-6052ad718049",
   "metadata": {},
   "outputs": [],
   "source": []
  },
  {
   "cell_type": "code",
   "execution_count": null,
   "id": "a8642bc0-e12a-4aa5-acb1-3f4e1251453a",
   "metadata": {},
   "outputs": [],
   "source": []
  },
  {
   "cell_type": "code",
   "execution_count": null,
   "id": "af7421ce-3491-453e-ac00-ce9ec5380b4f",
   "metadata": {},
   "outputs": [],
   "source": []
  },
  {
   "cell_type": "code",
   "execution_count": null,
   "id": "b666b5e7-f95b-47ff-a0d3-e69999d64f25",
   "metadata": {},
   "outputs": [],
   "source": []
  },
  {
   "cell_type": "code",
   "execution_count": null,
   "id": "2280adf1-3520-477d-9a77-e4ae7cbe962b",
   "metadata": {},
   "outputs": [],
   "source": []
  },
  {
   "cell_type": "code",
   "execution_count": null,
   "id": "76826c25-508a-472e-b9cf-a63816ad4150",
   "metadata": {},
   "outputs": [],
   "source": []
  },
  {
   "cell_type": "code",
   "execution_count": null,
   "id": "ecaaea40-d676-4885-af41-9413f5ba1606",
   "metadata": {},
   "outputs": [],
   "source": []
  }
 ],
 "metadata": {
  "kernelspec": {
   "display_name": "Python 3 (ipykernel)",
   "language": "python",
   "name": "python3"
  },
  "language_info": {
   "codemirror_mode": {
    "name": "ipython",
    "version": 3
   },
   "file_extension": ".py",
   "mimetype": "text/x-python",
   "name": "python",
   "nbconvert_exporter": "python",
   "pygments_lexer": "ipython3",
   "version": "3.10.4"
  }
 },
 "nbformat": 4,
 "nbformat_minor": 5
}
