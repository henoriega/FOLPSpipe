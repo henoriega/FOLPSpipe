{
 "cells": [
  {
   "cell_type": "code",
   "execution_count": 1,
   "id": "9b66cf78",
   "metadata": {
    "tags": []
   },
   "outputs": [],
   "source": [
    "# Import standard libraries\n",
    "import numpy as np\n",
    "import matplotlib\n",
    "import matplotlib.pyplot as plt"
   ]
  },
  {
   "cell_type": "code",
   "execution_count": 2,
   "id": "5a89c2b6",
   "metadata": {},
   "outputs": [
    {
     "name": "stderr",
     "output_type": "stream",
     "text": [
      "/home/hernan/anaconda3/envs/classpt/lib/python3.10/site-packages/scipy/__init__.py:146: UserWarning: A NumPy version >=1.17.3 and <1.25.0 is required for this version of SciPy (detected version 1.26.4\n",
      "  warnings.warn(f\"A NumPy version >={np_minversion} and <{np_maxversion}\"\n"
     ]
    }
   ],
   "source": [
    "# Class\n",
    "from use_fkpt import *"
   ]
  },
  {
   "cell_type": "code",
   "execution_count": 3,
   "id": "33f000a6",
   "metadata": {
    "tags": []
   },
   "outputs": [],
   "source": [
    "# Import routine\n",
    "import sys\n",
    "sys.path.append('../')\n",
    "#import FMG_new_v2 as folps\n",
    "import FOLPSnu_v3_May25 as folps"
   ]
  },
  {
   "cell_type": "code",
   "execution_count": 4,
   "id": "4f0a4ce9-031b-4b5d-9d7f-fffcb009183a",
   "metadata": {},
   "outputs": [],
   "source": [
    "import matplotlib\n",
    "import matplotlib.pyplot as plt\n",
    "import numpy as np\n",
    "from numpy.fft import fft, ifft , rfft, irfft , fftfreq\n",
    "from numpy import exp, log, log10, cos, sin, pi, cosh, sinh , sqrt\n",
    "from classy import Class\n",
    "from scipy.optimize import fsolve\n",
    "from scipy.special import gamma\n",
    "from scipy.special import hyp2f1\n",
    "from scipy import interpolate\n",
    "import sys,os\n",
    "from time import time\n",
    "from scipy.integrate import quad\n",
    "import scipy.integrate as integrate\n",
    "from scipy import special\n",
    "from scipy.special import factorial\n",
    "import math"
   ]
  },
  {
   "cell_type": "code",
   "execution_count": 5,
   "id": "a6f93da9-d7a9-49d3-bb3e-a70a9eac60ec",
   "metadata": {},
   "outputs": [],
   "source": [
    "def bias_transf(b1_L, b2_L, bs_L, b3_L, biasout=\"folps\"):\n",
    "    # Cálculo de b_pyb\n",
    "    b1_pyb = b1_L + 1\n",
    "    b2_pyb = 7/2 * (2/7 + bs_L)\n",
    "    b3_pyb = 7/441 * (42 - 145 * b1_L - 21 * b3_L + 630 * bs_L)\n",
    "    b4_pyb = -7/5 * (b1_L - 1) - 7/10 * b2_L\n",
    "\n",
    "    # Cálculo de b_classpt\n",
    "    b1_classpt = b1_pyb\n",
    "    b2_classpt = 2 * (b2_pyb + b4_pyb - b1_pyb)\n",
    "    bG2_classpt = 2/7 * (b2_pyb - b1_pyb)\n",
    "    bGamma3_classpt = 1/6 * (b3_pyb - b1_pyb) - 5/7 * (b2_pyb - b1_pyb)\n",
    "\n",
    "    # Cálculo de b_folps\n",
    "    b1_folps = b1_classpt\n",
    "    b2_folps = b2_classpt - 4/3 * bG2_classpt\n",
    "    bs_folps = 2 * bG2_classpt\n",
    "    b3nl_folps = -32/21 * (bG2_classpt + 2/5 * bGamma3_classpt)\n",
    "\n",
    "    # Retornar los valores según el valor de biasout\n",
    "    if biasout == \"folps\":\n",
    "        return b1_folps, b2_folps, bs_folps, b3nl_folps\n",
    "    elif biasout == \"classpt\":\n",
    "        return b1_classpt, b2_classpt, bG2_classpt, bGamma3_classpt\n",
    "    elif biasout == \"pyb\":\n",
    "        return b1_pyb, b2_pyb, b3_pyb, b4_pyb\n",
    "    else:\n",
    "        raise ValueError(\"Opción inválida para biasout. Elija entre 'folps', 'classpt', o 'pyb'.\")"
   ]
  },
  {
   "cell_type": "code",
   "execution_count": 6,
   "id": "935bf03e-80e9-4b10-98f3-60c8bda18fc1",
   "metadata": {},
   "outputs": [],
   "source": [
    "from scipy.interpolate import CubicSpline\n",
    "def interp(k, x, y):\n",
    "    '''Cubic spline interpolation.\n",
    "    \n",
    "    Args:\n",
    "        k: coordinates at which to evaluate the interpolated values.\n",
    "        x: x-coordinates of the data points.\n",
    "        y: y-coordinates of the data points.\n",
    "    Returns:\n",
    "        Cubic interpolation of ‘y’ evaluated at ‘k’.\n",
    "    '''\n",
    "    inter = CubicSpline(x, y)\n",
    "    return inter(k)"
   ]
  },
  {
   "cell_type": "markdown",
   "id": "b3bdcee2",
   "metadata": {},
   "source": [
    "#### classpt"
   ]
  },
  {
   "cell_type": "code",
   "execution_count": 7,
   "id": "adca1235",
   "metadata": {},
   "outputs": [],
   "source": [
    "from cosmo_class import *\n",
    "#omega_i = Omega_i h² \n",
    "omega_b = 0.022;        #baryons\n",
    "omega_cdm = 0.122;       #CDM\n",
    "omega_ncdm = 0.0006442;    #massive neutrinos \n",
    "h = 0.6711;                 #h = H0/100\n",
    "z_pk = 0.3;  #evaluation redshift\n",
    "z_pk_scale = 0.97\n",
    "CosmoParams = [z_pk, omega_b, omega_cdm, omega_ncdm, h]\n",
    "\n",
    "As = 2e-9\n",
    "ns = 0.965\n",
    "N_ur = 2.0328\n",
    "#ps = run_class(h = 0.6711, ombh2 = 0.022, omch2 = 0.122, omnuh2 = 0.0006442, \n",
    "#            As = 2e-9, ns = 0.965, z = z_pk, z_scale=[0.97],\n",
    "#            N_ur = 2.0328,\n",
    "#            khmin = 0.0001, khmax = 2.0, nbk = 1000, spectra = 'cb')\n",
    "\n",
    "\n",
    "\n",
    "\n",
    "speed_of_light = 2.99792458e5\n",
    "\n",
    "\n",
    "\n",
    "\n",
    "common_settings = {# fixed LambdaCDM parameters\n",
    "                   'P_k_max_h/Mpc': 20.,\n",
    "                    'z_pk': z_pk,\n",
    "                    'A_s': As,\n",
    "                    'n_s': ns,\n",
    "                    'h': h,\n",
    "                    'N_ur': N_ur,\n",
    "                    'N_ncdm': 1,\n",
    "                    'omega_ncdm': omega_ncdm,\n",
    "                    # 'm_ncdm': mnu,\n",
    "                    #'tau_reio': 0.0568,\n",
    "                    'omega_b': omega_b,\n",
    "                    'omega_cdm': omega_cdm}  \n",
    "\n",
    "M = Class()\n",
    "M.set(common_settings)\n",
    "#let's first take a look at the one-loop power spectrum for matter without IR resummation\n",
    "M.set({ 'output':'mPk',\n",
    "       'non linear':'PT',\n",
    "       'IR resummation':'No',\n",
    "       'Bias tracers':'Yes'\n",
    "       ,'cb':'Yes'\n",
    "      })\n",
    "M.compute()\n",
    "#now we compute all the spectra including IR resummation, RSD, \n",
    "#and AP generated for a fiducial cosmology with Ωm=0.31\\Omega_m=0.31 \n",
    "M1 = Class()\n",
    "M1.set(common_settings)\n",
    "M1.set({'output':'mPk',\n",
    "        'non linear':'PT',\n",
    "        'IR resummation':'No',\n",
    "        'Bias tracers':'Yes',\n",
    "        'cb':'Yes',\n",
    "        'RSD':'Yes',\n",
    "        'AP':'No',\n",
    "        'Omfid':'0.31',\n",
    "        'FFTLog mode':'Normal'\n",
    "       })\n",
    "M1.compute()"
   ]
  },
  {
   "cell_type": "code",
   "execution_count": 8,
   "id": "2a89e0a0-d032-4619-bfaa-4f37e96b6241",
   "metadata": {},
   "outputs": [],
   "source": [
    "kvec = np.logspace(-3,np.log10(3),1000) # array of kvec in h/Mpc\n",
    "khvec = kvec*h"
   ]
  },
  {
   "cell_type": "code",
   "execution_count": 9,
   "id": "50468ac3-6669-4508-bdcf-ca32a1d42b64",
   "metadata": {},
   "outputs": [],
   "source": [
    "M.initialize_output(khvec, z_pk, len(khvec))\n",
    "M1.initialize_output(khvec, z_pk, len(khvec))"
   ]
  },
  {
   "cell_type": "code",
   "execution_count": 10,
   "id": "0ec25410-9401-448f-a983-67363936044c",
   "metadata": {},
   "outputs": [],
   "source": [
    "#Bias param: Vel\n",
    "b1_L = 2.0;                 \n",
    "b2_L = -0.5;                 \n",
    "bs_L = 1.0;        \n",
    "b3_L = 0.5;  \n",
    "\n",
    "b1_classpt, b2_classpt, bG2_classpt, bGamma3_classpt =  bias_transf(b1_L=b1_L, b2_L=b2_L, bs_L=bs_L, b3_L=b3_L, biasout=\"classpt\")"
   ]
  },
  {
   "cell_type": "code",
   "execution_count": 11,
   "id": "0223a4aa-d7eb-4f68-ad20-637061e26e6f",
   "metadata": {},
   "outputs": [
    {
     "name": "stdout",
     "output_type": "stream",
     "text": [
      "bias_classpt: (3.0, 0.9000000000000004, 0.42857142857142855, -0.5886243386243387)\n"
     ]
    }
   ],
   "source": [
    "# NUISANCE PARAMETERS - CLASSPT\n",
    "\n",
    "b1_classpt = b1_classpt;                 \n",
    "cs = 0. # in units [Mpc/h]^2\n",
    "b2_classpt = b2_classpt\n",
    "bG2_classpt = bG2_classpt\n",
    "bGamma3_classpt = bGamma3_classpt\n",
    "Pshot = 0.0 # in units [Mpc/h]^3\n",
    "cs0 = 0. # in units [Mpc/h]^2\n",
    "cs2 = 0. # in units [Mpc/h]^2\n",
    "cs4 = 0. # in units [Mpc/h]^2\n",
    "b4 = 0. # in units [Mpc/h]^4\n",
    "##############################\n",
    "\n",
    "Pkl0_classpt_ = M1.pk_gg_l0(b1_classpt, b2_classpt, bG2_classpt, bGamma3_classpt, cs0, Pshot, b4)\n",
    "Pkl2_classpt_ = M1.pk_gg_l2(b1_classpt, b2_classpt, bG2_classpt, bGamma3_classpt, cs2, b4)\n",
    "Pkl4_classpt_ = M1.pk_gg_l4(b1_classpt, b2_classpt, bG2_classpt, bGamma3_classpt, cs4, b4)\n",
    "print('bias_classpt:', (b1_classpt, b2_classpt, bG2_classpt, bGamma3_classpt))"
   ]
  },
  {
   "cell_type": "code",
   "execution_count": 12,
   "id": "73c0abcb-5cb4-4c78-bcca-d0a2c098cc10",
   "metadata": {},
   "outputs": [],
   "source": [
    "k_ev = np.logspace(np.log10(0.01), np.log10(0.3), num=100)"
   ]
  },
  {
   "cell_type": "code",
   "execution_count": 13,
   "id": "38d7eb96-c4cc-44ed-a58a-d2868ac972eb",
   "metadata": {},
   "outputs": [],
   "source": [
    "Pkl0_classpt = interp(k_ev, kvec, Pkl0_classpt_)\n",
    "Pkl2_classpt = interp(k_ev, kvec, Pkl2_classpt_)\n",
    "Pkl4_classpt = interp(k_ev, kvec, Pkl4_classpt_)"
   ]
  },
  {
   "cell_type": "markdown",
   "id": "3f9fb394-a569-4aaa-a45d-085d016a9cce",
   "metadata": {},
   "source": [
    "## folps"
   ]
  },
  {
   "cell_type": "code",
   "execution_count": 14,
   "id": "0d7349d6-5e52-4974-99f9-325d775e365d",
   "metadata": {},
   "outputs": [],
   "source": [
    "CosmoParams = [z_pk, omega_b, omega_cdm, omega_ncdm, h]"
   ]
  },
  {
   "cell_type": "code",
   "execution_count": 15,
   "id": "e1de9ccc",
   "metadata": {},
   "outputs": [],
   "source": [
    "inputpkT = np.loadtxt('pklin_24jul.txt', unpack=True)"
   ]
  },
  {
   "cell_type": "code",
   "execution_count": 16,
   "id": "98890d3a",
   "metadata": {},
   "outputs": [],
   "source": [
    "b1_folps, b2_folps, bs2_folps, b3nl_folps =  bias_transf(b1_L=b1_L, b2_L=b2_L, bs_L=bs_L, b3_L=b3_L, biasout=\"folps\")"
   ]
  },
  {
   "cell_type": "code",
   "execution_count": 17,
   "id": "54bffb8a-a11a-47c0-b3f0-a664f0e4755a",
   "metadata": {},
   "outputs": [
    {
     "name": "stdout",
     "output_type": "stream",
     "text": [
      "[3.0, 0.9000000000000004, 0.42857142857142855, -0.5886243386243387, 0.0, 0.0, 0.0, 0.0, 0.0, 0.0, 0.0]\n"
     ]
    }
   ],
   "source": [
    "#EFT parameters\n",
    "alpha0 = 0.0;               #units: [Mpc/h]^2\n",
    "alpha2 = 0.0;               #units: [Mpc/h]^2\n",
    "alpha4 = 0.0;               #units: [Mpc/h]^2\n",
    "ctilde = 0.0;               #units: [Mpc/h]^4\n",
    "\n",
    "#Stochatics parameters\n",
    "alphashot0 = 0.0;         \n",
    "alphashot2 = 0.0;          #units: [Mpc/h]^2      \n",
    "PshotP = 0.0;              #units: [Mpc/h]^3\n",
    "NuisanParams_folps = [b1_classpt, b2_classpt, bG2_classpt, bGamma3_classpt, alpha0, alpha2, alpha4, ctilde, alphashot0, alphashot2, PshotP]\n",
    "\n",
    "print(NuisanParams_folps)"
   ]
  },
  {
   "cell_type": "code",
   "execution_count": 18,
   "id": "b4c880ea-ad20-4aea-b3fa-67897ba069b7",
   "metadata": {},
   "outputs": [
    {
     "name": "stdout",
     "output_type": "stream",
     "text": [
      "N = 128 sampling points\n",
      "M matrices have been computed\n"
     ]
    }
   ],
   "source": [
    "matrices = folps.Matrices(Nfftlog=128, A_full=True)"
   ]
  },
  {
   "cell_type": "code",
   "execution_count": 19,
   "id": "6a934d9b-776a-4ede-a35f-28630943bb09",
   "metadata": {},
   "outputs": [],
   "source": [
    "def get_multipoles(k_ev=None, inputpkl=None, CosmoParams=None, NuisanParams=None, bias = \"folps\"):\n",
    "    \n",
    "    nonlinear = folps.NonLinear(inputpkl=inputpkT, CosmoParams=CosmoParams, EdSkernels=True)\n",
    "    \n",
    "    kh, Pkl0, Pkl2, Pkl4 = folps.RSDmultipoles(kev=k_ev, NuisanParams=NuisanParams, Omfid = 0.31,\n",
    "                                               AP = False, IR=False, bias=bias)\n",
    "    return kh, Pkl0, Pkl2, Pkl4"
   ]
  },
  {
   "cell_type": "code",
   "execution_count": 20,
   "id": "fcf18ba4-d49e-45e9-835a-3c05995dc699",
   "metadata": {},
   "outputs": [
    {
     "name": "stdout",
     "output_type": "stream",
     "text": [
      "[-3.57276168e-02 -4.16369952e-02 -4.85167247e-02 -5.65242650e-02\n",
      " -6.58420955e-02 -7.66819852e-02 -8.92891513e-02 -1.03947211e-01\n",
      " -1.20984439e-01 -1.40780725e-01 -1.63774993e-01 -1.90473304e-01\n",
      " -2.21460397e-01 -2.57410207e-01 -2.99098939e-01 -3.47418428e-01\n",
      " -4.03397350e-01 -4.68215697e-01 -5.43226619e-01 -6.29981308e-01\n",
      " -7.30260774e-01 -8.46099114e-01 -9.79815372e-01 -1.13406246e+00\n",
      " -1.31186758e+00 -1.51667060e+00 -1.75236331e+00 -2.02339020e+00\n",
      " -2.33478018e+00 -2.69221059e+00 -3.10206055e+00 -3.57157447e+00\n",
      " -4.10887667e+00 -4.72305319e+00 -5.42425462e+00 -6.22386885e+00\n",
      " -7.13454475e+00 -8.17023958e+00 -9.34647287e+00 -1.06803361e+01\n",
      " -1.21905733e+01 -1.38974575e+01 -1.58234493e+01 -1.79925154e+01\n",
      " -2.04303131e+01 -2.31640807e+01 -2.62233374e+01 -2.96384247e+01\n",
      " -3.34402780e+01 -3.76608886e+01 -4.23331972e+01 -4.74890392e+01\n",
      " -5.31572769e+01 -5.93660850e+01 -6.61403687e+01 -7.35001616e+01\n",
      " -8.14566775e+01 -9.00171962e+01 -9.91782466e+01 -1.08925247e+02\n",
      " -1.19235742e+02 -1.30081984e+02 -1.41422660e+02 -1.53202595e+02\n",
      " -1.65371483e+02 -1.77907085e+02 -1.90792801e+02 -2.04018026e+02\n",
      " -2.17588503e+02 -2.31610584e+02 -2.46267591e+02 -2.61801279e+02\n",
      " -2.78488643e+02 -2.96680501e+02 -3.16815454e+02 -3.39401681e+02\n",
      " -3.64809574e+02 -3.93320056e+02 -4.24948504e+02 -4.59309094e+02\n",
      " -4.95501327e+02 -5.32060614e+02 -5.67012827e+02 -5.98219277e+02\n",
      " -6.23855458e+02 -6.43083312e+02 -6.56740052e+02 -6.67590300e+02\n",
      " -6.80088224e+02 -6.99499363e+02 -7.30225800e+02 -7.73668792e+02\n",
      " -8.26584946e+02 -8.80216393e+02 -9.22542905e+02 -9.44534574e+02\n",
      " -9.46916716e+02 -9.42694104e+02 -9.50592520e+02 -9.83089817e+02\n",
      " -1.03579376e+03 -1.08616917e+03 -1.10858077e+03 -1.10307236e+03\n",
      " -1.09752103e+03 -1.11828395e+03 -1.15991963e+03 -1.18830824e+03\n",
      " -1.18679175e+03 -1.18314644e+03 -1.20296259e+03 -1.22625215e+03\n",
      " -1.22777997e+03 -1.22644169e+03 -1.23907291e+03 -1.24549807e+03\n",
      " -1.24301384e+03 -1.24649329e+03 -1.24801688e+03 -1.24455891e+03]\n",
      "[-3.49876016e-02 -4.07500043e-02 -4.74566071e-02 -5.52566268e-02\n",
      " -6.43256074e-02 -7.48669847e-02 -8.71159253e-02 -1.01343974e-01\n",
      " -1.17864932e-01 -1.37041242e-01 -1.59290813e-01 -1.85094411e-01\n",
      " -2.15006576e-01 -2.49664816e-01 -2.89801712e-01 -3.36256388e-01\n",
      " -3.89994938e-01 -4.52122072e-01 -5.23900692e-01 -6.06774040e-01\n",
      " -7.02394570e-01 -8.12642771e-01 -9.39654147e-01 -1.08586371e+00\n",
      " -1.25403980e+00 -1.44731520e+00 -1.66921697e+00 -1.92376057e+00\n",
      " -2.21546830e+00 -2.54942176e+00 -2.93130109e+00 -3.36753612e+00\n",
      " -3.86530100e+00 -4.43257922e+00 -5.07825099e+00 -5.81224521e+00\n",
      " -6.64554344e+00 -7.59021398e+00 -8.65965164e+00 -9.86857835e+00\n",
      " -1.12331239e+01 -1.27707362e+01 -1.45008196e+01 -1.64441583e+01\n",
      " -1.86231781e+01 -2.10619827e+01 -2.37870926e+01 -2.68263812e+01\n",
      " -3.02091945e+01 -3.39670703e+01 -3.81340130e+01 -4.27452913e+01\n",
      " -4.78365858e+01 -5.34462734e+01 -5.96141741e+01 -6.63810109e+01\n",
      " -7.37861445e+01 -8.18710502e+01 -9.06750228e+01 -1.00234563e+02\n",
      " -1.10585395e+02 -1.21762225e+02 -1.33789547e+02 -1.46675894e+02\n",
      " -1.60424071e+02 -1.75046650e+02 -1.90534413e+02 -2.06840003e+02\n",
      " -2.23881259e+02 -2.41611442e+02 -2.59986118e+02 -2.78929926e+02\n",
      " -2.98340972e+02 -3.18116968e+02 -3.38200028e+02 -3.58614328e+02\n",
      " -3.79331741e+02 -4.00406596e+02 -4.21947198e+02 -4.44145141e+02\n",
      " -4.67276404e+02 -4.91708886e+02 -5.17883054e+02 -5.46088423e+02\n",
      " -5.76373771e+02 -6.08365667e+02 -6.41207601e+02 -6.73685956e+02\n",
      " -7.04734947e+02 -7.33833491e+02 -7.61181536e+02 -7.87398300e+02\n",
      " -8.13263114e+02 -8.39590932e+02 -8.66830566e+02 -8.94717363e+02\n",
      " -9.22147678e+02 -9.48282413e+02 -9.73650664e+02 -9.99144006e+02\n",
      " -1.02384992e+03 -1.04648029e+03 -1.06632758e+03 -1.08565647e+03\n",
      " -1.10504278e+03 -1.12304097e+03 -1.13976662e+03 -1.15560840e+03\n",
      " -1.16980486e+03 -1.18160776e+03 -1.19268160e+03 -1.20259411e+03\n",
      " -1.21127035e+03 -1.21846464e+03 -1.22363700e+03 -1.22777490e+03\n",
      " -1.23087350e+03 -1.23255071e+03 -1.23238999e+03 -1.23136887e+03]\n"
     ]
    }
   ],
   "source": [
    "kh_folps, Pkl0_folps, Pkl2_folps, Pkl4_folps = get_multipoles(k_ev=k_ev,\n",
    "                                                              inputpkl=inputpkT, \n",
    "                                                              CosmoParams=CosmoParams, \n",
    "                                                              NuisanParams=NuisanParams_folps,\n",
    "                                                              bias=\"classpt\")"
   ]
  },
  {
   "cell_type": "markdown",
   "id": "a7e42fa3-1049-4790-a609-7566c583d92a",
   "metadata": {},
   "source": [
    "### folps new"
   ]
  },
  {
   "cell_type": "code",
   "execution_count": 21,
   "id": "b16bc151-74de-4a66-898e-4365dcdd1803",
   "metadata": {},
   "outputs": [
    {
     "name": "stdout",
     "output_type": "stream",
     "text": [
      "✅ Using NumPy with CPU.\n",
      "kwargs =  {'z': 0.3, 'h': 0.6711, 'Omega_m': 0.3211636237981114, 'f0': 0.6900011469771554, 'fnu': 0.004453689063655854}\n",
      "Loading matrices from matrices_nfftlog128_AfullTrue.npy\n"
     ]
    }
   ],
   "source": [
    "from folps_newtest import *\n",
    "\n",
    "kwargs = {'z': 0.3,\n",
    " 'h': 0.6711,\n",
    " 'Omega_m': 0.3211636237981114,\n",
    " 'f0': 0.6900011469771554,\n",
    " 'fnu': 0.004453689063655854}\n",
    "\n",
    "print('kwargs = ', kwargs)\n",
    "\n",
    "matrix = MatrixCalculator(A_full=True)\n",
    "mmatrices = matrix.get_mmatrices()"
   ]
  },
  {
   "cell_type": "code",
   "execution_count": 22,
   "id": "bbc8733e-300b-4047-8011-45a72bb6d6ea",
   "metadata": {},
   "outputs": [],
   "source": [
    "nonlinear = NonLinearPowerSpectrumCalculator(mmatrices=mmatrices,\n",
    "                                             kernels='eds',\n",
    "                                             **kwargs)"
   ]
  },
  {
   "cell_type": "code",
   "execution_count": 23,
   "id": "caeb780b-e8f2-464d-9791-913285778cbc",
   "metadata": {},
   "outputs": [],
   "source": [
    "table, table_now = nonlinear.calculate_loop_table(k=inputpkT[0], pklin=inputpkT[1], #cosmo=ps['cosmo'],\n",
    "                                             **kwargs)"
   ]
  },
  {
   "cell_type": "code",
   "execution_count": 24,
   "id": "6004f796-a623-413f-8cb5-b6442fc19c87",
   "metadata": {},
   "outputs": [],
   "source": [
    "multipoles = RSDMultipolesPowerSpectrumCalculator(model='EFT')"
   ]
  },
  {
   "cell_type": "code",
   "execution_count": 25,
   "id": "3e947a49-9f8a-4777-ab3a-cc9cc2ed4483",
   "metadata": {},
   "outputs": [],
   "source": [
    "qpar, qper = 1., 1.\n",
    "P0, P2, P4  = multipoles.get_rsd_pkell(kobs=k_ev, qpar=qpar, qper=qper, pars=NuisanParams_folps, table=table, table_now=table_now,\n",
    "                                      bias_scheme='classpt', IR_resummation=False)"
   ]
  },
  {
   "cell_type": "code",
   "execution_count": 27,
   "id": "a5654ce3-6c1c-43cb-9d2b-bda87df55ee8",
   "metadata": {},
   "outputs": [
    {
     "data": {
      "image/png": "[encoded data removed]",
      "text/plain": [
       "<Figure size 700x500 with 1 Axes>"
      ]
     },
     "metadata": {},
     "output_type": "display_data"
    }
   ],
   "source": [
    "fig, axs = plt.subplots(figsize=(7,5))\n",
    "axs.set_xlabel(r'$k \\, [h\\, {\\rm Mpc}^{-1}]$', fontsize =  14)\n",
    "axs.set_ylabel(r'$\\Delta P_{\\ell}(k)/ P^{\\rm CLASS-PT}_{\\ell} $', fontsize =  14)\n",
    "\n",
    "\n",
    "axs.plot(kh_folps, kh_folps * Pkl0_classpt, color = 'navy', ls = '-', label = r'$\\ell = 0$')\n",
    "axs.plot(kh_folps, kh_folps * Pkl0_folps, color = 'navy', ls = '--', lw=3)\n",
    "axs.plot(kh_folps, kh_folps * P0, color = 'k', ls = ':', lw=3)\n",
    "\n",
    "axs.plot(kh_folps, kh_folps * Pkl2_classpt, color = 'maroon', ls = '-', label = r'$\\ell = 2$')\n",
    "axs.plot(kh_folps, kh_folps * Pkl2_folps, color = 'maroon', ls = '--', lw=3)\n",
    "axs.plot(kh_folps, kh_folps * P2, color = 'k', ls = ':', lw=3)\n",
    "\n",
    "axs.plot(kh_folps, kh_folps * Pkl4_classpt, color = 'green', ls = '-', label = r'$\\ell = 4$')\n",
    "axs.plot(kh_folps, kh_folps * Pkl4_folps, color = 'green', ls = '--', lw=3)\n",
    "axs.plot(kh_folps, kh_folps * P4, color = 'k', ls = ':', lw=3)\n",
    "\n",
    "#axs.plot(kh_folps,  abs(1-Pkl4_folps/Pkl4_classpt)*100, color = 'darkgreen', ls = '--', label = r'$\\ell = 4$')\n",
    "\n",
    "axs.set_xlim([0.002, 0.2])\n",
    "#axs.set_ylim([-1e-2, 2e-2])\n",
    "\n",
    "leg1 = axs.legend(loc = 'best');\n",
    "leg1.get_frame().set_linewidth(0.0);\n",
    "\n",
    "plt.show()"
   ]
  },
  {
   "cell_type": "code",
   "execution_count": 31,
   "id": "76161e34-254d-4ead-bd81-ed0542a2ce4f",
   "metadata": {},
   "outputs": [
    {
     "data": {
      "image/png": "[encoded data removed]",
      "text/plain": [
       "<Figure size 700x500 with 1 Axes>"
      ]
     },
     "metadata": {},
     "output_type": "display_data"
    }
   ],
   "source": [
    "fig, axs = plt.subplots(figsize=(7,5))\n",
    "axs.set_xlabel(r'$k \\, [h\\, {\\rm Mpc}^{-1}]$', fontsize =  14)\n",
    "axs.set_ylabel(r'$\\Delta P_{\\ell}(k)/ P^{\\rm CLASS-PT}_{\\ell} $', fontsize =  14)\n",
    "\n",
    "\n",
    "axs.plot(kh_folps,  abs(1-Pkl0_folps/Pkl0_classpt)*100, color = 'navy', ls = '-', label = r'$\\ell = 0$')\n",
    "axs.plot(kh_folps,  abs(1-Pkl2_folps/Pkl2_classpt)*100, color = 'maroon', ls = '-.', label = r'$\\ell = 2$')\n",
    "axs.plot(kh_folps,  abs(1-Pkl4_folps/Pkl4_classpt)*100, color = 'darkgreen', ls = '--', label = r'$\\ell = 4$')\n",
    "\n",
    "\n",
    "axs.plot(kh_folps,  abs(1-P0/Pkl0_classpt)*100, color = 'navy', ls = ':', lw=3)\n",
    "axs.plot(kh_folps,  abs(1-P2/Pkl2_classpt)*100, color = 'maroon', ls = ':', lw=3)\n",
    "axs.plot(kh_folps,  abs(1-P4/Pkl4_classpt)*100, color = 'darkgreen', ls = ':', lw=3)\n",
    "axs.set_xlim([0.002, 0.2])\n",
    "#axs.set_ylim([-1e-2, 2e-2])\n",
    "\n",
    "leg1 = axs.legend(loc = 'best');\n",
    "leg1.get_frame().set_linewidth(0.0);\n",
    "\n",
    "plt.show()"
   ]
  },
  {
   "cell_type": "code",
   "execution_count": null,
   "id": "cbf3160b-a834-42ff-a795-8ac1a2df75b5",
   "metadata": {},
   "outputs": [],
   "source": []
  }
 ],
 "metadata": {
  "kernelspec": {
   "display_name": "Python 3 (ipykernel)",
   "language": "python",
   "name": "python3"
  },
  "language_info": {
   "codemirror_mode": {
    "name": "ipython",
    "version": 3
   },
   "file_extension": ".py",
   "mimetype": "text/x-python",
   "name": "python",
   "nbconvert_exporter": "python",
   "pygments_lexer": "ipython3",
   "version": "3.10.4"
  }
 },
 "nbformat": 4,
 "nbformat_minor": 5
}
