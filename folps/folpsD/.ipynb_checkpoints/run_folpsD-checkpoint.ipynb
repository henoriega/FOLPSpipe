{
 "cells": [
  {
   "cell_type": "code",
   "execution_count": 1,
   "id": "54d0402e",
   "metadata": {},
   "outputs": [],
   "source": [
    "import FOLPSD as FOLPS\n",
    "from cosmo_class import *\n",
    "import time"
   ]
  },
  {
   "cell_type": "code",
   "execution_count": 2,
   "id": "cfbc61cd",
   "metadata": {},
   "outputs": [],
   "source": [
    "classy  = run_class(h = 0.6711, ombh2 = 0.022, omch2 = 0.122, omnuh2 = 0.0006442, \n",
    "                    As = 2e-9, ns = 0.965, z = 0.3, z_scale=[0.97],\n",
    "                    N_ur = 2.0328,\n",
    "                    khmin = 0.0001, khmax = 2.0, nbk = 1000, spectra = 'matter')"
   ]
  },
  {
   "cell_type": "code",
   "execution_count": 3,
   "id": "4d39aa36",
   "metadata": {},
   "outputs": [],
   "source": [
    "inputpkT =classy['k'], classy['pk']"
   ]
  },
  {
   "cell_type": "code",
   "execution_count": 4,
   "id": "468d5471",
   "metadata": {},
   "outputs": [],
   "source": [
    "omega_b = 0.02237;             #Baryons\n",
    "omega_cdm = 0.1200;            #CDM\n",
    "omega_ncdm = 0.00064420;        #massive neutrinos\n",
    "h = 0.6736                     #H0/100\n",
    "A_s =2.0830e-9  #A_s = 2.0830e-9;  \n",
    "n_s = 0.9649;\n",
    "    \n",
    "z_pk = 0.5;                     #z evaluation\n",
    "    \n",
    "CosmoParams = [z_pk, omega_b, omega_cdm, omega_ncdm, h]"
   ]
  },
  {
   "cell_type": "code",
   "execution_count": 5,
   "id": "ab252163",
   "metadata": {},
   "outputs": [
    {
     "name": "stdout",
     "output_type": "stream",
     "text": [
      "N = 128 sampling points\n",
      "M matrices have been computed\n"
     ]
    }
   ],
   "source": [
    "Mmatrices = FOLPS.Matrices()"
   ]
  },
  {
   "cell_type": "code",
   "execution_count": 11,
   "id": "a2005c10",
   "metadata": {},
   "outputs": [
    {
     "name": "stdout",
     "output_type": "stream",
     "text": [
      "CPU times: user 166 ms, sys: 16.1 ms, total: 182 ms\n",
      "Wall time: 94.6 ms\n"
     ]
    }
   ],
   "source": [
    "%%time\n",
    "LoopCorrections = FOLPS.NonLinear(inputpkl=inputpkT, CosmoParams=CosmoParams, EdSkernels=False)"
   ]
  },
  {
   "cell_type": "code",
   "execution_count": 12,
   "id": "d5bf75a8",
   "metadata": {},
   "outputs": [],
   "source": [
    "k_ev = np.logspace(np.log10(0.01), np.log10(0.3), num=100) "
   ]
  },
  {
   "cell_type": "code",
   "execution_count": 13,
   "id": "a1243814",
   "metadata": {},
   "outputs": [],
   "source": [
    "\"Fixed values: NuisanParams\"\n",
    "b1 = 1.0;      \n",
    "b2 = 0.2;      \n",
    "bs2 = -4/7*(b1 - 1);      \n",
    "b3nl = 32/315*(b1 - 1);\n",
    "alpha0 = 20;                    #only for reference - does not affect the final result\n",
    "alpha2 = -58.8;                 #only for reference - does not affect the final result \n",
    "alpha4 = 0.0;                       \n",
    "ctilde = 0.0;    \n",
    "alphashot0 = -0.073;            #only for reference - does not affect the final result\n",
    "alphashot2 = -6.38;             #only for reference - does not affect the final result    \n",
    "PshotP = 1/0.0002118763;        ### it is completely degenerate with alphashot0\n",
    "a_vir = 0    \n",
    "    \n",
    "NuisanParams = [b1, b2, bs2, b3nl, alpha0, alpha2, alpha4, \n",
    "                    ctilde, alphashot0, alphashot2, PshotP, a_vir]"
   ]
  },
  {
   "cell_type": "code",
   "execution_count": 14,
   "id": "36bc91b3",
   "metadata": {},
   "outputs": [
    {
     "name": "stdout",
     "output_type": "stream",
     "text": [
      "CPU times: user 106 ms, sys: 214 µs, total: 107 ms\n",
      "Wall time: 34.8 ms\n"
     ]
    }
   ],
   "source": [
    "%%time\n",
    "Pkl0_const, Pkl2_const = FOLPS.RSDmultipoles_marginalized_const(k_ev, NuisanParams=NuisanParams, \n",
    "                                                                    Omfid = 0.3, AP=True)"
   ]
  },
  {
   "cell_type": "code",
   "execution_count": 15,
   "id": "fe583227",
   "metadata": {},
   "outputs": [
    {
     "name": "stdout",
     "output_type": "stream",
     "text": [
      "CPU times: user 256 ms, sys: 46 µs, total: 256 ms\n",
      "Wall time: 83 ms\n"
     ]
    }
   ],
   "source": [
    "%%time\n",
    "Pkl0_i, Pkl2_i = FOLPS.RSDmultipoles_marginalized_derivatives(k_ev, NuisanParams=NuisanParams, \n",
    "                                                                  Omfid = 0.3, AP=True)"
   ]
  },
  {
   "cell_type": "code",
   "execution_count": null,
   "id": "870e40d4",
   "metadata": {},
   "outputs": [],
   "source": [
    "(80+60)/1000"
   ]
  },
  {
   "cell_type": "code",
   "execution_count": null,
   "id": "e3750af0",
   "metadata": {},
   "outputs": [],
   "source": [
    "60/1000"
   ]
  },
  {
   "cell_type": "code",
   "execution_count": null,
   "id": "575367b7",
   "metadata": {},
   "outputs": [],
   "source": []
  }
 ],
 "metadata": {
  "kernelspec": {
   "display_name": "Python 3 (ipykernel)",
   "language": "python",
   "name": "python3"
  },
  "language_info": {
   "codemirror_mode": {
    "name": "ipython",
    "version": 3
   },
   "file_extension": ".py",
   "mimetype": "text/x-python",
   "name": "python",
   "nbconvert_exporter": "python",
   "pygments_lexer": "ipython3",
   "version": "3.9.7"
  }
 },
 "nbformat": 4,
 "nbformat_minor": 5
}
