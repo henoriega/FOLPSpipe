{
 "cells": [
  {
   "cell_type": "code",
   "execution_count": 1,
   "id": "8000afa1",
   "metadata": {},
   "outputs": [],
   "source": [
    "import FOLPSD as FOLPSD\n",
    "from cosmo_class import *\n",
    "import tools as tools\n",
    "import time"
   ]
  },
  {
   "cell_type": "code",
   "execution_count": 2,
   "id": "cd312e3e",
   "metadata": {},
   "outputs": [],
   "source": [
    "classy  = run_class(h = 0.6711, ombh2 = 0.022, omch2 = 0.122, omnuh2 = 0.0006442, \n",
    "                    As = 2e-9, ns = 0.965, z = 0.3, z_scale=[0.97],\n",
    "                    N_ur = 2.0328,\n",
    "                    khmin = 0.0001, khmax = 2.0, nbk = 1000, spectra = 'matter')\n",
    "kwargs = {'z': 0.3}"
   ]
  },
  {
   "cell_type": "code",
   "execution_count": 3,
   "id": "997e7677",
   "metadata": {},
   "outputs": [],
   "source": [
    "k = classy['k']; pk = classy['pk']\n",
    "inputpkl = k, pk\n",
    "inputpkT = FOLPSD.Extrapolate_inputpkl(inputpkl)"
   ]
  },
  {
   "cell_type": "code",
   "execution_count": 4,
   "id": "a1ca1262",
   "metadata": {},
   "outputs": [
    {
     "name": "stdout",
     "output_type": "stream",
     "text": [
      "Tiempo total para 100 ejecuciones: 4.749479 segundos\n",
      "Tiempo promedio por ejecución: 0.047495 segundos\n"
     ]
    }
   ],
   "source": [
    "import timeit\n",
    "\n",
    "# Suponiendo que ya definiste tu función llamada mi_funcion()\n",
    "def nonwiggle_folpsD():\n",
    "    FOLPSD.pknwJ_beta(k=inputpkT[0], PSLk=inputpkT[1], h=0.67)\n",
    "    pass\n",
    "\n",
    "# Número de repeticiones\n",
    "n = 100\n",
    "\n",
    "# Medir el tiempo total de n ejecuciones\n",
    "total_time = timeit.timeit(\"nonwiggle_folpsD()\", globals=globals(), number=n)\n",
    "\n",
    "# Promedio por ejecución\n",
    "avg_time = total_time / n\n",
    "\n",
    "print(f\"Tiempo total para {n} ejecuciones: {total_time:.6f} segundos\")\n",
    "print(f\"Tiempo promedio por ejecución: {avg_time:.6f} segundos\")"
   ]
  },
  {
   "cell_type": "code",
   "execution_count": 5,
   "id": "b7a4d830",
   "metadata": {},
   "outputs": [
    {
     "name": "stdout",
     "output_type": "stream",
     "text": [
      "Tiempo total para 100 ejecuciones: 3.052494 segundos\n",
      "Tiempo promedio por ejecución: 0.030525 segundos\n"
     ]
    }
   ],
   "source": [
    "import timeit\n",
    "\n",
    "# Suponiendo que ya definiste tu función llamada mi_funcion()\n",
    "def nonwiggle_myfolps():\n",
    "    tools.get_pknow(k=inputpkT[0], pk=inputpkT[1], h=0.67)\n",
    "    pass\n",
    "\n",
    "# Número de repeticiones\n",
    "n = 100\n",
    "\n",
    "# Medir el tiempo total de n ejecuciones\n",
    "total_time = timeit.timeit(\"nonwiggle_myfolps()\", globals=globals(), number=n)\n",
    "\n",
    "# Promedio por ejecución\n",
    "avg_time = total_time / n\n",
    "\n",
    "print(f\"Tiempo total para {n} ejecuciones: {total_time:.6f} segundos\")\n",
    "print(f\"Tiempo promedio por ejecución: {avg_time:.6f} segundos\")"
   ]
  },
  {
   "cell_type": "code",
   "execution_count": 6,
   "id": "121d0821",
   "metadata": {},
   "outputs": [],
   "source": [
    "################### extrapolation ##########"
   ]
  },
  {
   "cell_type": "code",
   "execution_count": 7,
   "id": "3fcd49e6",
   "metadata": {},
   "outputs": [
    {
     "name": "stdout",
     "output_type": "stream",
     "text": [
      "Tiempo total para 1000 ejecuciones: 1.181343 segundos\n",
      "Tiempo promedio por ejecución: 0.001181 segundos\n"
     ]
    }
   ],
   "source": [
    "import timeit\n",
    "\n",
    "# Suponiendo que ya definiste tu función llamada mi_funcion()\n",
    "def extrapolation_folpsD():\n",
    "    FOLPSD.Extrapolate_inputpkl(inputpkl)\n",
    "    pass\n",
    "\n",
    "# Número de repeticiones\n",
    "n = 1000\n",
    "\n",
    "# Medir el tiempo total de n ejecuciones\n",
    "total_time = timeit.timeit(\"extrapolation_folpsD()\", globals=globals(), number=n)\n",
    "\n",
    "# Promedio por ejecución\n",
    "avg_time = total_time / n\n",
    "\n",
    "print(f\"Tiempo total para {n} ejecuciones: {total_time:.6f} segundos\")\n",
    "print(f\"Tiempo promedio por ejecución: {avg_time:.6f} segundos\")"
   ]
  },
  {
   "cell_type": "code",
   "execution_count": 8,
   "id": "abe97203",
   "metadata": {},
   "outputs": [
    {
     "name": "stdout",
     "output_type": "stream",
     "text": [
      "Tiempo total para 1000 ejecuciones: 0.853783 segundos\n",
      "Tiempo promedio por ejecución: 0.000854 segundos\n"
     ]
    }
   ],
   "source": [
    "import timeit\n",
    "\n",
    "# Suponiendo que ya definiste tu función llamada mi_funcion()\n",
    "def extrapolation_myfolps():\n",
    "    tools.extrapolate_pklin(k, pk)\n",
    "    pass\n",
    "\n",
    "# Número de repeticiones\n",
    "n = 1000\n",
    "\n",
    "# Medir el tiempo total de n ejecuciones\n",
    "total_time = timeit.timeit(\"extrapolation_myfolps()\", globals=globals(), number=n)\n",
    "\n",
    "# Promedio por ejecución\n",
    "avg_time = total_time / n\n",
    "\n",
    "print(f\"Tiempo total para {n} ejecuciones: {total_time:.6f} segundos\")\n",
    "print(f\"Tiempo promedio por ejecución: {avg_time:.6f} segundos\")"
   ]
  },
  {
   "cell_type": "code",
   "execution_count": null,
   "id": "9bcc9e51",
   "metadata": {},
   "outputs": [],
   "source": []
  },
  {
   "cell_type": "code",
   "execution_count": null,
   "id": "6d777e91",
   "metadata": {},
   "outputs": [],
   "source": []
  }
 ],
 "metadata": {
  "kernelspec": {
   "display_name": "Python 3 (ipykernel)",
   "language": "python",
   "name": "python3"
  },
  "language_info": {
   "codemirror_mode": {
    "name": "ipython",
    "version": 3
   },
   "file_extension": ".py",
   "mimetype": "text/x-python",
   "name": "python",
   "nbconvert_exporter": "python",
   "pygments_lexer": "ipython3",
   "version": "3.9.7"
  }
 },
 "nbformat": 4,
 "nbformat_minor": 5
}
