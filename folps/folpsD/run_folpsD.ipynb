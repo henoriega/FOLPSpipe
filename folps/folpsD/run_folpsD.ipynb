{
 "cells": [
  {
   "cell_type": "code",
   "execution_count": 1,
   "id": "54d0402e",
   "metadata": {},
   "outputs": [],
   "source": [
    "import FOLPSD as FOLPS\n",
    "from cosmo_class import *\n",
    "import time"
   ]
  },
  {
   "cell_type": "code",
   "execution_count": 2,
   "id": "cfbc61cd",
   "metadata": {},
   "outputs": [],
   "source": [
    "classy  = run_class(h = 0.6711, ombh2 = 0.022, omch2 = 0.122, omnuh2 = 0.0006442, \n",
    "                    As = 2e-9, ns = 0.965, z = 0.3, z_scale=[0.97],\n",
    "                    N_ur = 2.0328,\n",
    "                    khmin = 0.0001, khmax = 2.0, nbk = 1000, spectra = 'matter')"
   ]
  },
  {
   "cell_type": "code",
   "execution_count": 3,
   "id": "4d39aa36",
   "metadata": {},
   "outputs": [],
   "source": [
    "inputpkT =classy['k'], classy['pk']"
   ]
  },
  {
   "cell_type": "code",
   "execution_count": 4,
   "id": "468d5471",
   "metadata": {},
   "outputs": [],
   "source": [
    "omega_b = 0.02237;             #Baryons\n",
    "omega_cdm = 0.1200;            #CDM\n",
    "omega_ncdm = 0.00064420;        #massive neutrinos\n",
    "h = 0.6736                     #H0/100\n",
    "A_s =2.0830e-9  #A_s = 2.0830e-9;  \n",
    "n_s = 0.9649;\n",
    "    \n",
    "z_pk = 0.5;                     #z evaluation\n",
    "    \n",
    "CosmoParams = [z_pk, omega_b, omega_cdm, omega_ncdm, h]"
   ]
  },
  {
   "cell_type": "code",
   "execution_count": 5,
   "id": "ab252163",
   "metadata": {},
   "outputs": [
    {
     "name": "stdout",
     "output_type": "stream",
     "text": [
      "N = 128 sampling points\n",
      "M matrices have been computed\n"
     ]
    }
   ],
   "source": [
    "Mmatrices = FOLPS.Matrices()"
   ]
  },
  {
   "cell_type": "code",
   "execution_count": 6,
   "id": "a2005c10",
   "metadata": {},
   "outputs": [
    {
     "name": "stdout",
     "output_type": "stream",
     "text": [
      "CPU times: user 177 ms, sys: 16 ms, total: 193 ms\n",
      "Wall time: 114 ms\n"
     ]
    }
   ],
   "source": [
    "%%time\n",
    "LoopCorrections = FOLPS.NonLinear(inputpkl=inputpkT, CosmoParams=CosmoParams, EdSkernels=False)"
   ]
  },
  {
   "cell_type": "code",
   "execution_count": 10,
   "id": "16981e1d",
   "metadata": {},
   "outputs": [
    {
     "data": {
      "text/plain": [
       "30"
      ]
     },
     "execution_count": 10,
     "metadata": {},
     "output_type": "execute_result"
    }
   ],
   "source": [
    "len(LoopCorrections[0])"
   ]
  },
  {
   "cell_type": "code",
   "execution_count": 13,
   "id": "94b4e3a0",
   "metadata": {},
   "outputs": [
    {
     "data": {
      "text/plain": [
       "array([-1.28922670e-02, -1.42808399e-02, -1.58167222e-02, -1.75114139e-02,\n",
       "       -1.93826636e-02, -2.14488750e-02, -2.37249663e-02, -2.62323831e-02,\n",
       "       -2.89949791e-02, -3.20319013e-02, -3.53678600e-02, -3.90312495e-02,\n",
       "       -4.30446869e-02, -4.74353962e-02, -5.22359805e-02, -5.74716690e-02,\n",
       "       -6.31686583e-02, -6.93577508e-02, -7.60598821e-02, -8.32929826e-02,\n",
       "       -9.10788557e-02, -9.94252741e-02, -1.08326864e-01, -1.17773579e-01,\n",
       "       -1.27732059e-01, -1.38143292e-01, -1.48933731e-01, -1.59992448e-01,\n",
       "       -1.71155980e-01, -1.82215358e-01, -1.92892400e-01, -2.02819850e-01,\n",
       "       -2.11549183e-01, -2.18520044e-01, -2.23015366e-01, -2.24150569e-01,\n",
       "       -2.20837844e-01, -2.11736900e-01, -1.95244897e-01, -1.69450670e-01,\n",
       "       -1.32041146e-01, -8.02440765e-02, -1.07661541e-02,  8.02944476e-02,\n",
       "        1.97485582e-01,  3.46059628e-01,  5.32121087e-01,  7.62750749e-01,\n",
       "        1.04608990e+00,  1.39142829e+00,  1.80921024e+00,  2.31101733e+00,\n",
       "        2.90967691e+00,  3.61937913e+00,  4.45567165e+00,  5.43535064e+00,\n",
       "        6.57616586e+00,  7.89640484e+00,  9.41465094e+00,  1.11496703e+01,\n",
       "        1.31201305e+01,  1.53440450e+01,  1.78378817e+01,  2.06155160e+01,\n",
       "        2.36876807e+01,  2.70621744e+01,  3.07443526e+01,  3.47374347e+01,\n",
       "        3.90424531e+01,  4.36582572e+01,  4.85828921e+01,  5.38171929e+01,\n",
       "        5.93695708e+01,  6.52599619e+01,  7.15212824e+01,  7.81981705e+01,\n",
       "        8.53448578e+01,  9.30237710e+01,  1.01302744e+02,  1.10245663e+02,\n",
       "        1.19892565e+02,  1.30230935e+02,  1.41168285e+02,  1.52520190e+02,\n",
       "        1.64022386e+02,  1.75365228e+02,  1.86242738e+02,  1.96409486e+02,\n",
       "        2.05742495e+02,  2.14300609e+02,  2.22353040e+02,  2.30329544e+02,\n",
       "        2.38660223e+02,  2.47537446e+02,  2.56718145e+02,  2.65522570e+02,\n",
       "        2.73107246e+02,  2.78908377e+02,  2.82988246e+02,  2.86019117e+02,\n",
       "        2.88856925e+02,  2.91964377e+02,  2.95090392e+02,  2.97443273e+02,\n",
       "        2.98227521e+02,  2.97156862e+02,  2.94612258e+02,  2.91387878e+02,\n",
       "        2.88204429e+02,  2.85267900e+02,  2.82164901e+02,  2.78228116e+02,\n",
       "        2.73106755e+02,  2.67018178e+02,  2.60470677e+02,  2.53801723e+02,\n",
       "        2.46974749e+02,  2.39725721e+02,  2.31869445e+02,  2.23520608e+02])"
      ]
     },
     "execution_count": 13,
     "metadata": {},
     "output_type": "execute_result"
    }
   ],
   "source": [
    "LoopCorrections[0][6]"
   ]
  },
  {
   "cell_type": "code",
   "execution_count": null,
   "id": "2a2f3528",
   "metadata": {},
   "outputs": [],
   "source": []
  },
  {
   "cell_type": "code",
   "execution_count": null,
   "id": "462e9d8f",
   "metadata": {},
   "outputs": [],
   "source": []
  },
  {
   "cell_type": "code",
   "execution_count": null,
   "id": "881060fd",
   "metadata": {},
   "outputs": [],
   "source": []
  },
  {
   "cell_type": "code",
   "execution_count": null,
   "id": "37c1dbda",
   "metadata": {},
   "outputs": [],
   "source": []
  },
  {
   "cell_type": "code",
   "execution_count": 12,
   "id": "d5bf75a8",
   "metadata": {},
   "outputs": [],
   "source": [
    "k_ev = np.logspace(np.log10(0.01), np.log10(0.3), num=100) "
   ]
  },
  {
   "cell_type": "code",
   "execution_count": 13,
   "id": "a1243814",
   "metadata": {},
   "outputs": [],
   "source": [
    "\"Fixed values: NuisanParams\"\n",
    "b1 = 1.0;      \n",
    "b2 = 0.2;      \n",
    "bs2 = -4/7*(b1 - 1);      \n",
    "b3nl = 32/315*(b1 - 1);\n",
    "alpha0 = 20;                    #only for reference - does not affect the final result\n",
    "alpha2 = -58.8;                 #only for reference - does not affect the final result \n",
    "alpha4 = 0.0;                       \n",
    "ctilde = 0.0;    \n",
    "alphashot0 = -0.073;            #only for reference - does not affect the final result\n",
    "alphashot2 = -6.38;             #only for reference - does not affect the final result    \n",
    "PshotP = 1/0.0002118763;        ### it is completely degenerate with alphashot0\n",
    "a_vir = 0    \n",
    "    \n",
    "NuisanParams = [b1, b2, bs2, b3nl, alpha0, alpha2, alpha4, \n",
    "                    ctilde, alphashot0, alphashot2, PshotP, a_vir]"
   ]
  },
  {
   "cell_type": "code",
   "execution_count": 14,
   "id": "36bc91b3",
   "metadata": {},
   "outputs": [
    {
     "name": "stdout",
     "output_type": "stream",
     "text": [
      "CPU times: user 106 ms, sys: 214 µs, total: 107 ms\n",
      "Wall time: 34.8 ms\n"
     ]
    }
   ],
   "source": [
    "%%time\n",
    "Pkl0_const, Pkl2_const = FOLPS.RSDmultipoles_marginalized_const(k_ev, NuisanParams=NuisanParams, \n",
    "                                                                    Omfid = 0.3, AP=True)"
   ]
  },
  {
   "cell_type": "code",
   "execution_count": 15,
   "id": "fe583227",
   "metadata": {},
   "outputs": [
    {
     "name": "stdout",
     "output_type": "stream",
     "text": [
      "CPU times: user 256 ms, sys: 46 µs, total: 256 ms\n",
      "Wall time: 83 ms\n"
     ]
    }
   ],
   "source": [
    "%%time\n",
    "Pkl0_i, Pkl2_i = FOLPS.RSDmultipoles_marginalized_derivatives(k_ev, NuisanParams=NuisanParams, \n",
    "                                                                  Omfid = 0.3, AP=True)"
   ]
  },
  {
   "cell_type": "code",
   "execution_count": null,
   "id": "870e40d4",
   "metadata": {},
   "outputs": [],
   "source": [
    "(80+60)/1000"
   ]
  },
  {
   "cell_type": "code",
   "execution_count": null,
   "id": "e3750af0",
   "metadata": {},
   "outputs": [],
   "source": [
    "60/1000"
   ]
  },
  {
   "cell_type": "code",
   "execution_count": null,
   "id": "575367b7",
   "metadata": {},
   "outputs": [],
   "source": []
  }
 ],
 "metadata": {
  "kernelspec": {
   "display_name": "Python 3 (ipykernel)",
   "language": "python",
   "name": "python3"
  },
  "language_info": {
   "codemirror_mode": {
    "name": "ipython",
    "version": 3
   },
   "file_extension": ".py",
   "mimetype": "text/x-python",
   "name": "python",
   "nbconvert_exporter": "python",
   "pygments_lexer": "ipython3",
   "version": "3.9.7"
  }
 },
 "nbformat": 4,
 "nbformat_minor": 5
}
