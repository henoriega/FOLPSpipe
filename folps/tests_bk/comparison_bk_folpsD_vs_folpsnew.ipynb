{
 "cells": [
  {
   "cell_type": "code",
   "execution_count": 1,
   "id": "54d0402e",
   "metadata": {},
   "outputs": [],
   "source": [
    "import FOLPSD as FOLPS\n",
    "from cosmo_class import *\n",
    "import time"
   ]
  },
  {
   "cell_type": "code",
   "execution_count": 2,
   "id": "cfbc61cd",
   "metadata": {},
   "outputs": [],
   "source": [
    "classy  = run_class(h = 0.6711, ombh2 = 0.022, omch2 = 0.122, omnuh2 = 0.0006442, \n",
    "                    As = 2e-9, ns = 0.965, z = 0.3, z_scale=[0.97],\n",
    "                    N_ur = 2.0328,\n",
    "                    khmin = 0.0001, khmax = 2.0, nbk = 1000, spectra = 'matter')"
   ]
  },
  {
   "cell_type": "code",
   "execution_count": 3,
   "id": "4d39aa36",
   "metadata": {},
   "outputs": [],
   "source": [
    "inputpkT =classy['k'], classy['pk']"
   ]
  },
  {
   "cell_type": "code",
   "execution_count": 4,
   "id": "468d5471",
   "metadata": {},
   "outputs": [],
   "source": [
    "omega_b = 0.02237;             #Baryons\n",
    "omega_cdm = 0.1200;            #CDM\n",
    "omega_ncdm = 0.00064420;        #massive neutrinos\n",
    "h = 0.6736                     #H0/100\n",
    "A_s =2.0830e-9  #A_s = 2.0830e-9;  \n",
    "n_s = 0.9649;\n",
    "    \n",
    "z_pk = 0.5;                     #z evaluation\n",
    "    \n",
    "CosmoParams = [z_pk, omega_b, omega_cdm, omega_ncdm, h]"
   ]
  },
  {
   "cell_type": "markdown",
   "id": "d35337b3",
   "metadata": {},
   "source": [
    "### FOLPSD"
   ]
  },
  {
   "cell_type": "code",
   "execution_count": 5,
   "id": "ab252163",
   "metadata": {},
   "outputs": [
    {
     "name": "stdout",
     "output_type": "stream",
     "text": [
      "N = 128 sampling points\n",
      "M matrices have been computed\n"
     ]
    }
   ],
   "source": [
    "Mmatrices = FOLPS.Matrices()"
   ]
  },
  {
   "cell_type": "code",
   "execution_count": 6,
   "id": "a2005c10",
   "metadata": {},
   "outputs": [
    {
     "name": "stdout",
     "output_type": "stream",
     "text": [
      "CPU times: user 177 ms, sys: 24 ms, total: 201 ms\n",
      "Wall time: 125 ms\n"
     ]
    }
   ],
   "source": [
    "%%time\n",
    "LoopCorrections = FOLPS.NonLinear(inputpkl=inputpkT, CosmoParams=CosmoParams, EdSkernels=False)"
   ]
  },
  {
   "cell_type": "code",
   "execution_count": 7,
   "id": "d5bf75a8",
   "metadata": {},
   "outputs": [],
   "source": [
    "k_ev = np.logspace(np.log10(0.01), np.log10(0.3), num=100) "
   ]
  },
  {
   "cell_type": "code",
   "execution_count": 8,
   "id": "a1243814",
   "metadata": {},
   "outputs": [],
   "source": [
    "\"Fixed values: NuisanParams\"\n",
    "b1 = 1.0;      \n",
    "b2 = 0.2;      \n",
    "bs2 = -4/7*(b1 - 1);      \n",
    "b3nl = 32/315*(b1 - 1);\n",
    "alpha0 = 20;                    #only for reference - does not affect the final result\n",
    "alpha2 = -58.8;                 #only for reference - does not affect the final result \n",
    "alpha4 = 0.0;                       \n",
    "ctilde = 0.0;    \n",
    "alphashot0 = -0.073;            #only for reference - does not affect the final result\n",
    "alphashot2 = -6.38;             #only for reference - does not affect the final result    \n",
    "PshotP = 1/0.0002118763;        ### it is completely degenerate with alphashot0\n",
    "x_fog_pk = 0    \n",
    "x_fig_bk = 0.5\n",
    "\n",
    "NuisanParams = [b1, b2, bs2, b3nl, alpha0, alpha2, alpha4, \n",
    "                    ctilde, alphashot0, alphashot2, PshotP, x_fog_pk]"
   ]
  },
  {
   "cell_type": "code",
   "execution_count": 9,
   "id": "575367b7",
   "metadata": {},
   "outputs": [],
   "source": [
    "c1=1.2\n",
    "c2 = 2.0\n",
    "Pshot= 1\n",
    "Bshot = 0.2\n",
    "a_vir_bk = 1\n",
    "\n",
    "bisp_nuis_params = [b1, b2, bs2, c1,c2,Pshot,Bshot, a_vir_bk]\n",
    "bisp_cosmo_params = [(omega_cdm+omega_b+omega_ncdm)/h**2,h]"
   ]
  },
  {
   "cell_type": "code",
   "execution_count": 10,
   "id": "e8788d46",
   "metadata": {},
   "outputs": [],
   "source": [
    "pklir=FOLPS.pklIR_ini(LoopCorrections[0][0], LoopCorrections[0][1], LoopCorrections[1][1], h=h)"
   ]
  },
  {
   "cell_type": "code",
   "execution_count": 11,
   "id": "0233e4c5",
   "metadata": {},
   "outputs": [],
   "source": [
    "ks = np.logspace(np.log10(0.000001), np.log10(0.4), 50)\n",
    "k1k2T = np.vstack([ks,ks]).T"
   ]
  },
  {
   "cell_type": "code",
   "execution_count": 49,
   "id": "ba5458cd",
   "metadata": {},
   "outputs": [
    {
     "name": "stdout",
     "output_type": "stream",
     "text": [
      "CPU times: user 22.8 ms, sys: 0 ns, total: 22.8 ms\n",
      "Wall time: 22.1 ms\n"
     ]
    }
   ],
   "source": [
    "%%time\n",
    "B000_folpsD, B202_folpsD = FOLPS.Bisp_Sugiyama(bisp_cosmo_params, bisp_nuis_params,\n",
    "                                     pk_input=pklir, z_pk=z_pk, k1k2pairs=k1k2T,\n",
    "                                        Omfid=-1)"
   ]
  },
  {
   "cell_type": "code",
   "execution_count": 44,
   "id": "35fc7697",
   "metadata": {},
   "outputs": [
    {
     "data": {
      "text/plain": [
       "0.7611472159858693"
      ]
     },
     "execution_count": 44,
     "metadata": {},
     "output_type": "execute_result"
    }
   ],
   "source": [
    "FOLPS.f0"
   ]
  },
  {
   "cell_type": "markdown",
   "id": "78bf1959",
   "metadata": {},
   "source": [
    "### FOLPS-NEW"
   ]
  },
  {
   "cell_type": "code",
   "execution_count": 14,
   "id": "180f2c61",
   "metadata": {},
   "outputs": [
    {
     "name": "stdout",
     "output_type": "stream",
     "text": [
      "✅ Using NumPy with CPU.\n"
     ]
    }
   ],
   "source": [
    "import folps_newtest as folps"
   ]
  },
  {
   "cell_type": "code",
   "execution_count": 15,
   "id": "b0391c13",
   "metadata": {},
   "outputs": [
    {
     "name": "stdout",
     "output_type": "stream",
     "text": [
      "f0 = 0.7611472159858693\n"
     ]
    }
   ],
   "source": [
    "f0 = FOLPS.f0\n",
    "print('f0 =', f0)"
   ]
  },
  {
   "cell_type": "code",
   "execution_count": 16,
   "id": "61a3bd67",
   "metadata": {},
   "outputs": [],
   "source": [
    "bispectrum = folps.BispectrumCalculator(basis='sugiyama')"
   ]
  },
  {
   "cell_type": "code",
   "execution_count": 17,
   "id": "ad31262c",
   "metadata": {},
   "outputs": [
    {
     "data": {
      "text/plain": [
       "(array([0.001     , 0.00105361, 0.0011101 , 0.00116961, 0.00123231,\n",
       "        0.00129838, 0.00136799, 0.00144133, 0.0015186 , 0.00160001,\n",
       "        0.00168579, 0.00177617, 0.00187139, 0.00197172, 0.00207743,\n",
       "        0.0021888 , 0.00230615, 0.00242978, 0.00256004, 0.00269729,\n",
       "        0.0028419 , 0.00299426, 0.00315478, 0.00332391, 0.00350211,\n",
       "        0.00368987, 0.00388768, 0.00409611, 0.00431571, 0.00454708,\n",
       "        0.00479085, 0.00504769, 0.00531831, 0.00560343, 0.00590384,\n",
       "        0.00622035, 0.00655383, 0.00690519, 0.00727538, 0.00766543,\n",
       "        0.00807638, 0.00850937, 0.00896556, 0.00944622, 0.00995264,\n",
       "        0.01048622, 0.0110484 , 0.01164072, 0.01226479, 0.01292232,\n",
       "        0.01361511, 0.01434503, 0.01511408, 0.01592437, 0.0167781 ,\n",
       "        0.01767759, 0.01862531, 0.01962384, 0.0206759 , 0.02178436,\n",
       "        0.02295225, 0.02418275, 0.02547922, 0.02684519, 0.02828439,\n",
       "        0.02980076, 0.03139842, 0.03308173, 0.03485528, 0.03672392,\n",
       "        0.03869273, 0.0407671 , 0.04295268, 0.04525543, 0.04768163,\n",
       "        0.0502379 , 0.05293122, 0.05576894, 0.05875878, 0.06190892,\n",
       "        0.06522793, 0.06872489, 0.07240932, 0.07629128, 0.08038135,\n",
       "        0.0846907 , 0.08923108, 0.09401487, 0.09905513, 0.10436561,\n",
       "        0.10996078, 0.11585592, 0.12206711, 0.12861129, 0.1355063 ,\n",
       "        0.14277097, 0.15042511, 0.1584896 , 0.16698643, 0.17593879,\n",
       "        0.1853711 , 0.19530908, 0.20577986, 0.21681198, 0.22843556,\n",
       "        0.24068228, 0.25358557, 0.26718063, 0.28150453, 0.29659635,\n",
       "        0.31249727, 0.32925065, 0.34690221, 0.36550009, 0.38509502,\n",
       "        0.40574047, 0.42749274, 0.45041118, 0.47455831, 0.5       ]),\n",
       " array([ 2560.52337734,  2688.1807716 ,  2821.79761981,  2961.59416694,\n",
       "         3107.7885657 ,  3260.61384306,  3420.29801641,  3587.05790367,\n",
       "         3761.11349069,  3942.68992902,  4132.0032933 ,  4329.24307694,\n",
       "         4534.60954746,  4748.28469945,  4970.43288946,  5201.17782333,\n",
       "         5440.67202681,  5689.01707565,  5946.27656506,  6212.48611452,\n",
       "         6487.69171368,  6771.86760536,  7064.91059535,  7366.72497424,\n",
       "         7677.18461393,  7996.07187155,  8323.02762653,  8657.77403435,\n",
       "         8999.92474128,  9348.9780064 ,  9704.26276199, 10065.2126136 ,\n",
       "        10431.09234447, 10800.9983147 , 11173.89533905, 11548.76279093,\n",
       "        11924.39956694, 12299.3581393 , 12672.20540738, 13041.34894498,\n",
       "        13405.0322928 , 13761.145581  , 14107.86681038, 14442.8943091 ,\n",
       "        14763.73331999, 15067.6970008 , 15352.43304776, 15615.06769832,\n",
       "        15852.41576586, 16061.47159626, 16239.48674025, 16383.3400134 ,\n",
       "        16489.37978318, 16554.67219856, 16576.42913385, 16552.01052412,\n",
       "        16478.56020474, 16354.49731155, 16178.3484838 , 15949.17052299,\n",
       "        15667.25157621, 15334.34630168, 14952.54907949, 14524.45169819,\n",
       "        14054.81873984, 13551.52688369, 13022.45931752, 12475.18772791,\n",
       "        11917.29381804, 11360.03229856, 10814.82544135, 10291.39674593,\n",
       "         9796.69062734,  9336.40370057,  8915.11915746,  8535.6140806 ,\n",
       "         8194.43941418,  7885.66619099,  7599.32329221,  7322.08184214,\n",
       "         7038.70994569,  6734.27855417,  6396.74447256,  6020.59270105,\n",
       "         5608.97576388,  5174.580344  ,  4738.29773194,  4324.39002744,\n",
       "         3954.96732809,  3644.45474936,  3394.92472015,  3194.23074906,\n",
       "         3019.47605154,  2843.41773848,  2645.31046765,  2421.86557905,\n",
       "         2188.93370471,  1972.67648196,  1793.14491555,  1652.32980499,\n",
       "         1533.88818328,  1416.46591256,  1289.56782573,  1163.03569848,\n",
       "         1050.83855516,   956.30063923,   873.02866808,   793.36447702,\n",
       "          716.49272296,   646.41117045,   584.67053068,   528.30879239,\n",
       "          476.19835705,   428.83428374,   385.86825469,   346.90711119,\n",
       "          311.61378696,   279.67702578,   250.68082005,   224.58161624]))"
      ]
     },
     "execution_count": 17,
     "metadata": {},
     "output_type": "execute_result"
    }
   ],
   "source": [
    "folps.get_linear_ir_ini(LoopCorrections[0][0], LoopCorrections[0][1], LoopCorrections[1][1], h=h)"
   ]
  },
  {
   "cell_type": "code",
   "execution_count": 51,
   "id": "7f443b8a",
   "metadata": {},
   "outputs": [
    {
     "name": "stdout",
     "output_type": "stream",
     "text": [
      "CPU times: user 18.6 ms, sys: 3.85 ms, total: 22.4 ms\n",
      "Wall time: 21.2 ms\n"
     ]
    }
   ],
   "source": [
    "%%time\n",
    "B000, B202 = bispectrum.Bisp_Sugiyama(f=f0, f0=f0, bpars=bisp_nuis_params,\n",
    "                                      pk_input=pklir, z_pk=z_pk,\n",
    "                                      k1k2pairs=k1k2T, qpar=1, qperp=1, precision=[4, 5, 5], damping='lor')"
   ]
  },
  {
   "cell_type": "code",
   "execution_count": 52,
   "id": "d1b2f9ce",
   "metadata": {},
   "outputs": [
    {
     "data": {
      "text/plain": [
       "0.02"
      ]
     },
     "execution_count": 52,
     "metadata": {},
     "output_type": "execute_result"
    }
   ],
   "source": [
    "20/1000"
   ]
  },
  {
   "cell_type": "code",
   "execution_count": 39,
   "id": "e1fef4c5",
   "metadata": {},
   "outputs": [
    {
     "data": {
      "text/plain": [
       "0.23257857756244782"
      ]
     },
     "execution_count": 39,
     "metadata": {},
     "output_type": "execute_result"
    }
   ],
   "source": [
    "max(abs(1-B000/B000_folpsD)*100)"
   ]
  },
  {
   "cell_type": "code",
   "execution_count": 40,
   "id": "09cfb8cc",
   "metadata": {},
   "outputs": [
    {
     "data": {
      "text/plain": [
       "array([0.23063045, 0.23063045, 0.23063045, 0.23063045, 0.23063045,\n",
       "       0.23063045, 0.23063045, 0.23063045, 0.23063045, 0.23063045,\n",
       "       0.23063045, 0.23063045, 0.23063045, 0.23063045, 0.23063045,\n",
       "       0.23063045, 0.23063045, 0.23063045, 0.23063045, 0.23063045,\n",
       "       0.23063044, 0.23063044, 0.23063043, 0.23063042, 0.23042251,\n",
       "       0.22868698, 0.22603069, 0.22704003, 0.22901839, 0.23060538,\n",
       "       0.23189686, 0.23291517, 0.23369527, 0.23429422, 0.23475722,\n",
       "       0.23511937, 0.23540635, 0.23563138, 0.23578821, 0.2358475 ,\n",
       "       0.23580143, 0.23585821, 0.23609729, 0.23633167, 0.23691172,\n",
       "       0.23909854, 0.24828114, 0.29864373, 0.02530711, 0.07549249])"
      ]
     },
     "execution_count": 40,
     "metadata": {},
     "output_type": "execute_result"
    }
   ],
   "source": [
    "abs(1-B202/B202_folpsD)*100"
   ]
  },
  {
   "cell_type": "code",
   "execution_count": 41,
   "id": "991f6160",
   "metadata": {},
   "outputs": [
    {
     "data": {
      "image/png": "[encoded data removed]",
      "text/plain": [
       "<Figure size 700x500 with 1 Axes>"
      ]
     },
     "metadata": {},
     "output_type": "display_data"
    }
   ],
   "source": [
    "import matplotlib\n",
    "import matplotlib.pyplot as plt\n",
    "\n",
    "fig, axs = plt.subplots(figsize=(7,5))\n",
    "axs.set_xlabel(r'$k \\, [h\\, Mpc^{-1}]$', fontsize =  14)\n",
    "axs.set_ylabel(r'$k^2 B(k,k) $', fontsize =  14)\n",
    "\n",
    "#axs.plot(k1k2T.T[0], k1k2T.T[0]*k1k2T.T[0]*B000, ls='-', label='B000')\n",
    "#axs.plot(k1k2T.T[0],k1k2T.T[0]*k1k2T.T[0]*B202, ls='-', label='B202')\n",
    "\n",
    "\n",
    "axs.loglog(k1k2T.T[0],B000, ls='-', label='B000', color='k')\n",
    "axs.loglog(k1k2T.T[0],B202, ls='-', label='B202', color='k')\n",
    "axs.loglog(k1k2T.T[0],B000_folpsD, ls='--', label='folpsD', lw=3)\n",
    "axs.loglog(k1k2T.T[0],B202_folpsD, ls='--', label='folpsD', lw=3)\n",
    "#axs.loglog(nonlinear.inputpkT[0],nonlinear.inputpkT[1]*nonlinear.inputpkT[1], ls='-', label='P^2')\n",
    "\n",
    "\n",
    "\n",
    "axs.set_xlim([0.001,0.15])\n",
    "axs.set_ylim([1e5, 1e10])\n",
    "\n",
    "leg1 = axs.legend(loc = 'best');\n",
    "leg1.get_frame().set_linewidth(0.0);\n",
    "\n",
    "plt.show()"
   ]
  },
  {
   "cell_type": "code",
   "execution_count": 42,
   "id": "75400658",
   "metadata": {},
   "outputs": [
    {
     "data": {
      "image/png": "[encoded data removed]",
      "text/plain": [
       "<Figure size 700x500 with 1 Axes>"
      ]
     },
     "metadata": {},
     "output_type": "display_data"
    }
   ],
   "source": [
    "import matplotlib\n",
    "import matplotlib.pyplot as plt\n",
    "\n",
    "fig, axs = plt.subplots(figsize=(7,5))\n",
    "axs.set_xlabel(r'$k \\, [h\\, Mpc^{-1}]$', fontsize =  14)\n",
    "axs.set_ylabel(r'$1 - B/B $', fontsize =  14)\n",
    "\n",
    "#axs.plot(k1k2T.T[0], k1k2T.T[0]*k1k2T.T[0]*B000, ls='-', label='B000')\n",
    "#axs.plot(k1k2T.T[0],k1k2T.T[0]*k1k2T.T[0]*B202, ls='-', label='B202')\n",
    "\n",
    "\n",
    "axs.plot(k1k2T.T[0], 1 - B000/B000_folpsD, ls='-', label='B000', color='k')\n",
    "axs.plot(k1k2T.T[0], 1 - B202/B202_folpsD, ls='-', label='B202', color='k')\n",
    "\n",
    "#axs.loglog(k1k2T.T[0],B202, ls='-', label='B202', color='k')\n",
    "#axs.loglog(k1k2T.T[0],B000_folpsD, ls='--', label='folpsD', lw=3)\n",
    "#axs.loglog(k1k2T.T[0],B202_folpsD, ls='--', label='folpsD', lw=3)\n",
    "#axs.loglog(nonlinear.inputpkT[0],nonlinear.inputpkT[1]*nonlinear.inputpkT[1], ls='-', label='P^2')\n",
    "\n",
    "\n",
    "\n",
    "axs.set_xlim([0.001,0.15])\n",
    "#axs.set_ylim([1e5, 1e10])\n",
    "\n",
    "leg1 = axs.legend(loc = 'best');\n",
    "leg1.get_frame().set_linewidth(0.0);\n",
    "\n",
    "plt.show()"
   ]
  },
  {
   "cell_type": "code",
   "execution_count": null,
   "id": "69953af0",
   "metadata": {},
   "outputs": [],
   "source": []
  },
  {
   "cell_type": "code",
   "execution_count": null,
   "id": "040f4dd8",
   "metadata": {},
   "outputs": [],
   "source": []
  }
 ],
 "metadata": {
  "kernelspec": {
   "display_name": "Python 3 (ipykernel)",
   "language": "python",
   "name": "python3"
  },
  "language_info": {
   "codemirror_mode": {
    "name": "ipython",
    "version": 3
   },
   "file_extension": ".py",
   "mimetype": "text/x-python",
   "name": "python",
   "nbconvert_exporter": "python",
   "pygments_lexer": "ipython3",
   "version": "3.9.7"
  }
 },
 "nbformat": 4,
 "nbformat_minor": 5
}
