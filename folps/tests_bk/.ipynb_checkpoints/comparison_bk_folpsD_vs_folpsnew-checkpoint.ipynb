{
 "cells": [
  {
   "cell_type": "code",
   "execution_count": 1,
   "id": "54d0402e",
   "metadata": {},
   "outputs": [],
   "source": [
    "import FOLPSD as FOLPS\n",
    "from cosmo_class import *\n",
    "import time"
   ]
  },
  {
   "cell_type": "code",
   "execution_count": 2,
   "id": "cfbc61cd",
   "metadata": {},
   "outputs": [],
   "source": [
    "classy  = run_class(h = 0.6711, ombh2 = 0.022, omch2 = 0.122, omnuh2 = 0.0006442, \n",
    "                    As = 2e-9, ns = 0.965, z = 0.3, z_scale=[0.97],\n",
    "                    N_ur = 2.0328,\n",
    "                    khmin = 0.0001, khmax = 2.0, nbk = 1000, spectra = 'matter')"
   ]
  },
  {
   "cell_type": "code",
   "execution_count": 3,
   "id": "4d39aa36",
   "metadata": {},
   "outputs": [],
   "source": [
    "inputpkT =classy['k'], classy['pk']"
   ]
  },
  {
   "cell_type": "code",
   "execution_count": 4,
   "id": "468d5471",
   "metadata": {},
   "outputs": [],
   "source": [
    "omega_b = 0.02237;             #Baryons\n",
    "omega_cdm = 0.1200;            #CDM\n",
    "omega_ncdm = 0.00064420;        #massive neutrinos\n",
    "h = 0.6736                     #H0/100\n",
    "A_s =2.0830e-9  #A_s = 2.0830e-9;  \n",
    "n_s = 0.9649;\n",
    "    \n",
    "z_pk = 0.5;                     #z evaluation\n",
    "    \n",
    "CosmoParams = [z_pk, omega_b, omega_cdm, omega_ncdm, h]"
   ]
  },
  {
   "cell_type": "markdown",
   "id": "8a5b14fb",
   "metadata": {},
   "source": [
    "### FOLPSD"
   ]
  },
  {
   "cell_type": "code",
   "execution_count": 5,
   "id": "ab252163",
   "metadata": {},
   "outputs": [
    {
     "name": "stdout",
     "output_type": "stream",
     "text": [
      "N = 128 sampling points\n",
      "M matrices have been computed\n"
     ]
    }
   ],
   "source": [
    "Mmatrices = FOLPS.Matrices()"
   ]
  },
  {
   "cell_type": "code",
   "execution_count": 6,
   "id": "a2005c10",
   "metadata": {},
   "outputs": [
    {
     "name": "stdout",
     "output_type": "stream",
     "text": [
      "CPU times: user 153 ms, sys: 12.1 ms, total: 165 ms\n",
      "Wall time: 107 ms\n"
     ]
    }
   ],
   "source": [
    "%%time\n",
    "LoopCorrections = FOLPS.NonLinear(inputpkl=inputpkT, CosmoParams=CosmoParams, EdSkernels=False)"
   ]
  },
  {
   "cell_type": "code",
   "execution_count": 7,
   "id": "d5bf75a8",
   "metadata": {},
   "outputs": [],
   "source": [
    "k_ev = np.logspace(np.log10(0.01), np.log10(0.3), num=100) "
   ]
  },
  {
   "cell_type": "code",
   "execution_count": 8,
   "id": "a1243814",
   "metadata": {},
   "outputs": [],
   "source": [
    "\"Fixed values: NuisanParams\"\n",
    "b1 = 1.0;      \n",
    "b2 = 0.2;      \n",
    "bs2 = -4/7*(b1 - 1);      \n",
    "b3nl = 32/315*(b1 - 1);\n",
    "alpha0 = 20;                    #only for reference - does not affect the final result\n",
    "alpha2 = -58.8;                 #only for reference - does not affect the final result \n",
    "alpha4 = 0.0;                       \n",
    "ctilde = 0.0;    \n",
    "alphashot0 = -0.073;            #only for reference - does not affect the final result\n",
    "alphashot2 = -6.38;             #only for reference - does not affect the final result    \n",
    "PshotP = 1/0.0002118763;        ### it is completely degenerate with alphashot0\n",
    "x_fog_pk = 0    \n",
    "x_fig_bk = 0\n",
    "\n",
    "NuisanParams = [b1, b2, bs2, b3nl, alpha0, alpha2, alpha4, \n",
    "                    ctilde, alphashot0, alphashot2, PshotP, x_fog_pk]"
   ]
  },
  {
   "cell_type": "code",
   "execution_count": 9,
   "id": "575367b7",
   "metadata": {},
   "outputs": [],
   "source": [
    "c1=1.2\n",
    "c2 = 2.0\n",
    "Pshot= 1\n",
    "Bshot = 0.2\n",
    "a_vir_bk = 0\n",
    "\n",
    "bisp_nuis_params = [b1, b2, bs2, c1,c2,Pshot,Bshot, a_vir_bk]\n",
    "bisp_cosmo_params = [(omega_cdm+omega_b+omega_ncdm)/h**2,h]"
   ]
  },
  {
   "cell_type": "code",
   "execution_count": 10,
   "id": "6e8efbdd",
   "metadata": {},
   "outputs": [],
   "source": [
    "pklir=FOLPS.pklIR_ini(LoopCorrections[0][0], LoopCorrections[0][1], LoopCorrections[1][1], h=h)"
   ]
  },
  {
   "cell_type": "code",
   "execution_count": 11,
   "id": "2134e3dd",
   "metadata": {},
   "outputs": [],
   "source": [
    "ks = np.logspace(np.log10(0.0001), np.log10(0.4), 30)\n",
    "k1k2T = np.vstack([ks,ks]).T"
   ]
  },
  {
   "cell_type": "code",
   "execution_count": 21,
   "id": "b57f82a2",
   "metadata": {},
   "outputs": [
    {
     "name": "stdout",
     "output_type": "stream",
     "text": [
      "CPU times: user 13 ms, sys: 26 µs, total: 13.1 ms\n",
      "Wall time: 12.7 ms\n"
     ]
    }
   ],
   "source": [
    "%%time\n",
    "B000_folpsD, B202_folpsD = FOLPS.Bisp_Sugiyama(bisp_cosmo_params, bisp_nuis_params,\n",
    "                                     pk_input=pklir, z_pk=z_pk, k1k2pairs=k1k2T,\n",
    "                                        Omfid=-1)"
   ]
  },
  {
   "cell_type": "code",
   "execution_count": 13,
   "id": "1664512e",
   "metadata": {},
   "outputs": [
    {
     "data": {
      "text/plain": [
       "0.7611472159858693"
      ]
     },
     "execution_count": 13,
     "metadata": {},
     "output_type": "execute_result"
    }
   ],
   "source": [
    "FOLPS.f0"
   ]
  },
  {
   "cell_type": "markdown",
   "id": "4cc699b7",
   "metadata": {},
   "source": [
    "### FOLPS-NEW"
   ]
  },
  {
   "cell_type": "code",
   "execution_count": 14,
   "id": "dc6e9ae5",
   "metadata": {},
   "outputs": [
    {
     "name": "stdout",
     "output_type": "stream",
     "text": [
      "✅ Using NumPy with CPU.\n"
     ]
    }
   ],
   "source": [
    "import folps_newtest as folps"
   ]
  },
  {
   "cell_type": "code",
   "execution_count": 15,
   "id": "a4183d04",
   "metadata": {},
   "outputs": [
    {
     "name": "stdout",
     "output_type": "stream",
     "text": [
      "f0 = 0.7611472159858693\n"
     ]
    }
   ],
   "source": [
    "f0 = FOLPS.f0\n",
    "print('f0 =', f0)"
   ]
  },
  {
   "cell_type": "code",
   "execution_count": 16,
   "id": "b1a6966a",
   "metadata": {},
   "outputs": [],
   "source": [
    "bispectrum = folps.BispectrumCalculator(basis='sugiyama')"
   ]
  },
  {
   "cell_type": "code",
   "execution_count": 22,
   "id": "2d11acb0",
   "metadata": {},
   "outputs": [
    {
     "name": "stdout",
     "output_type": "stream",
     "text": [
      "CPU times: user 13.8 ms, sys: 46 µs, total: 13.9 ms\n",
      "Wall time: 13.3 ms\n"
     ]
    }
   ],
   "source": [
    "%%time\n",
    "B000, B202 = bispectrum.Bisp_Sugiyama(f=f0, f0=f0, bpars=bisp_nuis_params,\n",
    "                                      pk_input=pklir, z_pk=z_pk,\n",
    "                                      k1k2pairs=k1k2T, qpar=1, qperp=1, precision=[4, 5, 5])"
   ]
  },
  {
   "cell_type": "code",
   "execution_count": 26,
   "id": "815fde82",
   "metadata": {},
   "outputs": [
    {
     "data": {
      "text/plain": [
       "array([0.21118608, 0.21118608, 0.21118608, 0.21118608, 0.21118608,\n",
       "       0.21118608, 0.21104486, 0.20965813, 0.20747844, 0.21366608,\n",
       "       0.21881802, 0.22274196, 0.22575651, 0.22800089, 0.22965913,\n",
       "       0.23087247, 0.23173442, 0.23230828, 0.23259926, 0.23254799,\n",
       "       0.23197954, 0.23076166, 0.22939446, 0.22787262, 0.22345052,\n",
       "       0.21787541, 0.20642964, 0.18774328, 0.15287771, 0.08113014])"
      ]
     },
     "execution_count": 26,
     "metadata": {},
     "output_type": "execute_result"
    }
   ],
   "source": [
    "abs(1-B000/B000_folpsD)*100"
   ]
  },
  {
   "cell_type": "code",
   "execution_count": 27,
   "id": "80448224",
   "metadata": {},
   "outputs": [
    {
     "data": {
      "text/plain": [
       "array([0.23063045, 0.23063045, 0.23063045, 0.23063045, 0.23063045,\n",
       "       0.23063045, 0.23041385, 0.22845127, 0.22547025, 0.22761874,\n",
       "       0.22962847, 0.23120278, 0.2324716 , 0.23342203, 0.23413457,\n",
       "       0.23467261, 0.23508306, 0.23540267, 0.23564762, 0.23581227,\n",
       "       0.23585938, 0.23582073, 0.23598899, 0.23621526, 0.23651345,\n",
       "       0.237345  , 0.23985075, 0.24415848, 0.25755963, 0.30263592])"
      ]
     },
     "execution_count": 27,
     "metadata": {},
     "output_type": "execute_result"
    }
   ],
   "source": [
    "abs(1-B202/B202_folpsD)*100"
   ]
  },
  {
   "cell_type": "code",
   "execution_count": null,
   "id": "1e3b866e",
   "metadata": {},
   "outputs": [],
   "source": []
  }
 ],
 "metadata": {
  "kernelspec": {
   "display_name": "Python 3 (ipykernel)",
   "language": "python",
   "name": "python3"
  },
  "language_info": {
   "codemirror_mode": {
    "name": "ipython",
    "version": 3
   },
   "file_extension": ".py",
   "mimetype": "text/x-python",
   "name": "python",
   "nbconvert_exporter": "python",
   "pygments_lexer": "ipython3",
   "version": "3.9.7"
  }
 },
 "nbformat": 4,
 "nbformat_minor": 5
}
