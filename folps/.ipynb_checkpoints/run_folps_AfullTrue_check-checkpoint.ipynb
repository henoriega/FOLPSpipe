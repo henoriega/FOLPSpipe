{
 "cells": [
  {
   "cell_type": "code",
   "execution_count": 1,
   "id": "f8e82ba4",
   "metadata": {
    "scrolled": true
   },
   "outputs": [
    {
     "name": "stdout",
     "output_type": "stream",
     "text": [
      "✅ Using NumPy with CPU.\n"
     ]
    }
   ],
   "source": [
    "import os\n",
    "\n",
    "# Select the backend before importing folps.py\n",
    "os.environ[\"FOLPS_BACKEND\"] = \"numpy\"  #'numpy' or 'jax'\n",
    "\n",
    "from folps_mod_1sep import *\n",
    "from cosmo_class import *"
   ]
  },
  {
   "cell_type": "code",
   "execution_count": 4,
   "id": "d19ad2b3",
   "metadata": {},
   "outputs": [
    {
     "name": "stdout",
     "output_type": "stream",
     "text": [
      "CPU times: user 1.29 s, sys: 16.7 ms, total: 1.31 s\n",
      "Wall time: 195 ms\n"
     ]
    }
   ],
   "source": [
    "%%time\n",
    "#linear power spectrum\n",
    "classy  = run_class(h = 0.6711, ombh2 = 0.022, omch2 = 0.122, omnuh2 = 0.0006442, \n",
    "                    As = 2e-9, ns = 0.965, z = 0.3, z_scale=[0.97],\n",
    "                    N_ur = 2.0328,\n",
    "                    khmin = 0.0001, khmax = 2.0, nbk = 1000, spectra = 'cb')\n",
    "kwargs = {'z': 0.3, 'h': 0.6711, 'Omega_m': classy['cosmo'].Omega0_m(), 'f0':0.6900011469771554,\n",
    "          'fnu':classy['cosmo'].scale_independent_growth_factor_f(0.3)}"
   ]
  },
  {
   "cell_type": "code",
   "execution_count": 5,
   "id": "e26b04fe",
   "metadata": {},
   "outputs": [
    {
     "name": "stdout",
     "output_type": "stream",
     "text": [
      "Loading matrices from matrices_nfftlog128_Afull_True_remove-DeltaP_False.npy\n"
     ]
    }
   ],
   "source": [
    "matrix = MatrixCalculator(A_full=True)\n",
    "mmatrices = matrix.get_mmatrices()"
   ]
  },
  {
   "cell_type": "code",
   "execution_count": 6,
   "id": "d24d6ebf",
   "metadata": {},
   "outputs": [
    {
     "name": "stdout",
     "output_type": "stream",
     "text": [
      "CPU times: user 281 μs, sys: 84 μs, total: 365 μs\n",
      "Wall time: 357 μs\n"
     ]
    }
   ],
   "source": [
    "%%time\n",
    "nonlinear = NonLinearPowerSpectrumCalculator(mmatrices=mmatrices,\n",
    "                                             kernels='eds',\n",
    "                                             **kwargs)"
   ]
  },
  {
   "cell_type": "code",
   "execution_count": 9,
   "id": "dba884b8",
   "metadata": {},
   "outputs": [
    {
     "name": "stdout",
     "output_type": "stream",
     "text": [
      "CPU times: user 124 ms, sys: 23.3 ms, total: 147 ms\n",
      "Wall time: 67 ms\n"
     ]
    }
   ],
   "source": [
    "%%time\n",
    "table, table_now = nonlinear.calculate_loop_table(k=classy['k'], pklin=classy['pk'],cosmo=classy['cosmo'], **kwargs)"
   ]
  },
  {
   "cell_type": "code",
   "execution_count": 10,
   "id": "9fe78bd8",
   "metadata": {},
   "outputs": [
    {
     "data": {
      "text/plain": [
       "36"
      ]
     },
     "execution_count": 10,
     "metadata": {},
     "output_type": "execute_result"
    }
   ],
   "source": [
    "len(table)"
   ]
  },
  {
   "cell_type": "code",
   "execution_count": 11,
   "id": "8abd9de6",
   "metadata": {},
   "outputs": [
    {
     "data": {
      "text/plain": [
       "array([-3.72095168e-01, -4.13002123e-01, -4.58399423e-01, -5.08778310e-01,\n",
       "       -5.64683222e-01, -6.26718283e-01, -6.95552736e-01, -7.71927874e-01,\n",
       "       -8.56665772e-01, -9.50676954e-01, -1.05496935e+00, -1.17065971e+00,\n",
       "       -1.29898418e+00, -1.44131012e+00, -1.59915104e+00, -1.77418115e+00,\n",
       "       -1.96825065e+00, -2.18340474e+00, -2.42190291e+00, -2.68623885e+00,\n",
       "       -2.97916489e+00, -3.30371740e+00, -3.66324214e+00, -4.06142418e+00,\n",
       "       -4.50231976e+00, -4.99038791e+00, -5.53052751e+00, -6.12811687e+00,\n",
       "       -6.78905200e+00, -7.51978864e+00, -8.32738733e+00, -9.21955678e+00,\n",
       "       -1.02047012e+01, -1.12919707e+01, -1.24913075e+01, -1.38134900e+01,\n",
       "       -1.52701783e+01, -1.68739529e+01, -1.86383514e+01, -2.05779041e+01,\n",
       "       -2.27081565e+01, -2.50456770e+01, -2.76080534e+01, -3.04138711e+01,\n",
       "       -3.34826752e+01, -3.68349200e+01, -4.04918899e+01, -4.44755805e+01,\n",
       "       -4.88085444e+01, -5.35137028e+01, -5.86141244e+01, -6.41327875e+01,\n",
       "       -7.00923071e+01, -7.65146056e+01, -8.34205370e+01, -9.08294836e+01,\n",
       "       -9.87589549e+01, -1.07224228e+02, -1.16238027e+02, -1.25810208e+02,\n",
       "       -1.35947445e+02, -1.46652980e+02, -1.57926503e+02, -1.69764247e+02,\n",
       "       -1.82159281e+02, -1.95101866e+02, -2.08579765e+02, -2.22578488e+02,\n",
       "       -2.37081535e+02, -2.52070688e+02, -2.67526205e+02, -2.83426495e+02,\n",
       "       -2.99746796e+02, -3.16456707e+02, -3.33516849e+02, -3.50875171e+02,\n",
       "       -3.68463302e+02, -3.86192915e+02, -4.03952115e+02, -4.21602698e+02,\n",
       "       -4.38980315e+02, -4.55900152e+02, -4.72169673e+02, -4.87607308e+02,\n",
       "       -5.02063156e+02, -5.15436559e+02, -5.27686079e+02, -5.38828638e+02,\n",
       "       -5.48925344e+02, -5.58052069e+02, -5.66256449e+02, -5.73511789e+02,\n",
       "       -5.79689269e+02, -5.84572834e+02, -5.87926974e+02, -5.89596518e+02,\n",
       "       -5.89586915e+02, -5.88069621e+02, -5.85294349e+02, -5.81451362e+02,\n",
       "       -5.76570180e+02, -5.70526358e+02, -5.63156319e+02, -5.54402449e+02,\n",
       "       -5.44389020e+02, -5.33381261e+02, -5.21661016e+02, -5.09401185e+02,\n",
       "       -4.96613892e+02, -4.83202272e+02, -4.69083911e+02, -4.54298147e+02,\n",
       "       -4.39011643e+02, -4.23423437e+02, -4.07663916e+02, -3.91774997e+02,\n",
       "       -3.75768440e+02, -3.59695264e+02, -3.43667535e+02, -3.27819113e+02])"
      ]
     },
     "execution_count": 11,
     "metadata": {},
     "output_type": "execute_result"
    }
   ],
   "source": [
    "table[29]"
   ]
  },
  {
   "cell_type": "code",
   "execution_count": 12,
   "id": "c0c3dca5",
   "metadata": {},
   "outputs": [],
   "source": [
    "# Bias parameters\n",
    "b1 = 1.645\n",
    "b2 = -0.46\n",
    "bs2 = -4./7*(b1 - 1)\n",
    "b3nl = 32./315*(b1 - 1)\n",
    "# EFT parameters\n",
    "alpha0 = 3                 #units: [Mpc/h]^2\n",
    "alpha2 = -28.9             #units: [Mpc/h]^2\n",
    "alpha4 = 0.0               #units: [Mpc/h]^2\n",
    "ctilde = 0.0               #units: [Mpc/h]^4\n",
    "# Stochatic parameters\n",
    "PshotP = 1. / 0.0002118763\n",
    "alphashot0 = 0.08\n",
    "alphashot2 = -8.1          #units: [Mpc/h]^2\n",
    "X_Fog_pk = 0\n",
    "pars = [b1, b2, bs2, b3nl, alpha0, alpha2, alpha4, ctilde, alphashot0, alphashot2, PshotP, X_Fog_pk]\n",
    "#pars = [b1, b2, bs2, b3nl, alpha0, alpha2, alpha4, ctilde, alphashot0, alphashot2, PshotP]\n",
    "\n",
    "qpar, qper = 1., 1.\n",
    "\n",
    "\n",
    "k = np.logspace(np.log10(0.01), np.log10(0.3), num=100) # array of  output k in [h/Mpc]"
   ]
  },
  {
   "cell_type": "code",
   "execution_count": 13,
   "id": "0f780950",
   "metadata": {},
   "outputs": [
    {
     "name": "stdout",
     "output_type": "stream",
     "text": [
      "[FOLPS] Model: EFT, Damping: lor\n",
      "[FOLPS] Model: EFT, Damping: lor\n",
      "CPU times: user 4.14 ms, sys: 3.05 ms, total: 7.2 ms\n",
      "Wall time: 5.22 ms\n"
     ]
    }
   ],
   "source": [
    "%%time\n",
    "multipoles = RSDMultipolesPowerSpectrumCalculator()#model='EFT'\n",
    "P0, P2, P4  = multipoles.get_rsd_pkell(kobs=k, qpar=qpar, qper=qper, pars=pars,\n",
    "                                       table=table, table_now=table_now,\n",
    "                                       bias_scheme='folps'#, damping=None\n",
    "                                       )"
   ]
  },
  {
   "cell_type": "code",
   "execution_count": 14,
   "id": "4cdc7e47",
   "metadata": {},
   "outputs": [
    {
     "data": {
      "image/png": "[encoded data removed]",
      "text/plain": [
       "<Figure size 700x500 with 1 Axes>"
      ]
     },
     "metadata": {},
     "output_type": "display_data"
    }
   ],
   "source": [
    "import matplotlib\n",
    "import matplotlib.pyplot as plt\n",
    "\n",
    "fig, axs = plt.subplots(figsize=(7,5))\n",
    "axs.set_xlabel(r'$k \\, [h\\, Mpc^{-1}]$', fontsize =  14)\n",
    "axs.set_ylabel(r'$k P_{\\ell}(k) \\, [h^{-1} \\,  Mpc]^2$', fontsize =  14)\n",
    "\n",
    "axs.plot(k, k * P0, color = 'navy', ls='-', label=r'$\\ell = 0$')\n",
    "axs.plot(k, k * P2, color = 'maroon', ls='-', label=r'$\\ell = 2$')\n",
    "axs.plot(k, k * P4, color = 'darkgreen', ls='-', label=r'$\\ell = 4$')\n",
    "\n",
    "axs.set_xlim([k[0], 0.2])\n",
    "#axs.set_ylim([-200.0, 1800])\n",
    "\n",
    "leg1 = axs.legend(loc = 'best');\n",
    "leg1.get_frame().set_linewidth(0.0);\n",
    "\n",
    "plt.show()"
   ]
  },
  {
   "cell_type": "code",
   "execution_count": 17,
   "id": "bc64123a",
   "metadata": {},
   "outputs": [
    {
     "data": {
      "text/plain": [
       "array([1583.48927827, 1603.05915869, 1621.5910943 , 1638.99782261,\n",
       "       1655.17774587, 1670.02435505, 1683.4341727 , 1695.31031413,\n",
       "       1705.56481689, 1714.1070307 , 1720.83733744, 1725.63919088,\n",
       "       1728.41161177, 1729.07672404, 1727.55420707, 1723.7717888 ,\n",
       "       1717.66524808, 1709.15394241, 1698.1815345 , 1684.73257692,\n",
       "       1668.78594881, 1650.32937588, 1629.37082549, 1605.94641592,\n",
       "       1580.12760472, 1552.02245901, 1521.74404369, 1489.4146781 ,\n",
       "       1455.16963042, 1419.18371421, 1381.69004845, 1342.98963894,\n",
       "       1303.3701885 , 1263.1100706 , 1222.48309771, 1181.74043275,\n",
       "       1141.15235469, 1101.06923978, 1061.82475998, 1023.71733596,\n",
       "        986.99749182,  951.85179495,  918.41197438,  886.78284775,\n",
       "        857.03575242,  829.20719534,  803.30184063,  779.23848591,\n",
       "        756.85720102,  736.00127641,  716.49065677,  698.12251679,\n",
       "        680.70770367,  664.08418682,  648.13436681,  632.8100431 ,\n",
       "        618.12357331,  604.15210184,  591.05198963,  579.02177047,\n",
       "        568.27694454,  559.02361737,  551.42568199,  545.57776865,\n",
       "        541.49003871,  539.08023155,  538.15800913,  538.44623276,\n",
       "        539.63246675,  541.4271075 ,  543.66855501,  546.3507189 ,\n",
       "        549.65113116,  553.82521019,  559.10663027,  565.59631766,\n",
       "        573.14678739,  581.40601517,  589.98137534,  598.52136042,\n",
       "        606.79000172,  614.61091818,  621.97303762,  629.11398798,\n",
       "        636.81626966,  645.49126627,  654.84049791,  664.13214624,\n",
       "        672.04804323,  677.21706061,  680.30024611,  683.11276378,\n",
       "        687.59656703,  693.5132125 ,  699.26153247,  702.78133695,\n",
       "        703.51045693,  702.45715349,  701.72853109,  701.51630672])"
      ]
     },
     "execution_count": 17,
     "metadata": {},
     "output_type": "execute_result"
    }
   ],
   "source": [
    "P4"
   ]
  },
  {
   "cell_type": "raw",
   "id": "28c4ee5d",
   "metadata": {},
   "source": [
    "############################# Bispectrum ###############################3"
   ]
  },
  {
   "cell_type": "code",
   "execution_count": null,
   "id": "4b75e0c0",
   "metadata": {},
   "outputs": [],
   "source": [
    "#pars for Bispectrum\n",
    "z_pk=0.3;\n",
    "\n",
    "\n",
    "b1v = 1;\n",
    "b2v = 0.0;\n",
    "bsv = 0;\n",
    "c1v = 0; \n",
    "c2v = 0\n",
    "X_FoG_b = 0\n",
    "\n",
    "Omv=classy['cosmo'].Omega0_m();\n",
    "hv=classy['cosmo'].h(); \n",
    "f=classy['cosmo'].scale_independent_growth_factor_f(z_pk)\n",
    "\n",
    "qparv = 1; qperpv = 1;\n",
    "Bshotv=0.0\n",
    "Pshotv=0.0\n",
    "\n",
    "f0 = nonlinear.f0\n",
    "\n",
    "bisp_nuis_params = [b1v, b2v, bsv, c1v, c2v, Bshotv, Pshotv, X_Fog_pk]\n",
    "#bisp_cosmo_params = [classy['cosmo'].Omega0_m(),classy['cosmo'].h]"
   ]
  },
  {
   "cell_type": "code",
   "execution_count": null,
   "id": "ca6df13d",
   "metadata": {},
   "outputs": [],
   "source": [
    "ks = np.logspace(np.log10(0.0001), np.log10(0.4), 30)\n",
    "k1k2T = np.vstack([ks,ks]).T"
   ]
  },
  {
   "cell_type": "code",
   "execution_count": null,
   "id": "73d38551",
   "metadata": {},
   "outputs": [],
   "source": [
    "bispectrum = BispectrumCalculator(basis='sugiyama')"
   ]
  },
  {
   "cell_type": "code",
   "execution_count": null,
   "id": "b727216a",
   "metadata": {},
   "outputs": [],
   "source": [
    "pklir = get_linear_ir_ini(table[0], table[1], table_now[1], h=classy['cosmo'].h)"
   ]
  },
  {
   "cell_type": "code",
   "execution_count": null,
   "id": "0ee6d719",
   "metadata": {},
   "outputs": [],
   "source": [
    "%%time\n",
    "B000, B202 = bispectrum.Bisp_Sugiyama(f=f0, f0=f0, bpars=bisp_nuis_params,\n",
    "                                      pk_input=pklir, z_pk=z_pk,\n",
    "                                      k1k2pairs=k1k2T, qpar=1, qperp=1, precision=[4, 5, 5], damping='lor')"
   ]
  },
  {
   "cell_type": "code",
   "execution_count": null,
   "id": "68c204b8",
   "metadata": {},
   "outputs": [],
   "source": [
    "fig, axs = plt.subplots(figsize=(7,5))\n",
    "axs.set_xlabel(r'$k \\, [h\\, Mpc^{-1}]$', fontsize =  14)\n",
    "axs.set_ylabel(r'$k^2 B(k,k) $', fontsize =  14)\n",
    "\n",
    "\n",
    "\n",
    "axs.loglog(k1k2T.T[0],B000, ls='-', label='B000')\n",
    "axs.loglog(k1k2T.T[0],B202, ls='-', label='B202')\n",
    "axs.loglog(nonlinear.inputpkT[0],nonlinear.inputpkT[1]*nonlinear.inputpkT[1], ls='-', label='P^2')\n",
    "\n",
    "\n",
    "\n",
    "axs.set_xlim([0.001,0.15])\n",
    "axs.set_ylim([1e5, 1e10])\n",
    "\n",
    "leg1 = axs.legend(loc = 'best');\n",
    "leg1.get_frame().set_linewidth(0.0);\n",
    "\n",
    "plt.show()"
   ]
  },
  {
   "cell_type": "code",
   "execution_count": null,
   "id": "628b7805",
   "metadata": {},
   "outputs": [],
   "source": []
  },
  {
   "cell_type": "code",
   "execution_count": null,
   "id": "c97c6463-4568-47f2-9729-58e48c7e8f3f",
   "metadata": {},
   "outputs": [],
   "source": []
  },
  {
   "cell_type": "code",
   "execution_count": null,
   "id": "1ff439d7-9c7e-4138-97b4-c8622c6e2b12",
   "metadata": {},
   "outputs": [],
   "source": []
  },
  {
   "cell_type": "code",
   "execution_count": null,
   "id": "698b7e58-68cc-4968-8b4d-8aa99215ec55",
   "metadata": {},
   "outputs": [],
   "source": []
  }
 ],
 "metadata": {
  "kernelspec": {
   "display_name": "Python 3 (ipykernel)",
   "language": "python",
   "name": "python3"
  },
  "language_info": {
   "codemirror_mode": {
    "name": "ipython",
    "version": 3
   },
   "file_extension": ".py",
   "mimetype": "text/x-python",
   "name": "python",
   "nbconvert_exporter": "python",
   "pygments_lexer": "ipython3",
   "version": "3.10.18"
  }
 },
 "nbformat": 4,
 "nbformat_minor": 5
}
