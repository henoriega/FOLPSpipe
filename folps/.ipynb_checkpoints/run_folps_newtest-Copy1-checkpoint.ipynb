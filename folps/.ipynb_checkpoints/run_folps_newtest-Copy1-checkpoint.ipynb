{
 "cells": [
  {
   "cell_type": "code",
   "execution_count": null,
   "id": "f8e82ba4",
   "metadata": {
    "scrolled": true
   },
   "outputs": [],
   "source": [
    "import os\n",
    "\n",
    "# Select the backend before importing folps.py\n",
    "os.environ[\"FOLPS_BACKEND\"] = \"numpy\"  #'numpy' or 'jax'\n",
    "\n",
    "from folps_newtest import *\n",
    "from cosmo_class import *\n",
    "from use_fkpt import *"
   ]
  },
  {
   "cell_type": "code",
   "execution_count": null,
   "id": "261529c2",
   "metadata": {},
   "outputs": [],
   "source": [
    "#omega_i = Omega_i h² \n",
    "omega_b = 0.022;        #baryons\n",
    "omega_cdm = 0.122;       #CDM\n",
    "omega_ncdm = 0.0006442;    #massive neutrinos \n",
    "h = 0.6711;                 #h = H0/100\n",
    "z_pk = 0.3;  #evaluation redshift\n",
    "z_pk_scale = 0.97\n",
    "CosmoParams = [z_pk, omega_b, omega_cdm, omega_ncdm, h]"
   ]
  },
  {
   "cell_type": "code",
   "execution_count": null,
   "id": "d19ad2b3",
   "metadata": {},
   "outputs": [],
   "source": [
    "%%time\n",
    "#linear power spectrum\n",
    "ps = generate_ps(h = 0.6711, ombh2 = 0.022, omch2 = 0.122, omnuh2 = 0.0006442, \n",
    "            As = 2e-9, ns = 0.965, z = z_pk, z_scale=[0.97],\n",
    "            N_ur = 2.0328,\n",
    "            khmin = 0.0001, khmax = 2.0, nbk = 1000, spectra = 'matter')\n",
    "inputpkT = np.array([ps['kh'], ps['pk']])\n",
    "kwargs = {'z': z_pk, 'h': h, 'Omega_m': ps['cosmo'].Omega0_m(), 'f0':0.6900011469771554,\n",
    "          'fnu':ps['cosmo'].scale_independent_growth_factor_f(z_pk)}"
   ]
  },
  {
   "cell_type": "code",
   "execution_count": null,
   "id": "e26b04fe",
   "metadata": {},
   "outputs": [],
   "source": [
    "matrix = MatrixCalculator(A_full=True)\n",
    "mmatrices = matrix.get_mmatrices()"
   ]
  },
  {
   "cell_type": "code",
   "execution_count": null,
   "id": "d24d6ebf",
   "metadata": {},
   "outputs": [],
   "source": [
    "%%time\n",
    "#1-loop\n",
    "nonlinear = NonLinearPowerSpectrumCalculator(mmatrices=mmatrices,\n",
    "                                             kernels='eds',\n",
    "                                             **kwargs)"
   ]
  },
  {
   "cell_type": "code",
   "execution_count": null,
   "id": "0c1baf86",
   "metadata": {},
   "outputs": [],
   "source": [
    "kwargs"
   ]
  },
  {
   "cell_type": "code",
   "execution_count": null,
   "id": "e0aacfd0",
   "metadata": {
    "scrolled": true
   },
   "outputs": [],
   "source": [
    "%%time\n",
    "table, table_now = nonlinear.calculate_loop_table(k=inputpkT[0], pklin=inputpkT[1], #cosmo=ps['cosmo'],\n",
    "                                             **kwargs)"
   ]
  },
  {
   "cell_type": "code",
   "execution_count": null,
   "id": "c0c3dca5",
   "metadata": {},
   "outputs": [],
   "source": [
    "PshotP = 1. / 0.0002118763\n",
    "# Bias parameters\n",
    "b1 = 1.645\n",
    "b2 = -0.46\n",
    "bs2 = -4./7*(b1 - 1)\n",
    "b3nl = 32./315*(b1 - 1)\n",
    "# EFT parameters\n",
    "alpha0 = 3                 #units: [Mpc/h]^2\n",
    "alpha2 = -28.9             #units: [Mpc/h]^2\n",
    "alpha4 = 0.0               #units: [Mpc/h]^2\n",
    "ctilde = 0.0               #units: [Mpc/h]^4\n",
    "# Stochatic parameters\n",
    "alphashot0 = 0.08\n",
    "alphashot2 = -8.1          #units: [Mpc/h]^2\n",
    "pars = [b1, b2, bs2, b3nl, alpha0, alpha2, alpha4, ctilde, alphashot0, alphashot2, PshotP]\n",
    "qpar, qper = 1., 1.\n",
    "\n",
    "\n",
    "k = np.logspace(np.log10(0.01), np.log10(0.3), num=100) # array of  output k in [h/Mpc]"
   ]
  },
  {
   "cell_type": "code",
   "execution_count": null,
   "id": "0f780950",
   "metadata": {},
   "outputs": [],
   "source": [
    "%%time\n",
    "multipoles = RSDMultipolesPowerSpectrumCalculator(model='EFT')"
   ]
  },
  {
   "cell_type": "code",
   "execution_count": null,
   "id": "bc611e9b",
   "metadata": {},
   "outputs": [],
   "source": [
    "%%time\n",
    "P0, P2, P4  = multipoles.get_rsd_pkell(kobs=k, qpar=qpar, qper=qper, pars=pars, table=table, table_now=table_now)"
   ]
  },
  {
   "cell_type": "code",
   "execution_count": null,
   "id": "6b73e712",
   "metadata": {},
   "outputs": [],
   "source": [
    "%%time\n",
    "P0_noir, P2_noir  = multipoles.get_rsd_pkell(kobs=k, qpar=qpar, qper=qper, pars=pars, table=table, table_now=table_now, ells=(0, 2),IR_resummation=False, bias_scheme=\"folps\")"
   ]
  },
  {
   "cell_type": "code",
   "execution_count": null,
   "id": "4cdc7e47",
   "metadata": {},
   "outputs": [],
   "source": [
    "import matplotlib\n",
    "import matplotlib.pyplot as plt\n",
    "\n",
    "fig, axs = plt.subplots(figsize=(7,5))\n",
    "axs.set_xlabel(r'$k \\, [h\\, Mpc^{-1}]$', fontsize =  14)\n",
    "axs.set_ylabel(r'$k P_{\\ell}(k) \\, [h^{-1} \\,  Mpc]^2$', fontsize =  14)\n",
    "\n",
    "axs.plot(k, k * P0, color = 'navy', ls='-', label=r'$\\ell = 0$')\n",
    "axs.plot(k, k * P0_noir, color = 'navy', ls='-.')\n",
    "\n",
    "axs.plot(k, k * P2, color = 'maroon', ls='-', label=r'$\\ell = 2$')\n",
    "axs.plot(k, k * P2_noir, color = 'maroon', ls='-.')\n",
    "axs.plot(k, k * P4, color = 'darkgreen', ls='-', label=r'$\\ell = 4$')\n",
    "\n",
    "axs.set_xlim([k[0], 0.2])\n",
    "#axs.set_ylim([-200.0, 1800])\n",
    "\n",
    "leg1 = axs.legend(loc = 'best');\n",
    "leg1.get_frame().set_linewidth(0.0);\n",
    "\n",
    "plt.show()"
   ]
  },
  {
   "cell_type": "code",
   "execution_count": null,
   "id": "41c1f30c",
   "metadata": {},
   "outputs": [],
   "source": [
    "multipoles.model"
   ]
  },
  {
   "cell_type": "code",
   "execution_count": null,
   "id": "900a68f6",
   "metadata": {},
   "outputs": [],
   "source": [
    "len(table)"
   ]
  },
  {
   "cell_type": "code",
   "execution_count": null,
   "id": "02004034",
   "metadata": {},
   "outputs": [],
   "source": [
    "table_now[32]"
   ]
  },
  {
   "cell_type": "code",
   "execution_count": null,
   "id": "792345cd",
   "metadata": {},
   "outputs": [],
   "source": [
    "table_now[33]"
   ]
  },
  {
   "cell_type": "code",
   "execution_count": null,
   "id": "52cde211",
   "metadata": {
    "scrolled": false
   },
   "outputs": [],
   "source": [
    "table_now[34]"
   ]
  },
  {
   "cell_type": "code",
   "execution_count": null,
   "id": "f9ca54e5",
   "metadata": {},
   "outputs": [],
   "source": [
    "table_now[35]"
   ]
  },
  {
   "cell_type": "code",
   "execution_count": null,
   "id": "72d10e09",
   "metadata": {},
   "outputs": [],
   "source": [
    "np.array([P0, P2])"
   ]
  },
  {
   "cell_type": "code",
   "execution_count": null,
   "id": "4d2818df",
   "metadata": {},
   "outputs": [],
   "source": []
  },
  {
   "cell_type": "code",
   "execution_count": null,
   "id": "9669c339",
   "metadata": {},
   "outputs": [],
   "source": [
    "############################# Bispectrum ###############################3"
   ]
  },
  {
   "cell_type": "code",
   "execution_count": null,
   "id": "b5efe2ac",
   "metadata": {},
   "outputs": [],
   "source": [
    "classy  = run_class(h = 0.6711, ombh2 = 0.022, omch2 = 0.122, omnuh2 = 0.0006442, \n",
    "                    As = 2e-9, ns = 0.965, z = 0.3, z_scale=[0.97],\n",
    "                    N_ur = 2.0328,\n",
    "                    khmin = 0.0001, khmax = 2.0, nbk = 1000, spectra = 'matter')"
   ]
  },
  {
   "cell_type": "code",
   "execution_count": null,
   "id": "4b75e0c0",
   "metadata": {},
   "outputs": [],
   "source": [
    "#pars for Bispectrum\n",
    "z_pk=0.0;\n",
    "\n",
    "\n",
    "b1v = 1;\n",
    "c1v = 0; b2v = 0.0; bsv = 0;\n",
    "\n",
    "Omv=classy['cosmo'].Omega0_m();\n",
    "hv=classy['cosmo'].h(); \n",
    "f=classy['cosmo'].scale_independent_growth_factor_f(z_pk)\n",
    "\n",
    "qparv = 1; qperpv = 1;\n",
    "Bshotv=0.0\n",
    "Pshotv=0.0\n",
    "\n",
    "\n",
    "bisp_nuis_paramsv=[b1v,b2v,bsv,c1v,Bshotv,Pshotv]\n",
    "bisp_cosmo_paramsv=[Omv, hv, nonlinear.f0]"
   ]
  },
  {
   "cell_type": "code",
   "execution_count": null,
   "id": "ca6df13d",
   "metadata": {},
   "outputs": [],
   "source": [
    "ks = np.logspace(np.log10(0.0001), np.log10(0.4), 30)\n",
    "k1k2T = np.vstack([ks,ks]).T"
   ]
  },
  {
   "cell_type": "code",
   "execution_count": null,
   "id": "0ee6d719",
   "metadata": {},
   "outputs": [],
   "source": [
    "%%time\n",
    "#precision=[8,10,10]\n",
    "B000,B202=Bisp_Sugiyama(bisp_cosmo_paramsv, bisp_nuis_paramsv, pk_input=nonlinear.inputpkT, z_pk=z_pk, k1k2pairs=k1k2T, Omfid=-1,qpar=1,qperp=1)#,precision=precision)"
   ]
  },
  {
   "cell_type": "code",
   "execution_count": null,
   "id": "68c204b8",
   "metadata": {},
   "outputs": [],
   "source": [
    "fig, axs = plt.subplots(figsize=(7,5))\n",
    "axs.set_xlabel(r'$k \\, [h\\, Mpc^{-1}]$', fontsize =  14)\n",
    "axs.set_ylabel(r'$k^2 B(k,k) $', fontsize =  14)\n",
    "\n",
    "#axs.plot(k1k2T.T[0], k1k2T.T[0]*k1k2T.T[0]*B000, ls='-', label='B000')\n",
    "#axs.plot(k1k2T.T[0],k1k2T.T[0]*k1k2T.T[0]*B202, ls='-', label='B202')\n",
    "\n",
    "\n",
    "axs.loglog(k1k2T.T[0],B000, ls='-', label='B000')\n",
    "axs.loglog(k1k2T.T[0],B202, ls='-', label='B202')\n",
    "axs.loglog(nonlinear.inputpkT[0],nonlinear.inputpkT[1]*nonlinear.inputpkT[1], ls='-', label='P^2')\n",
    "\n",
    "\n",
    "\n",
    "axs.set_xlim([0.0001,0.15])\n",
    "axs.set_ylim([1e5, 1e10])\n",
    "\n",
    "leg1 = axs.legend(loc = 'best');\n",
    "leg1.get_frame().set_linewidth(0.0);\n",
    "\n",
    "plt.show()"
   ]
  },
  {
   "cell_type": "code",
   "execution_count": null,
   "id": "628b7805",
   "metadata": {},
   "outputs": [],
   "source": [
    "inputpkT[1]"
   ]
  },
  {
   "cell_type": "markdown",
   "id": "eab559fb",
   "metadata": {},
   "source": [
    "# "
   ]
  },
  {
   "cell_type": "code",
   "execution_count": null,
   "id": "1ff439d7-9c7e-4138-97b4-c8622c6e2b12",
   "metadata": {},
   "outputs": [],
   "source": []
  },
  {
   "cell_type": "code",
   "execution_count": null,
   "id": "698b7e58-68cc-4968-8b4d-8aa99215ec55",
   "metadata": {},
   "outputs": [],
   "source": []
  }
 ],
 "metadata": {
  "kernelspec": {
   "display_name": "Python 3 (ipykernel)",
   "language": "python",
   "name": "python3"
  },
  "language_info": {
   "codemirror_mode": {
    "name": "ipython",
    "version": 3
   },
   "file_extension": ".py",
   "mimetype": "text/x-python",
   "name": "python",
   "nbconvert_exporter": "python",
   "pygments_lexer": "ipython3",
   "version": "3.9.7"
  }
 },
 "nbformat": 4,
 "nbformat_minor": 5
}
