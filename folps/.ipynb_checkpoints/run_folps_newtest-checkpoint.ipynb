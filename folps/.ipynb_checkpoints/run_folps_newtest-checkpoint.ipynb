{
 "cells": [
  {
   "cell_type": "code",
   "execution_count": 1,
   "id": "f8e82ba4",
   "metadata": {
    "scrolled": true
   },
   "outputs": [
    {
     "name": "stdout",
     "output_type": "stream",
     "text": [
      "✅ Using NumPy with CPU.\n"
     ]
    }
   ],
   "source": [
    "import os\n",
    "\n",
    "# Select the backend before importing folps.py\n",
    "os.environ[\"FOLPS_BACKEND\"] = \"numpy\"  #'numpy' or 'jax'\n",
    "\n",
    "from folps import *\n",
    "from cosmo_class import *"
   ]
  },
  {
   "cell_type": "code",
   "execution_count": 2,
   "id": "d19ad2b3",
   "metadata": {},
   "outputs": [
    {
     "name": "stdout",
     "output_type": "stream",
     "text": [
      "CPU times: user 3 μs, sys: 1 μs, total: 4 μs\n",
      "Wall time: 6.91 μs\n"
     ]
    }
   ],
   "source": [
    "%%time\n",
    "#linear power spectrum\n",
    "#classy  = run_class(h = 0.6711, ombh2 = 0.022, omch2 = 0.122, omnuh2 = 0.1/93.14, \n",
    "#                    As = 2e-9, ns = 0.965, z = 1., z_scale=[0.97],\n",
    "#                    N_ur = 2.0328,\n",
    "#                    khmin = 0.0001, khmax = 2.0, nbk = 1000, spectra = 'matter')\n",
    "kwargs = {'z': 0.01, 'h': 0.67, 'Omega_m': (0.0224 + 0.12 + 0)/0.67**2,\n",
    "          'fnu':0.0}"
   ]
  },
  {
   "cell_type": "code",
   "execution_count": 3,
   "id": "e0f5fce1",
   "metadata": {},
   "outputs": [],
   "source": [
    "inputpkT = np.loadtxt('pk_linear.txt', unpack = True)"
   ]
  },
  {
   "cell_type": "code",
   "execution_count": 4,
   "id": "e26b04fe",
   "metadata": {},
   "outputs": [
    {
     "name": "stdout",
     "output_type": "stream",
     "text": [
      "Calculating and saving matrices to matrices_nfftlog128_Afull_False_remove-DeltaP_False.npy\n"
     ]
    }
   ],
   "source": [
    "matrix = MatrixCalculator(A_full=False)\n",
    "mmatrices = matrix.get_mmatrices()"
   ]
  },
  {
   "cell_type": "code",
   "execution_count": 5,
   "id": "d24d6ebf",
   "metadata": {},
   "outputs": [
    {
     "name": "stdout",
     "output_type": "stream",
     "text": [
      "CPU times: user 285 μs, sys: 94 μs, total: 379 μs\n",
      "Wall time: 371 μs\n"
     ]
    }
   ],
   "source": [
    "%%time\n",
    "nonlinear = NonLinearPowerSpectrumCalculator(mmatrices=mmatrices,\n",
    "                                             kernels='eds',\n",
    "                                             **kwargs)"
   ]
  },
  {
   "cell_type": "code",
   "execution_count": 6,
   "id": "dba884b8",
   "metadata": {},
   "outputs": [
    {
     "name": "stdout",
     "output_type": "stream",
     "text": [
      "CPU times: user 114 ms, sys: 23.6 ms, total: 138 ms\n",
      "Wall time: 67.5 ms\n"
     ]
    }
   ],
   "source": [
    "%%time\n",
    "table, table_now = nonlinear.calculate_loop_table(k=inputpkT[0], pklin=inputpkT[1],cosmo=None, **kwargs)\n",
    "#table2, table_now2 = nonlinear2.calculate_loop_table(k=classy['k'], pklin=classy['pk'],cosmo=classy['cosmo'], **kwargs)"
   ]
  },
  {
   "cell_type": "code",
   "execution_count": 9,
   "id": "473c35b6-e029-40c6-8804-1e7ea9ed4edd",
   "metadata": {},
   "outputs": [
    {
     "name": "stdout",
     "output_type": "stream",
     "text": [
      "Tiempo total: 4.5798 segundos\n",
      "Tiempo promedio por iteración: 0.045798 segundos\n"
     ]
    }
   ],
   "source": [
    "import time\n",
    "\n",
    "# Número de iteraciones\n",
    "N = 100\n",
    "\n",
    "# Medir tiempo inicial\n",
    "start = time.time()\n",
    "\n",
    "for _ in range(N):\n",
    "    table, table_now = nonlinear.calculate_loop_table(\n",
    "        k=inputpkT[0], \n",
    "        pklin=inputpkT[1],\n",
    "        cosmo=None, \n",
    "        **kwargs\n",
    "    )\n",
    "\n",
    "# Medir tiempo final\n",
    "end = time.time()\n",
    "\n",
    "# Tiempo total\n",
    "total_time = end - start\n",
    "\n",
    "# Tiempo promedio\n",
    "avg_time = total_time / N\n",
    "\n",
    "print(f\"Tiempo total: {total_time:.4f} segundos\")\n",
    "print(f\"Tiempo promedio por iteración: {avg_time:.6f} segundos\")"
   ]
  },
  {
   "cell_type": "code",
   "execution_count": 7,
   "id": "1ddd51e1",
   "metadata": {},
   "outputs": [
    {
     "data": {
      "text/plain": [
       "<function tools.qpar_qperp(Omega_fid, Omega_m, z_pk, cosmo=None)>"
      ]
     },
     "execution_count": 7,
     "metadata": {},
     "output_type": "execute_result"
    }
   ],
   "source": [
    "qpar_qperp"
   ]
  },
  {
   "cell_type": "code",
   "execution_count": 8,
   "id": "c0c3dca5",
   "metadata": {},
   "outputs": [],
   "source": [
    "# Bias parameters\n",
    "b1 = 1\n",
    "b2 = 0\n",
    "bs2 = -4./7*(b1 - 1)\n",
    "b3nl = 32./315*(b1 - 1)\n",
    "# EFT parameters\n",
    "alpha0 = 0                 #units: [Mpc/h]^2\n",
    "alpha2 = 0             #units: [Mpc/h]^2\n",
    "alpha4 = 0.0               #units: [Mpc/h]^2\n",
    "ctilde = 0.0               #units: [Mpc/h]^4\n",
    "# Stochatic parameters\n",
    "PshotP = 1. / 0.002\n",
    "alphashot0 = 0\n",
    "alphashot2 = 0          #units: [Mpc/h]^2\n",
    "X_Fog_pk = 1\n",
    "pars = [b1, b2, bs2, b3nl, alpha0, alpha2, alpha4, ctilde, alphashot0, alphashot2, PshotP, X_Fog_pk]\n",
    "qpar, qper = qpar_qperp(Omega_fid=0.31, Omega_m=kwargs['Omega_m'], z_pk=kwargs['z'])\n",
    "\n",
    "\n",
    "k = np.logspace(np.log10(0.01), np.log10(0.3), num=100) # array of  output k in [h/Mpc]"
   ]
  },
  {
   "cell_type": "code",
   "execution_count": 9,
   "id": "63097432",
   "metadata": {},
   "outputs": [
    {
     "data": {
      "text/plain": [
       "0.9998916508816482"
      ]
     },
     "execution_count": 9,
     "metadata": {},
     "output_type": "execute_result"
    }
   ],
   "source": [
    "qpar"
   ]
  },
  {
   "cell_type": "code",
   "execution_count": 10,
   "id": "0f780950",
   "metadata": {},
   "outputs": [
    {
     "name": "stdout",
     "output_type": "stream",
     "text": [
      "[FOLPS] Model: FOLPSD, Damping: lor\n",
      "[FOLPS] Model: FOLPSD, Damping: lor\n",
      "CPU times: user 3.42 ms, sys: 1.95 ms, total: 5.37 ms\n",
      "Wall time: 4.08 ms\n"
     ]
    }
   ],
   "source": [
    "%%time\n",
    "multipoles = RSDMultipolesPowerSpectrumCalculator(model='FOLPSD')#model='EFT'\n",
    "P0, P2, P4  = multipoles.get_rsd_pkell(kobs=k, qpar=qpar, qper=qper, pars=pars,\n",
    "                                       table=table, table_now=table_now,\n",
    "                                       bias_scheme='folps', damping='lor')\n",
    "                                "
   ]
  },
  {
   "cell_type": "code",
   "execution_count": 11,
   "id": "4cdc7e47",
   "metadata": {},
   "outputs": [
    {
     "data": {
      "image/png": "[encoded data removed]",
      "text/plain": [
       "<Figure size 700x500 with 1 Axes>"
      ]
     },
     "metadata": {},
     "output_type": "display_data"
    }
   ],
   "source": [
    "import matplotlib\n",
    "import matplotlib.pyplot as plt\n",
    "\n",
    "fig, axs = plt.subplots(figsize=(7,5))\n",
    "axs.set_xlabel(r'$k \\, [h\\, Mpc^{-1}]$', fontsize =  14)\n",
    "axs.set_ylabel(r'$k P_{\\ell}(k) \\, [h^{-1} \\,  Mpc]^2$', fontsize =  14)\n",
    "\n",
    "axs.plot(k, k * P0, color = 'navy', ls='-', label=r'$\\ell = 0$')\n",
    "axs.plot(k, k * P2, color = 'maroon', ls='-', label=r'$\\ell = 2$')\n",
    "axs.plot(k, k * P4, color = 'darkgreen', ls='-', label=r'$\\ell = 4$')\n",
    "\n",
    "\n",
    "axs.set_xlim([k[0], 0.2])\n",
    "#axs.set_ylim([-200.0, 1800])\n",
    "\n",
    "leg1 = axs.legend(loc = 'best');\n",
    "leg1.get_frame().set_linewidth(0.0);\n",
    "\n",
    "plt.show()"
   ]
  },
  {
   "cell_type": "code",
   "execution_count": 14,
   "id": "2a515f94",
   "metadata": {},
   "outputs": [
    {
     "data": {
      "text/plain": [
       "np.float64(0.06077652562781477)"
      ]
     },
     "execution_count": 14,
     "metadata": {},
     "output_type": "execute_result"
    }
   ],
   "source": [
    "max(\n",
    "    abs(1 -P2/np.array([19021.34254008, 19272.48002156, 19512.36417451, 19739.91962505,\n",
    "       19953.98310918, 20153.33580623, 20336.80238999, 20503.26216902,\n",
    "       20651.58812749, 20780.6054353 , 20889.08182711, 20975.73603556,\n",
    "       21039.32599808, 21078.68743943, 21092.72591378, 21080.42686751,\n",
    "       21040.85705573, 20973.1224272 , 20876.43604976, 20750.15887418,\n",
    "       20593.80256764, 20407.03631955, 20189.71466342, 19942.05011691,\n",
    "       19664.5618741 , 19358.0047822 , 19023.30482251, 18661.54365443,\n",
    "       18273.93311316, 17862.19425786, 17428.79048434, 16977.05089803,\n",
    "       16510.17790136, 16031.25974478, 15543.28091318, 15049.05321398,\n",
    "       14551.83593022, 14056.22716075, 13566.66048752, 13087.1087902 ,\n",
    "       12620.88738948, 12170.80234174, 11739.21306748, 11328.08619874,\n",
    "       10939.00072003, 10573.16449579, 10231.46450911,  9913.43473298,\n",
    "        9617.20892159,  9340.71614405,  9081.16185749,  8834.84579291,\n",
    "        8597.43545013,  8364.34074746,  8130.99385975,  7893.13434318,\n",
    "        7646.94992859,  7389.51077802,  7119.73578405,  6837.97717421,\n",
    "        6546.10551188,  6248.19583899,  5949.6833482 ,  5656.72703356,\n",
    "        5375.7371302 ,  5112.69119884,  4872.19581509,  4656.85155882,\n",
    "        4467.20162453,  4301.38283053,  4155.70466917,  4025.22713332,\n",
    "        3904.43668065,  3788.19099156,  3672.30030223,  3554.47671705,\n",
    "        3434.57444542,  3314.27770095,  3196.71297235,  3084.89460212,\n",
    "        2980.65853795,  2883.23580274,  2790.26335459,  2699.05246905,\n",
    "        2608.78948269,  2519.64953741,  2432.7758833 ,  2350.43235852,\n",
    "        2272.55287005,  2196.01615293,  2118.83634716,  2040.38928509,\n",
    "        1961.40699018,  1881.84206594,  1801.84266406,  1722.12199187,\n",
    "        1643.2473587 ,  1565.77810549,  1489.95124801,  1414.12481073])\n",
    ") * 100\n",
    ")"
   ]
  },
  {
   "cell_type": "code",
   "execution_count": null,
   "id": "bc64123a",
   "metadata": {},
   "outputs": [],
   "source": [
    "P0"
   ]
  },
  {
   "cell_type": "code",
   "execution_count": null,
   "id": "a087d284",
   "metadata": {},
   "outputs": [],
   "source": [
    "P0"
   ]
  },
  {
   "cell_type": "raw",
   "id": "28c4ee5d",
   "metadata": {},
   "source": [
    "############################# Bispectrum ###############################3"
   ]
  },
  {
   "cell_type": "code",
   "execution_count": null,
   "id": "4b75e0c0",
   "metadata": {},
   "outputs": [],
   "source": [
    "#pars for Bispectrum\n",
    "z_pk=0.3;\n",
    "\n",
    "\n",
    "b1v = 1;\n",
    "b2v = 0.0;\n",
    "bsv = 0;\n",
    "c1v = 0; \n",
    "c2v = 0\n",
    "X_FoG_b = 0\n",
    "\n",
    "Omv=classy['cosmo'].Omega0_m();\n",
    "hv=classy['cosmo'].h(); \n",
    "f=classy['cosmo'].scale_independent_growth_factor_f(z_pk)\n",
    "\n",
    "qparv = 1; qperpv = 1;\n",
    "Bshotv=0.0\n",
    "Pshotv=0.0\n",
    "\n",
    "f0 = nonlinear.f0\n",
    "\n",
    "bisp_nuis_params = [b1v, b2v, bsv, c1v, c2v, Bshotv, Pshotv, X_Fog_pk]\n",
    "#bisp_cosmo_params = [classy['cosmo'].Omega0_m(),classy['cosmo'].h]"
   ]
  },
  {
   "cell_type": "code",
   "execution_count": null,
   "id": "ca6df13d",
   "metadata": {},
   "outputs": [],
   "source": [
    "ks = np.logspace(np.log10(0.0001), np.log10(0.4), 30)\n",
    "k1k2T = np.vstack([ks,ks]).T"
   ]
  },
  {
   "cell_type": "code",
   "execution_count": null,
   "id": "73d38551",
   "metadata": {},
   "outputs": [],
   "source": [
    "bispectrum = BispectrumCalculator(basis='sugiyama')"
   ]
  },
  {
   "cell_type": "code",
   "execution_count": null,
   "id": "b727216a",
   "metadata": {},
   "outputs": [],
   "source": [
    "pklir = get_linear_ir_ini(table[0], table[1], table_now[1], h=classy['cosmo'].h)"
   ]
  },
  {
   "cell_type": "code",
   "execution_count": null,
   "id": "0ee6d719",
   "metadata": {},
   "outputs": [],
   "source": [
    "%%time\n",
    "B000, B202 = bispectrum.Bisp_Sugiyama(f=f0, f0=f0, bpars=bisp_nuis_params,\n",
    "                                      pk_input=pklir, z_pk=z_pk,\n",
    "                                      k1k2pairs=k1k2T, qpar=1, qperp=1, precision=[4, 5, 5], damping='lor')"
   ]
  },
  {
   "cell_type": "code",
   "execution_count": null,
   "id": "68c204b8",
   "metadata": {},
   "outputs": [],
   "source": [
    "fig, axs = plt.subplots(figsize=(7,5))\n",
    "axs.set_xlabel(r'$k \\, [h\\, Mpc^{-1}]$', fontsize =  14)\n",
    "axs.set_ylabel(r'$k^2 B(k,k) $', fontsize =  14)\n",
    "\n",
    "\n",
    "\n",
    "axs.loglog(k1k2T.T[0],B000, ls='-', label='B000')\n",
    "axs.loglog(k1k2T.T[0],B202, ls='-', label='B202')\n",
    "axs.loglog(nonlinear.inputpkT[0],nonlinear.inputpkT[1]*nonlinear.inputpkT[1], ls='-', label='P^2')\n",
    "\n",
    "\n",
    "\n",
    "axs.set_xlim([0.001,0.15])\n",
    "axs.set_ylim([1e5, 1e10])\n",
    "\n",
    "leg1 = axs.legend(loc = 'best');\n",
    "leg1.get_frame().set_linewidth(0.0);\n",
    "\n",
    "plt.show()"
   ]
  },
  {
   "cell_type": "code",
   "execution_count": null,
   "id": "628b7805",
   "metadata": {},
   "outputs": [],
   "source": []
  },
  {
   "cell_type": "code",
   "execution_count": null,
   "id": "c97c6463-4568-47f2-9729-58e48c7e8f3f",
   "metadata": {},
   "outputs": [],
   "source": []
  },
  {
   "cell_type": "code",
   "execution_count": null,
   "id": "1ff439d7-9c7e-4138-97b4-c8622c6e2b12",
   "metadata": {},
   "outputs": [],
   "source": []
  },
  {
   "cell_type": "code",
   "execution_count": null,
   "id": "698b7e58-68cc-4968-8b4d-8aa99215ec55",
   "metadata": {},
   "outputs": [],
   "source": []
  }
 ],
 "metadata": {
  "kernelspec": {
   "display_name": "Python 3 (ipykernel)",
   "language": "python",
   "name": "python3"
  },
  "language_info": {
   "codemirror_mode": {
    "name": "ipython",
    "version": 3
   },
   "file_extension": ".py",
   "mimetype": "text/x-python",
   "name": "python",
   "nbconvert_exporter": "python",
   "pygments_lexer": "ipython3",
   "version": "3.10.18"
  }
 },
 "nbformat": 4,
 "nbformat_minor": 5
}
