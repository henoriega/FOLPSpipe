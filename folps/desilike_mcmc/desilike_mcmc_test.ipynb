{
 "cells": [
  {
   "cell_type": "code",
   "execution_count": 6,
   "metadata": {},
   "outputs": [
    {
     "name": "stdout",
     "output_type": "stream",
     "text": [
      "/global/u1/p/prakharb/desilike/desilike/__init__.py\n",
      "/global/u1/p/prakharb/cosmoprimo/cosmoprimo/__init__.py\n",
      "✅ Using NumPy with CPU.\n",
      "/global/u1/p/prakharb/FOLPSpipe/folps/folps.py\n"
     ]
    }
   ],
   "source": [
    "import sys\n",
    "sys.path.insert(0, \"/global/u1/p/prakharb/desilike\")\n",
    "import sys\n",
    "sys.path.insert(0, \"/global/u1/p/prakharb/cosmoprimo\")\n",
    "sys.path.insert(0,\"/global/u1/p/prakharb/FOLPSpipe/folps\")\n",
    "import desilike, inspect\n",
    "print(inspect.getfile(desilike))\n",
    "import cosmoprimo, inspect\n",
    "print(inspect.getfile(cosmoprimo))\n",
    "import folps, inspect\n",
    "print(inspect.getfile(folps))"
   ]
  },
  {
   "cell_type": "code",
   "execution_count": 7,
   "metadata": {},
   "outputs": [],
   "source": [
    "import sys, os, shutil\n",
    "import time\n",
    "import emcee\n",
    "import numpy as np\n",
    "from schwimmbad import MPIPool\n",
    "\n",
    "from datetime import datetime\n",
    "\n",
    "from mike_data_tools import *"
   ]
  },
  {
   "cell_type": "code",
   "execution_count": 9,
   "metadata": {},
   "outputs": [
    {
     "name": "stdout",
     "output_type": "stream",
     "text": [
      "chains/c_FolpsD__LRG_z0.800_Pkmax-0.301_B000kmax-0.140_B202kmax-0.100_bsfree.h5\n"
     ]
    }
   ],
   "source": [
    "derived_params = ['sigma8', 'Omega_m']\n",
    "\n",
    "k_min=0.02\n",
    "k_max=0.301\n",
    "k_max_b0 = 0.14\n",
    "k_max_b2 = 0.10\n",
    "\n",
    "isP0, isP2, isP4 =True, True, False\n",
    "isB000, isB202 = False, False\n",
    "\n",
    "Vol=1\n",
    "\n",
    "tracer='LRG'\n",
    "z_str='z0.800'\n",
    "z_evaluation=0.8\n",
    "\n",
    "path_fits='chains/'\n",
    "\n",
    "now = datetime.now()\n",
    "tiempo=now.strftime(\"%m-%d-%Y-%H%M\")\n",
    "\n",
    "name=f\"c_FolpsD__{tracer}_z{z_evaluation:.3f}_Pkmax-{k_max:.3f}_B000kmax-{k_max_b0:.3f}_B202kmax-{k_max_b2:.3f}_bsfree\"\n",
    "\n",
    "\n",
    "chains_filename = path_fits+name+\".h5\"\n",
    "copy_filename = path_fits+name+\".py\"\n",
    "print(chains_filename)\n",
    "    \n",
    "\n",
    "# +\n",
    "k_data_2nd,pkl0_2nd_all,pkl2_2nd_all,a,B000_2nd_all,B202_2nd_all = ExtractDataAbacusSummit(tracer,z_str,\n",
    "                                                                                           subtract_shot=True)\n",
    "\n",
    "Pk_0_2nd = np.mean(pkl0_2nd_all,axis = 0)\n",
    "Pk_2_2nd = np.mean(pkl2_2nd_all,axis = 0)\n",
    "B000_2nd = np.mean(B000_2nd_all,axis = 0)\n",
    "B202_2nd = np.mean(B202_2nd_all,axis = 0)\n"
   ]
  },
  {
   "cell_type": "code",
   "execution_count": 10,
   "metadata": {},
   "outputs": [
    {
     "name": "stdout",
     "output_type": "stream",
     "text": [
      "[True, True, False, False, False]\n"
     ]
    }
   ],
   "source": [
    "# Read covariance\n",
    "\n",
    "k_eff_all,pkl0ezmocks,pkl2ezmocks,pkl4ezmocks,B000ezmocks,B202ezmocks = ExtractDataEZmock(tracer,z_str)\n",
    "k_cov_all, mean_ezmocks_all, cov_array_all = covariance(k_eff_all,pkl0ezmocks,pkl2ezmocks,pkl4ezmocks,B000ezmocks,B202ezmocks, Nscaling = Vol)\n",
    "\n",
    "\n",
    "\n",
    "pole_selection=[isP0, isP2, isP4,isB000, isB202]\n",
    "print(pole_selection)\n",
    "\n",
    "kmin_pk=0.02; kmax_pk=k_max\n",
    "kmin_bk=0.02; \n",
    "ranges=[[kmin_pk,kmax_pk],[kmin_pk,kmax_pk],[kmin_pk,kmax_pk],[kmin_bk,k_max_b0],[kmin_bk,k_max_b2]]\n",
    "\n",
    "mask=pole_k_selection(k_cov_all,pole_selection,ranges)\n",
    "#print(mask.shape)\n",
    "#print(mask)\n",
    "k_cov=k_cov_all[mask]\n",
    "\n",
    "#k_cov.shape\n",
    "k_points_pk = np.where((kmin_pk < k_data_2nd) & (k_data_2nd < kmax_pk)  & isP0)\n",
    "k_points_b0 = np.where((kmin_bk < k_data_2nd) & (k_data_2nd < k_max_b0) & isB000)\n",
    "k_points_b2 = np.where((kmin_bk < k_data_2nd) & (k_data_2nd < k_max_b2) & isB202)\n",
    "\n",
    "data = np.concatenate((Pk_0_2nd[k_points_pk],Pk_2_2nd[k_points_pk],\n",
    "                       B000_2nd[k_points_b0],B202_2nd[k_points_b2]))\n",
    "kr_pk=k_data_2nd[k_points_pk]\n",
    "kr_b0=k_data_2nd[k_points_b0]\n",
    "kr_b2=k_data_2nd[k_points_b2]\n",
    "\n",
    "numberofpk0points=len(Pk_0_2nd[k_points_pk])\n",
    "numberofbk0points=len(B000_2nd[k_points_b0])\n",
    "numberofbk2points=len(B202_2nd[k_points_b2])\n",
    "\n",
    "cov_array=cov_array_all[np.ix_(mask, mask)]\n",
    "totsim = 2000 #number of sims\n",
    "n_data = len(data)\n",
    "Hartlap = (totsim - 1.) / (totsim - n_data - 2.)\n",
    "Hartlap\n",
    "cov_arr = cov_array * Hartlap\n",
    "cov_inv_arr = np.linalg.inv(cov_arr)\n"
   ]
  },
  {
   "cell_type": "code",
   "execution_count": null,
   "metadata": {},
   "outputs": [],
   "source": []
  }
 ],
 "metadata": {
  "kernelspec": {
   "display_name": "cosmodesi-main",
   "language": "python",
   "name": "cosmodesi-main"
  },
  "language_info": {
   "codemirror_mode": {
    "name": "ipython",
    "version": 3
   },
   "file_extension": ".py",
   "mimetype": "text/x-python",
   "name": "python",
   "nbconvert_exporter": "python",
   "pygments_lexer": "ipython3",
   "version": "3.10.13"
  }
 },
 "nbformat": 4,
 "nbformat_minor": 2
}
