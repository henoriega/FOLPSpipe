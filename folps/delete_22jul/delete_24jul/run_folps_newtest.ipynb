{
 "cells": [
  {
   "cell_type": "code",
   "execution_count": 1,
   "id": "f8e82ba4",
   "metadata": {
    "scrolled": true
   },
   "outputs": [
    {
     "name": "stdout",
     "output_type": "stream",
     "text": [
      "✅ Using NumPy with CPU.\n"
     ]
    }
   ],
   "source": [
    "import os\n",
    "\n",
    "# Select the backend before importing folps.py\n",
    "os.environ[\"FOLPS_BACKEND\"] = \"numpy\"  #'numpy' or 'jax'\n",
    "\n",
    "from folps_newtest import *\n",
    "from cosmo_class import *\n",
    "from use_fkpt import *"
   ]
  },
  {
   "cell_type": "code",
   "execution_count": 2,
   "id": "261529c2",
   "metadata": {},
   "outputs": [],
   "source": [
    "#omega_i = Omega_i h² \n",
    "omega_b = 0.022;        #baryons\n",
    "omega_cdm = 0.122;       #CDM\n",
    "omega_ncdm = 0.0006442;    #massive neutrinos \n",
    "h = 0.6711;                 #h = H0/100\n",
    "z_pk = 0.3;  #evaluation redshift\n",
    "z_pk_scale = 0.97\n",
    "CosmoParams = [z_pk, omega_b, omega_cdm, omega_ncdm, h]"
   ]
  },
  {
   "cell_type": "code",
   "execution_count": 3,
   "id": "d19ad2b3",
   "metadata": {},
   "outputs": [
    {
     "name": "stdout",
     "output_type": "stream",
     "text": [
      "CPU times: user 1.56 s, sys: 0 ns, total: 1.56 s\n",
      "Wall time: 229 ms\n"
     ]
    }
   ],
   "source": [
    "%%time\n",
    "#linear power spectrum\n",
    "ps = generate_ps(h = 0.6711, ombh2 = 0.022, omch2 = 0.122, omnuh2 = 0.0006442, \n",
    "            As = 2e-9, ns = 0.965, z = z_pk, z_scale=[0.97],\n",
    "            N_ur = 2.0328,\n",
    "            khmin = 0.0001, khmax = 2.0, nbk = 1000, spectra = 'cb')\n",
    "inputpkT = np.array([ps['kh'], ps['pk']])\n",
    "kwargs = {'z': z_pk, 'h': h, 'Omega_m': ps['cosmo'].Omega0_m(), 'f0':0.6900011469771554,\n",
    "          'fnu':ps['cosmo'].Omega_nu/ps['cosmo'].Omega0_m()}"
   ]
  },
  {
   "cell_type": "code",
   "execution_count": 4,
   "id": "5a7b4efa",
   "metadata": {},
   "outputs": [
    {
     "data": {
      "text/plain": [
       "{'z': 0.3,\n",
       " 'h': 0.6711,\n",
       " 'Omega_m': 0.3211636237981114,\n",
       " 'f0': 0.6900011469771554,\n",
       " 'fnu': 0.004453689063655854}"
      ]
     },
     "execution_count": 4,
     "metadata": {},
     "output_type": "execute_result"
    }
   ],
   "source": [
    "kwargs"
   ]
  },
  {
   "cell_type": "code",
   "execution_count": 5,
   "id": "e26b04fe",
   "metadata": {},
   "outputs": [
    {
     "name": "stdout",
     "output_type": "stream",
     "text": [
      "Loading matrices from matrices_nfftlog128_AfullTrue.npy\n"
     ]
    }
   ],
   "source": [
    "matrix = MatrixCalculator(A_full=True)\n",
    "mmatrices = matrix.get_mmatrices()"
   ]
  },
  {
   "cell_type": "code",
   "execution_count": 6,
   "id": "d24d6ebf",
   "metadata": {},
   "outputs": [
    {
     "name": "stdout",
     "output_type": "stream",
     "text": [
      "CPU times: user 197 µs, sys: 7 µs, total: 204 µs\n",
      "Wall time: 199 µs\n"
     ]
    }
   ],
   "source": [
    "%%time\n",
    "#1-loop\n",
    "nonlinear = NonLinearPowerSpectrumCalculator(mmatrices=mmatrices,\n",
    "                                             kernels='eds',\n",
    "                                             **kwargs)"
   ]
  },
  {
   "cell_type": "code",
   "execution_count": 7,
   "id": "0c1baf86",
   "metadata": {},
   "outputs": [
    {
     "data": {
      "text/plain": [
       "{'z': 0.3,\n",
       " 'h': 0.6711,\n",
       " 'Omega_m': 0.3211636237981114,\n",
       " 'f0': 0.6900011469771554,\n",
       " 'fnu': 0.004453689063655854}"
      ]
     },
     "execution_count": 7,
     "metadata": {},
     "output_type": "execute_result"
    }
   ],
   "source": [
    "kwargs"
   ]
  },
  {
   "cell_type": "code",
   "execution_count": 8,
   "id": "e0aacfd0",
   "metadata": {
    "scrolled": true
   },
   "outputs": [
    {
     "name": "stdout",
     "output_type": "stream",
     "text": [
      "CPU times: user 109 ms, sys: 16.1 ms, total: 125 ms\n",
      "Wall time: 93.2 ms\n"
     ]
    }
   ],
   "source": [
    "%%time\n",
    "table, table_now = nonlinear.calculate_loop_table(k=inputpkT[0], pklin=inputpkT[1], #cosmo=ps['cosmo'],\n",
    "                                             **kwargs)"
   ]
  },
  {
   "cell_type": "code",
   "execution_count": 9,
   "id": "d6a8221f",
   "metadata": {},
   "outputs": [
    {
     "data": {
      "text/plain": [
       "array([1., 1., 1., 1., 1., 1., 1., 1., 1., 1., 1., 1., 1., 1., 1., 1., 1.,\n",
       "       1., 1., 1., 1., 1., 1., 1., 1., 1., 1., 1., 1., 1., 1., 1., 1., 1.,\n",
       "       1., 1., 1., 1., 1., 1., 1., 1., 1., 1., 1., 1., 1., 1., 1., 1., 1.,\n",
       "       1., 1., 1., 1., 1., 1., 1., 1., 1., 1., 1., 1., 1., 1., 1., 1., 1.,\n",
       "       1., 1., 1., 1., 1., 1., 1., 1., 1., 1., 1., 1., 1., 1., 1., 1., 1.,\n",
       "       1., 1., 1., 1., 1., 1., 1., 1., 1., 1., 1., 1., 1., 1., 1., 1., 1.,\n",
       "       1., 1., 1., 1., 1., 1., 1., 1., 1., 1., 1., 1., 1., 1., 1., 1., 1.,\n",
       "       1.])"
      ]
     },
     "execution_count": 9,
     "metadata": {},
     "output_type": "execute_result"
    }
   ],
   "source": [
    "table[2]"
   ]
  },
  {
   "cell_type": "code",
   "execution_count": 10,
   "id": "c0c3dca5",
   "metadata": {},
   "outputs": [],
   "source": [
    "PshotP = 1. / 0.0002118763\n",
    "# Bias parameters\n",
    "b1 = 1.645\n",
    "b2 = -0.46\n",
    "bs2 = -4./7*(b1 - 1)\n",
    "b3nl = 32./315*(b1 - 1)\n",
    "# EFT parameters\n",
    "alpha0 = 3                 #units: [Mpc/h]^2\n",
    "alpha2 = -28.9             #units: [Mpc/h]^2\n",
    "alpha4 = 0.0               #units: [Mpc/h]^2\n",
    "ctilde = 0.0               #units: [Mpc/h]^4\n",
    "# Stochatic parameters\n",
    "alphashot0 = 0.08\n",
    "alphashot2 = -8.1          #units: [Mpc/h]^2\n",
    "pars = [b1, b2, bs2, b3nl, alpha0, alpha2, alpha4, ctilde, alphashot0, alphashot2, PshotP]\n",
    "qpar, qper = 1., 1.\n",
    "\n",
    "\n",
    "k = np.logspace(np.log10(0.01), np.log10(0.3), num=100) # array of  output k in [h/Mpc]"
   ]
  },
  {
   "cell_type": "code",
   "execution_count": 11,
   "id": "0f780950",
   "metadata": {},
   "outputs": [
    {
     "name": "stdout",
     "output_type": "stream",
     "text": [
      "CPU times: user 4 µs, sys: 0 ns, total: 4 µs\n",
      "Wall time: 5.96 µs\n"
     ]
    }
   ],
   "source": [
    "%%time\n",
    "multipoles = RSDMultipolesPowerSpectrumCalculator(model='EFT')"
   ]
  },
  {
   "cell_type": "code",
   "execution_count": 12,
   "id": "bc611e9b",
   "metadata": {},
   "outputs": [
    {
     "name": "stdout",
     "output_type": "stream",
     "text": [
      "CPU times: user 3.65 ms, sys: 125 µs, total: 3.78 ms\n",
      "Wall time: 3.72 ms\n"
     ]
    }
   ],
   "source": [
    "%%time\n",
    "P0, P2, P4  = multipoles.get_rsd_pkell(kobs=k, qpar=qpar, qper=qper, pars=pars, table=table, table_now=table_now,\n",
    "                                      bias_scheme='classpt')"
   ]
  },
  {
   "cell_type": "code",
   "execution_count": null,
   "id": "e92fcf14",
   "metadata": {},
   "outputs": [],
   "source": []
  },
  {
   "cell_type": "code",
   "execution_count": 13,
   "id": "6b73e712",
   "metadata": {},
   "outputs": [
    {
     "name": "stdout",
     "output_type": "stream",
     "text": [
      "CPU times: user 5.36 ms, sys: 13 µs, total: 5.37 ms\n",
      "Wall time: 4.81 ms\n"
     ]
    }
   ],
   "source": [
    "%%time\n",
    "P0_noir, P2_noir  = multipoles.get_rsd_pkell(kobs=k, qpar=qpar, qper=qper, pars=pars, table=table, table_now=table_now, ells=(0, 2),IR_resummation=False, \n",
    "                                             bias_scheme=\"classpt\")"
   ]
  },
  {
   "cell_type": "code",
   "execution_count": 14,
   "id": "4cdc7e47",
   "metadata": {},
   "outputs": [
    {
     "data": {
      "image/png": "[encoded data removed]",
      "text/plain": [
       "<Figure size 700x500 with 1 Axes>"
      ]
     },
     "metadata": {},
     "output_type": "display_data"
    }
   ],
   "source": [
    "import matplotlib\n",
    "import matplotlib.pyplot as plt\n",
    "\n",
    "fig, axs = plt.subplots(figsize=(7,5))\n",
    "axs.set_xlabel(r'$k \\, [h\\, Mpc^{-1}]$', fontsize =  14)\n",
    "axs.set_ylabel(r'$k P_{\\ell}(k) \\, [h^{-1} \\,  Mpc]^2$', fontsize =  14)\n",
    "\n",
    "axs.plot(k, k * P0, color = 'navy', ls='-', label=r'$\\ell = 0$')\n",
    "axs.plot(k, k * P0_noir, color = 'navy', ls='-.')\n",
    "\n",
    "axs.plot(k, k * P2, color = 'maroon', ls='-', label=r'$\\ell = 2$')\n",
    "axs.plot(k, k * P2_noir, color = 'maroon', ls='-.')\n",
    "axs.plot(k, k * P4, color = 'darkgreen', ls='-', label=r'$\\ell = 4$')\n",
    "\n",
    "axs.set_xlim([k[0], 0.2])\n",
    "#axs.set_ylim([-200.0, 1800])\n",
    "\n",
    "leg1 = axs.legend(loc = 'best');\n",
    "leg1.get_frame().set_linewidth(0.0);\n",
    "\n",
    "plt.show()"
   ]
  },
  {
   "cell_type": "code",
   "execution_count": 15,
   "id": "41c1f30c",
   "metadata": {},
   "outputs": [
    {
     "data": {
      "text/plain": [
       "'EFT'"
      ]
     },
     "execution_count": 15,
     "metadata": {},
     "output_type": "execute_result"
    }
   ],
   "source": [
    "multipoles.model"
   ]
  },
  {
   "cell_type": "code",
   "execution_count": 16,
   "id": "900a68f6",
   "metadata": {},
   "outputs": [
    {
     "data": {
      "text/plain": [
       "34"
      ]
     },
     "execution_count": 16,
     "metadata": {},
     "output_type": "execute_result"
    }
   ],
   "source": [
    "len(table)"
   ]
  },
  {
   "cell_type": "code",
   "execution_count": 17,
   "id": "02004034",
   "metadata": {},
   "outputs": [
    {
     "data": {
      "text/plain": [
       "23.779593993872098"
      ]
     },
     "execution_count": 17,
     "metadata": {},
     "output_type": "execute_result"
    }
   ],
   "source": [
    "table_now[32]"
   ]
  },
  {
   "cell_type": "code",
   "execution_count": 18,
   "id": "792345cd",
   "metadata": {},
   "outputs": [
    {
     "data": {
      "text/plain": [
       "22.51886909641285"
      ]
     },
     "execution_count": 18,
     "metadata": {},
     "output_type": "execute_result"
    }
   ],
   "source": [
    "table_now[33]"
   ]
  },
  {
   "cell_type": "code",
   "execution_count": 19,
   "id": "52cde211",
   "metadata": {},
   "outputs": [
    {
     "data": {
      "text/plain": [
       "5.4038558153643805"
      ]
     },
     "execution_count": 19,
     "metadata": {},
     "output_type": "execute_result"
    }
   ],
   "source": [
    "table_now[34]"
   ]
  },
  {
   "cell_type": "code",
   "execution_count": 20,
   "id": "f9ca54e5",
   "metadata": {},
   "outputs": [
    {
     "data": {
      "text/plain": [
       "0.6900011469771554"
      ]
     },
     "execution_count": 20,
     "metadata": {},
     "output_type": "execute_result"
    }
   ],
   "source": [
    "table_now[35]"
   ]
  },
  {
   "cell_type": "code",
   "execution_count": 21,
   "id": "72d10e09",
   "metadata": {},
   "outputs": [
    {
     "data": {
      "text/plain": [
       "array([[53224.01011037, 53950.92319635, 54649.77945594, 55317.96699185,\n",
       "        55952.38144089, 56549.73328663, 57106.8100836 , 57620.59148389,\n",
       "        58088.32433449, 58507.12323769, 58873.74608469, 59184.30575888,\n",
       "        59435.37058454, 59624.2139041 , 59747.93276331, 59803.79631368,\n",
       "        59789.23059961, 59700.94782293, 59536.35501607, 59294.12938996,\n",
       "        58972.58293324, 58570.14940456, 58085.77776953, 57519.22812838,\n",
       "        56871.33663533, 56144.08932151, 55339.48555858, 54459.66884611,\n",
       "        53507.07684282, 52485.48277021, 51400.79566866, 50261.60671903,\n",
       "        49076.122092  , 47852.31635831, 46598.17865444, 45320.93138755,\n",
       "        44028.8823809 , 42734.33853552, 41449.72157572, 40186.83165172,\n",
       "        38956.33468215, 37766.84493904, 36625.27404609, 35538.07963409,\n",
       "        34510.90216795, 33548.60199154, 32655.60039288, 31831.77774384,\n",
       "        31072.20442461, 30371.64341841, 29722.16701668, 29112.30313256,\n",
       "        28528.24993676, 27954.25642578, 27373.16671717, 26768.05557171,\n",
       "        26122.75596038, 25423.22701254, 24660.59130812, 23831.32504751,\n",
       "        22938.5161115 , 21992.70286216, 21011.17570026, 20017.66082543,\n",
       "        19038.82941232, 18102.09260423, 17232.57073489, 16449.67948513,\n",
       "        15765.72175153, 15182.77862521, 14692.09281307, 14275.69708514,\n",
       "        13908.09622932, 13559.63772671, 13200.07203597, 12805.05631292,\n",
       "        12362.48685619, 11873.85161805, 11355.97793288, 10834.36366388,\n",
       "        10337.51630407,  9886.63871821,  9491.10905694,  9147.68272403,\n",
       "         8841.686653  ,  8553.73053009,  8264.21709868,  7961.54212498,\n",
       "         7644.42361125,  7321.17004193,  7004.00447398,  6702.24491922,\n",
       "         6419.16432105,  6149.55445944,  5885.43291165,  5619.67756622,\n",
       "         5351.36489382,  5083.50029361,  4820.72328517,  4561.66578618],\n",
       "       [26335.72556863, 26685.36176426, 27019.85963713, 27337.85885372,\n",
       "        27637.75493394, 27917.85345882, 28176.50111044, 28412.14349442,\n",
       "        28623.3628757 , 28808.68094964, 28966.44929476, 29094.70931368,\n",
       "        29191.73797767, 29256.17234216, 29286.57505763, 29281.608186  ,\n",
       "        29240.02801895, 29160.26009619, 29041.09308709, 28881.96179026,\n",
       "        28682.14595072, 28441.01259596, 28158.21020134, 27833.81161354,\n",
       "        27468.44202585, 27063.31101125, 26619.66016044, 26138.83026197,\n",
       "        25622.33247847, 25072.34264163, 24492.07185807, 23886.00256531,\n",
       "        23258.41920965, 22613.48053041, 21955.32735653, 21287.72077342,\n",
       "        20614.89036625, 19942.84210356, 19277.52643279, 18624.48632828,\n",
       "        17988.61122956, 17373.73996282, 16782.82274819, 16218.48131782,\n",
       "        15682.84765191, 15177.56750372, 14703.93303169, 14261.20768388,\n",
       "        13846.58370291, 13457.14975203, 13088.9632829 , 12736.79777534,\n",
       "        12394.79272865, 12056.69617857, 11716.19521127, 11367.65453152,\n",
       "        11006.32128523, 10628.85269393, 10234.30479109,  9823.96925198,\n",
       "         9401.54651145,  8972.99893684,  8545.91804174,  8128.93714925,\n",
       "         7730.26408497,  7356.85044562,  7013.33676935,  6701.34705193,\n",
       "         6419.55371484,  6163.58490084,  5927.15912902,  5703.29418166,\n",
       "         5485.76385188,  5270.39120459,  5055.76069189,  4843.90235007,\n",
       "         4639.11543764,  4446.44494014,  4269.49118671,  4108.1263083 ,\n",
       "         3957.73666386,  3809.68490591,  3654.70556722,  3486.1385459 ,\n",
       "         3305.30211894,  3119.177358  ,  2938.73093487,  2775.05992557,\n",
       "         2630.14724626,  2493.82266325,  2353.51561296,  2200.41636642,\n",
       "         2032.61717369,  1852.07019247,  1663.18821595,  1471.44862191,\n",
       "         1278.93409   ,  1084.66902266,   884.72895339,   671.74340585],\n",
       "       [ 1583.66618466,  1603.25774188,  1621.81380866,  1639.24737338,\n",
       "         1655.4571144 ,  1670.33682243,  1683.78334407,  1695.7001447 ,\n",
       "         1705.99963897,  1714.59157977,  1721.37677873,  1726.23914627,\n",
       "         1729.07819245,  1729.81656632,  1728.37450874,  1724.6803492 ,\n",
       "         1718.67051271,  1710.2650573 ,  1699.40839679,  1686.08588295,\n",
       "         1670.27725054,  1651.97114007,  1631.1764959 ,  1607.93050281,\n",
       "         1582.30576857,  1554.41157926,  1524.36227435,  1492.28151163,\n",
       "         1458.3059492 ,  1422.6117862 ,  1385.43348062,  1347.07327277,\n",
       "         1307.82008172,  1267.95341681,  1227.74803967,  1187.45584867,\n",
       "         1147.34759876,  1107.77385941,  1069.06801389,  1031.52749508,\n",
       "          995.40090724,   960.8721108 ,   928.06915035,   897.09182711,\n",
       "          868.00530254,   840.83884675,   815.5892347 ,   792.16709585,\n",
       "          770.40442672,   750.13699127,   731.17837465,   713.32183104,\n",
       "          696.3788248 ,   680.19328965,   664.66011442,   649.75063775,\n",
       "          635.50488161,   622.03536854,   609.53461863,   598.23598428,\n",
       "          588.38372216,   580.1967777 ,   573.83221483,   569.3530366 ,\n",
       "          566.71395908,   565.75852534,   566.21202116,   567.7246616 ,\n",
       "          569.92647587,   572.49010451,   575.26376711,   578.29367879,\n",
       "          581.83866275,   586.25682441,   591.87903621,   598.86389667,\n",
       "          607.04833789,   615.99147129,   625.16741327,   634.10396987,\n",
       "          642.52391514,   650.32678696,   657.67520697,   665.02258686,\n",
       "          673.30757147,   682.93571676,   693.35933687,   703.42068104,\n",
       "          711.42129666,   715.89596785,   717.86258245,   719.71576791,\n",
       "          723.92771127,   730.29897203,   736.82366501,   740.7405845 ,\n",
       "          741.12123736,   739.11373156,   737.45841197,   736.75403854]])"
      ]
     },
     "execution_count": 21,
     "metadata": {},
     "output_type": "execute_result"
    }
   ],
   "source": [
    "np.array([P0, P2, P4])"
   ]
  },
  {
   "cell_type": "code",
   "execution_count": null,
   "id": "4d2818df",
   "metadata": {},
   "outputs": [],
   "source": []
  },
  {
   "cell_type": "code",
   "execution_count": null,
   "id": "9669c339",
   "metadata": {},
   "outputs": [],
   "source": [
    "############################# Bispectrum ###############################3"
   ]
  },
  {
   "cell_type": "code",
   "execution_count": null,
   "id": "b5efe2ac",
   "metadata": {},
   "outputs": [],
   "source": [
    "classy  = run_class(h = 0.6711, ombh2 = 0.022, omch2 = 0.122, omnuh2 = 0.0006442, \n",
    "                    As = 2e-9, ns = 0.965, z = 0.3, z_scale=[0.97],\n",
    "                    N_ur = 2.0328,\n",
    "                    khmin = 0.0001, khmax = 2.0, nbk = 1000, spectra = 'matter')"
   ]
  },
  {
   "cell_type": "code",
   "execution_count": null,
   "id": "4b75e0c0",
   "metadata": {},
   "outputs": [],
   "source": [
    "#pars for Bispectrum\n",
    "z_pk=0.0;\n",
    "\n",
    "\n",
    "b1v = 1;\n",
    "c1v = 0; b2v = 0.0; bsv = 0;\n",
    "\n",
    "Omv=classy['cosmo'].Omega0_m();\n",
    "hv=classy['cosmo'].h(); \n",
    "f=classy['cosmo'].scale_independent_growth_factor_f(z_pk)\n",
    "\n",
    "qparv = 1; qperpv = 1;\n",
    "Bshotv=0.0\n",
    "Pshotv=0.0\n",
    "\n",
    "\n",
    "bisp_nuis_paramsv=[b1v,b2v,bsv,c1v,Bshotv,Pshotv]\n",
    "bisp_cosmo_paramsv=[Omv, hv, nonlinear.f0]"
   ]
  },
  {
   "cell_type": "code",
   "execution_count": null,
   "id": "ca6df13d",
   "metadata": {},
   "outputs": [],
   "source": [
    "ks = np.logspace(np.log10(0.0001), np.log10(0.4), 30)\n",
    "k1k2T = np.vstack([ks,ks]).T"
   ]
  },
  {
   "cell_type": "code",
   "execution_count": null,
   "id": "0ee6d719",
   "metadata": {},
   "outputs": [],
   "source": [
    "%%time\n",
    "#precision=[8,10,10]\n",
    "B000,B202=Bisp_Sugiyama(bisp_cosmo_paramsv, bisp_nuis_paramsv, pk_input=nonlinear.inputpkT, z_pk=z_pk, k1k2pairs=k1k2T, Omfid=-1,qpar=1,qperp=1)#,precision=precision)"
   ]
  },
  {
   "cell_type": "code",
   "execution_count": null,
   "id": "68c204b8",
   "metadata": {},
   "outputs": [],
   "source": [
    "fig, axs = plt.subplots(figsize=(7,5))\n",
    "axs.set_xlabel(r'$k \\, [h\\, Mpc^{-1}]$', fontsize =  14)\n",
    "axs.set_ylabel(r'$k^2 B(k,k) $', fontsize =  14)\n",
    "\n",
    "#axs.plot(k1k2T.T[0], k1k2T.T[0]*k1k2T.T[0]*B000, ls='-', label='B000')\n",
    "#axs.plot(k1k2T.T[0],k1k2T.T[0]*k1k2T.T[0]*B202, ls='-', label='B202')\n",
    "\n",
    "\n",
    "axs.loglog(k1k2T.T[0],B000, ls='-', label='B000')\n",
    "axs.loglog(k1k2T.T[0],B202, ls='-', label='B202')\n",
    "axs.loglog(nonlinear.inputpkT[0],nonlinear.inputpkT[1]*nonlinear.inputpkT[1], ls='-', label='P^2')\n",
    "\n",
    "\n",
    "\n",
    "axs.set_xlim([0.0001,0.15])\n",
    "axs.set_ylim([1e5, 1e10])\n",
    "\n",
    "leg1 = axs.legend(loc = 'best');\n",
    "leg1.get_frame().set_linewidth(0.0);\n",
    "\n",
    "plt.show()"
   ]
  },
  {
   "cell_type": "code",
   "execution_count": null,
   "id": "628b7805",
   "metadata": {},
   "outputs": [],
   "source": [
    "inputpkT[1]"
   ]
  },
  {
   "cell_type": "markdown",
   "id": "eab559fb",
   "metadata": {},
   "source": [
    "# "
   ]
  },
  {
   "cell_type": "code",
   "execution_count": null,
   "id": "1ff439d7-9c7e-4138-97b4-c8622c6e2b12",
   "metadata": {},
   "outputs": [],
   "source": []
  },
  {
   "cell_type": "code",
   "execution_count": null,
   "id": "698b7e58-68cc-4968-8b4d-8aa99215ec55",
   "metadata": {},
   "outputs": [],
   "source": []
  }
 ],
 "metadata": {
  "kernelspec": {
   "display_name": "Python 3 (ipykernel)",
   "language": "python",
   "name": "python3"
  },
  "language_info": {
   "codemirror_mode": {
    "name": "ipython",
    "version": 3
   },
   "file_extension": ".py",
   "mimetype": "text/x-python",
   "name": "python",
   "nbconvert_exporter": "python",
   "pygments_lexer": "ipython3",
   "version": "3.9.7"
  }
 },
 "nbformat": 4,
 "nbformat_minor": 5
}
