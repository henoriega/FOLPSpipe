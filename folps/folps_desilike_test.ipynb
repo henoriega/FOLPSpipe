{
 "cells": [
  {
   "cell_type": "code",
   "execution_count": 1,
   "metadata": {},
   "outputs": [],
   "source": [
    "import sys\n",
    "sys.path.insert(0, \"/global/u1/p/prakharb/desilike\")"
   ]
  },
  {
   "cell_type": "code",
   "execution_count": 2,
   "metadata": {},
   "outputs": [
    {
     "name": "stdout",
     "output_type": "stream",
     "text": [
      "/global/u1/p/prakharb/desilike/desilike/__init__.py\n"
     ]
    }
   ],
   "source": [
    "import desilike, inspect\n",
    "print(inspect.getfile(desilike))"
   ]
  },
  {
   "cell_type": "code",
   "execution_count": 3,
   "metadata": {},
   "outputs": [],
   "source": [
    "import re\n",
    "import os\n",
    "import numpy as np\n",
    "from scipy import interpolate\n",
    "import matplotlib.pyplot as plt\n",
    "%matplotlib inline\n",
    "%config InlineBackend.figure_format = 'retina'\n",
    "from desilike.jax import numpy as jnp\n",
    "from desilike.jax import jit, interp1d\n",
    "from desilike import jax\n",
    "from desilike import plotting, utils, BaseCalculator\n",
    "from desilike.theories.galaxy_clustering.base import BaseTheoryPowerSpectrumMultipolesFromWedges, BaseTheoryPowerSpectrumMultipoles\n",
    "from desilike.theories.galaxy_clustering.full_shape import BasePTPowerSpectrumMultipoles, FOLPSPowerSpectrumMultipoles, BaseTracerPowerSpectrumMultipoles\n",
    "# from .base import BaseTheoryPowerSpectrumMultipoles, BaseTheoryCorrelationFunctionMultipoles, BaseTheoryCorrelationFunctionFromPowerSpectrumMultipoles\n",
    "# from .power_template import DirectPowerSpectrumTemplate, StandardPowerSpectrumTemplate"
   ]
  },
  {
   "cell_type": "code",
   "execution_count": 12,
   "metadata": {},
   "outputs": [
    {
     "ename": "SyntaxError",
     "evalue": "incomplete input (1781839860.py, line 100)",
     "output_type": "error",
     "traceback": [
      "\u001b[0;36m  Cell \u001b[0;32mIn[12], line 100\u001b[0;36m\u001b[0m\n\u001b[0;31m    class FOLPSAXTracerPowerSpectrumMultipoles(FOLPSTracerPowerSpectrumMultipoles):\u001b[0m\n\u001b[0m                                                                                       ^\u001b[0m\n\u001b[0;31mSyntaxError\u001b[0m\u001b[0;31m:\u001b[0m incomplete input\n"
     ]
    }
   ],
   "source": [
    "class Namespace(object):\n",
    "\n",
    "    def __init__(self, **kwargs):\n",
    "        self.update(**kwargs)\n",
    "\n",
    "    def update(self, **kwargs):\n",
    "        self.__dict__.update(**kwargs)\n",
    "\n",
    "class FOLPSAXPowerSpectrumMultipoles(BasePTPowerSpectrumMultipoles, BaseTheoryPowerSpectrumMultipolesFromWedges):\n",
    "\n",
    "    _default_options = dict(kernels='fk', rbao=104.)\n",
    "    _pt_attrs = ['jac', 'kap', 'muap', 'table', 'table_now', 'scalars', 'scalars_now']\n",
    "\n",
    "    def initialize(self, *args, mu=6, **kwargs):\n",
    "        super(FOLPSAXPowerSpectrumMultipoles, self).initialize(*args, mu=mu, method='leggauss', **kwargs)\n",
    "        from folpsax import get_mmatrices\n",
    "        self.matrices = get_mmatrices()\n",
    "        self.template.init.update(with_now='peakaverage')\n",
    "\n",
    "    def calculate(self):\n",
    "        super(FOLPSAXPowerSpectrumMultipoles, self).calculate()\n",
    "        # [z, omega_b, omega_cdm, omega_ncdm, h]\n",
    "        # only used for neutrinos\n",
    "        # sensitive to omega_b + omega_cdm, not omega_b, omega_cdm separately\n",
    "        #cosmo_params = {'z': self.z, 'fnu': 0., 'Omega_m': 0.3, 'h': 0.7}\n",
    "        #cosmo = getattr(self.template, 'cosmo', None)\n",
    "        #if cosmo is not None:\n",
    "        #    cosmo_params['fnu'] = cosmo['Omega_ncdm_tot'] / cosmo['Omega_m']\n",
    "        #    cosmo_params['Omega_m'] = cosmo['Omega_m']\n",
    "        #    cosmo_params['h'] = cosmo['h']\n",
    "        #    cosmo_params['Nnu'] = cosmo['N_ncdm']\n",
    "        #    cosmo_params['Neff'] = cosmo['N_eff']\n",
    "        #cosmo_params['f0'] = self.template.f0\n",
    "        cosmo_params = {}\n",
    "        cosmo_params['pkttlin'] = self.template.pk_dd * self.template.fk**2\n",
    "\n",
    "        if getattr(self, '_get_non_linear', None) is None:\n",
    "\n",
    "            from folpsax import get_non_linear\n",
    "\n",
    "            def _get_non_linear(pk_dd, pknow_dd, **cosmo_params):\n",
    "                return get_non_linear(self.template.k, pk_dd, self.matrices, pknow=pknow_dd,\n",
    "                                      kminout=self.k[0] * 0.7, kmaxout=self.k[-1] * 1.3, nk=max(len(self.k), 150),\n",
    "                                      kernels=self.options['kernels'], rbao=self.options['rbao'], **cosmo_params)\n",
    "\n",
    "            self._get_non_linear = jit(_get_non_linear)\n",
    "        \n",
    "        table, table_now = self._get_non_linear(self.template.pk_dd, self.template.pknow_dd, **cosmo_params)\n",
    "\n",
    "        jac, kap, muap = self.template.ap_k_mu(self.k, self.mu)\n",
    "        self.pt = Namespace(jac=jac, kap=kap, muap=muap, table=table[1:26], table_now=table_now[1:26], scalars=table[26:], scalars_now=table_now[26:])\n",
    "        \n",
    "        self.kt = table[0]\n",
    "        self.sigma8 = self.template.sigma8\n",
    "        self.fsigma8 = self.template.f * self.sigma8\n",
    "\n",
    "    def combine_bias_terms_poles(self, pars, nd=1e-4):\n",
    "        table = (self.kt,) + tuple(self.pt.table) + tuple(self.pt.scalars)\n",
    "        table_now = (self.kt,) + tuple(self.pt.table_now) + tuple(self.pt.scalars_now)\n",
    "        pars = list(pars) + [1. / nd]  # add shot noise\n",
    "        b1 = pars[0]\n",
    "        # add co-evolution part\n",
    "        pars[2] = pars[2] - 4. / 7. * (b1 - 1.)  # bs\n",
    "        pars[3] = pars[3] + 32. / 315. * (b1 - 1.)  # b3\n",
    "        ncols = len(table)\n",
    "\n",
    "        if getattr(self, '_get_poles', None) is None:\n",
    "\n",
    "            from folpsax import get_rsd_pkmu\n",
    "\n",
    "            def _get_poles(jac, kap, muap, pars, *table):\n",
    "                return self.to_poles(jac * get_rsd_pkmu(kap, muap, pars, table[:ncols], table[ncols:]))\n",
    "\n",
    "            self._get_poles = jit(_get_poles)\n",
    "        return self._get_poles(self.pt.jac, self.pt.kap, self.pt.muap, jnp.array(pars), *table, *table_now)\n",
    "        #pkmu = self.pt.jac * get_rsd_pkmu(self.pt.kap, self.pt.muap, pars, table, table_now)\n",
    "        #return self.to_poles(pkmu)\n",
    "\n",
    "    def __getstate__(self, varied=True, fixed=True):\n",
    "        state = {}\n",
    "        for name in (['k', 'z', 'ells', 'wmu', 'kt'] if fixed else []) + (['sigma8', 'fsigma8'] if varied else []):\n",
    "            if hasattr(self, name):\n",
    "                state[name] = getattr(self, name)\n",
    "        if varied:\n",
    "            for name in self._pt_attrs:\n",
    "                if hasattr(self.pt, name):\n",
    "                    state[name] = getattr(self.pt, name)\n",
    "        return state\n",
    "\n",
    "    def __setstate__(self, state):\n",
    "        for name in ['k', 'z', 'ells', 'wmu', 'kt', 'sigma8', 'fsigma8']:\n",
    "            if name in state: setattr(self, name, state.pop(name))\n",
    "        if not hasattr(self, 'pt'): self.pt = Namespace()\n",
    "        self.pt.update(**state)\n",
    "\n",
    "    @classmethod\n",
    "    def install(cls, installer):\n",
    "        installer.pip('git+https://github.com/cosmodesi/folpsax')\n",
    "\n",
    " "
   ]
  },
  {
   "cell_type": "code",
   "execution_count": 8,
   "metadata": {},
   "outputs": [],
   "source": [
    "# os.environ[\"FOLPS_BACKEND\"] = \"jax\"\n",
    "import folps as folpsv2\n",
    "class FOLPSv2PowerSpectrumMultipoles(BasePTPowerSpectrumMultipoles, BaseTheoryPowerSpectrumMultipolesFromWedges):\n",
    "\n",
    "    _default_options = dict(kernels='fk', rbao=104., A_full=True, remove_DeltaP=False, model= 'EFT', bias_scheme='folps',IR_resummation=True, damping='lor')\n",
    "    r\"\"\"\n",
    "    models: EFT, TNS, folps\n",
    "    bias_scheme: \n",
    "    \"\"\"\n",
    "    _pt_attrs = ['jac', 'kap', 'muap', 'table', 'table_now', 'scalars', 'scalars_now']\n",
    "    \n",
    "    def initialize(self, *args, mu=6, **kwargs):\n",
    "        super(FOLPSv2PowerSpectrumMultipoles, self).initialize(*args, mu=mu, method='leggauss', **kwargs)\n",
    "        # from folpsv2 import MatrixCalculator\n",
    "        folps_matrix_class = folpsv2.MatrixCalculator(A_full=self.options['A_full'],remove_DeltaP=self.options['remove_DeltaP'])\n",
    "        self.matrices = folps_matrix_class.get_mmatrices()\n",
    "        self.template.init.update(with_now='peakaverage')\n",
    "        \n",
    "        \n",
    "\n",
    "    def calculate(self):\n",
    "        super(FOLPSv2PowerSpectrumMultipoles, self).calculate()\n",
    "        # [z, omega_b, omega_cdm, omega_ncdm, h]\n",
    "        # only used for neutrinos\n",
    "        # sensitive to omega_b + omega_cdm, not omega_b, omega_cdm separately\n",
    "        #cosmo_params = {'z': self.z, 'fnu': 0., 'Omega_m': 0.3, 'h': 0.7}\n",
    "        #cosmo = getattr(self.template, 'cosmo', None)\n",
    "        #if cosmo is not None:\n",
    "        #    cosmo_params['fnu'] = cosmo['Omega_ncdm_tot'] / cosmo['Omega_m']\n",
    "        #    cosmo_params['Omega_m'] = cosmo['Omega_m']\n",
    "        #    cosmo_params['h'] = cosmo['h']\n",
    "        #    cosmo_params['Nnu'] = cosmo['N_ncdm']\n",
    "        #    cosmo_params['Neff'] = cosmo['N_eff']\n",
    "        #cosmo_params['f0'] = self.template.f0\n",
    "        cosmo_params = {}\n",
    "        cosmo_params['pkttlin'] = self.template.pk_dd * self.template.fk**2\n",
    "        cosmo_params['f0'] = self.template.f0\n",
    "\n",
    "        if getattr(self, '_get_non_linear', None) is None:\n",
    "\n",
    "            # from folpsv2 import NonLinearPowerSpectrumCalculator\n",
    "            # folpsv2.BackendManager(preferred_backend='jax')\n",
    "            \n",
    "            \n",
    "            def _get_non_linear(pk_dd, pknow_dd, **cosmo_params):\n",
    "                folps_nlps_class = folpsv2.NonLinearPowerSpectrumCalculator(mmatrices=self.matrices,\n",
    "                                    kernels=self.options['kernels'], rbao=self.options['rbao'], **cosmo_params)\n",
    "                # folps_nlps_class._initialize_nonwiggle_power_spectrum(pknow=pknow_dd)\n",
    "                return folps_nlps_class.calculate_loop_table(k=self.template.k, pklin=pk_dd, pknow=pknow_dd, **cosmo_params)\n",
    "                \n",
    "\n",
    "            # self._get_non_linear = jit(_get_non_linear) \n",
    "            r''''\n",
    "            Commented out for now, only going ahead with numpy implementation\n",
    "            '''\n",
    "            self._get_non_linear = _get_non_linear\n",
    "        # print(**cosmo_params)\n",
    "        \n",
    "        table, table_now = self._get_non_linear(self.template.pk_dd, self.template.pknow_dd, **cosmo_params)\n",
    "\n",
    "        jac, kap, muap = self.template.ap_k_mu(self.k, self.mu)\n",
    "        self.pt = Namespace(jac=jac, kap=kap, muap=muap, table=table[1:26], table_now=table_now[1:26], scalars=table[26:], scalars_now=table_now[26:])\n",
    "        self.kt = table[0]\n",
    "        self.sigma8 = self.template.sigma8\n",
    "        self.fsigma8 = self.template.f * self.sigma8\n",
    "\n",
    "\n",
    "   \n",
    "    def combine_bias_terms_poles(self, pars, nd=1e-4):\n",
    "        table = (self.kt,) + tuple(self.pt.table) + tuple(self.pt.scalars)\n",
    "        table_now = (self.kt,) + tuple(self.pt.table_now) + tuple(self.pt.scalars_now)\n",
    "        # pars = list(pars) + [1. / nd]  # add shot noise\n",
    "        pars = list(pars)  \n",
    "        pars.insert(-1, 1. / nd) # add shot noise to second last position (last is X_FoG_p) now\n",
    "        b1 = pars[0]\n",
    "        # add co-evolution part\n",
    "        pars[2] = pars[2] - 4. / 7. * (b1 - 1.)  # bs\n",
    "        pars[3] = pars[3] + 32. / 315. * (b1 - 1.)  # b3\n",
    "        ncols = len(table)\n",
    "\n",
    "        if getattr(self, '_get_poles', None) is None:\n",
    "\n",
    "            \n",
    "\n",
    "            def _get_poles(jac, kap, muap, pars, *table):\n",
    "                folps_rsdmps_class = folpsv2.RSDMultipolesPowerSpectrumCalculator (model=self.options['model'])\n",
    "                print(pars)\n",
    "                pars = folps_rsdmps_class.set_bias_scheme(pars=pars,bias_scheme=self.options['bias_scheme'])\n",
    "                \n",
    "                return self.to_poles(jac * folps_rsdmps_class.get_rsd_pkmu(kap, muap, pars, table[:ncols], table[ncols:],IR_resummation=self.options['IR_resummation'], damping=self.options['damping']))\n",
    "\n",
    "            # self._get_poles = jit(_get_poles) #Only going ahead with numpy implementation for now\n",
    "            self._get_poles = _get_poles\n",
    "        return self._get_poles(self.pt.jac, self.pt.kap, self.pt.muap, jnp.array(pars), *table, *table_now)\n",
    "        #pkmu = self.pt.jac * get_rsd_pkmu(self.pt.kap, self.pt.muap, pars, table, table_now)\n",
    "        #return self.to_poles(pkmu)\n",
    "\n",
    "    def __getstate__(self, varied=True, fixed=True):\n",
    "        state = {}\n",
    "        for name in (['k', 'z', 'ells', 'wmu', 'kt'] if fixed else []) + (['sigma8', 'fsigma8'] if varied else []):\n",
    "            if hasattr(self, name):\n",
    "                state[name] = getattr(self, name)\n",
    "        if varied:\n",
    "            for name in self._pt_attrs:\n",
    "                if hasattr(self.pt, name):\n",
    "                    state[name] = getattr(self.pt, name)\n",
    "        return state\n",
    "\n",
    "    def __setstate__(self, state):\n",
    "        for name in ['k', 'z', 'ells', 'wmu', 'kt', 'sigma8', 'fsigma8']:\n",
    "            if name in state: setattr(self, name, state.pop(name))\n",
    "        if not hasattr(self, 'pt'): self.pt = Namespace()\n",
    "        self.pt.update(**state)\n",
    "\n",
    "    # @classmethod\n",
    "    # def install(cls, installer):\n",
    "    #     installer.pip('git+https://github.com/cosmodesi/folpsax')\n",
    "\n",
    "\n"
   ]
  },
  {
   "cell_type": "code",
   "execution_count": 3,
   "metadata": {},
   "outputs": [],
   "source": [
    "class FOLPSv2TracerPowerSpectrumMultipoles(BaseTracerPowerSpectrumMultipoles):\n",
    "    r\"\"\"\n",
    "    FOLPS tracer power spectrum multipoles.\n",
    "    Can be exactly marginalized over counter terms and stochastic parameters alpha*, sn* and bias term b3*.\n",
    "    By default, bs and b3 are fixed to 0, following co-evolution.\n",
    "    For the matter (unbiased) power spectrum, set b1=1 and all other bias parameters to 0.\n",
    "\n",
    "    Parameters\n",
    "    ----------\n",
    "    k : array, default=None\n",
    "        Theory wavenumbers where to evaluate multipoles.\n",
    "\n",
    "    ells : tuple, default=(0, 2, 4)\n",
    "        Multipoles to compute.\n",
    "\n",
    "    template : BasePowerSpectrumTemplate\n",
    "        Power spectrum template. Defaults to :class:`DirectPowerSpectrumTemplate`.\n",
    "\n",
    "    shotnoise : float, default=1e4\n",
    "        Shot noise (which is usually marginalized over).\n",
    "\n",
    "    prior_basis : str, default='physical'\n",
    "        If 'physical', use physically-motivated prior basis for bias parameters, counterterms and stochastic terms:\n",
    "        :math:`b_{1}^\\prime = (1 + b_{1}^{L}) \\sigma_{8}(z), b_{2}^\\prime = b_{2}^{L} \\sigma_{8}(z)^2, b_{s}^\\prime = b_{s}^{L} \\sigma_{8}(z)^2, b_{3}^\\prime = 0`\n",
    "        with: :math:`b_{1} = 1 + b_{1}^{L}, b_{2} = 8/21 b_{1}^{L} + b_{2}^{L}, b_{s} = -4/7 b_{1}^{L} + b_{s}^{L}`.\n",
    "        :math:`\\alpha_{0} = (1 + b_{1}^{L})^{2} \\alpha_{0}^\\prime, \\alpha_{2} = f (1 + b_{1}^{L}) (\\alpha_{0}^\\prime + \\alpha_{2}^\\prime), \\alpha_{4} = f (f \\alpha_{2}^\\prime + (1 + b_{1}^{L}) \\alpha_{4}^\\prime)`.\n",
    "        :math:`s_{n, 0} = f_{\\mathrm{sat}}/\\bar{n} s_{n, 0}^\\prime, s_{n, 2} = f_{\\mathrm{sat}}/\\bar{n} \\sigma_{v}^{2} s_{n, 2}^\\prime, s_{n, 4} = f_{\\mathrm{sat}}/\\bar{n} \\sigma_{v}^{4} s_{n, 4}^\\prime`.\n",
    "\n",
    "    tracer : str, default=None\n",
    "        If ``prior_basis = 'physical'``, tracer to load preset ``fsat`` and ``sigv``. One of ['LRG', 'ELG', 'QSO'].\n",
    "\n",
    "    fsat : float, default=None\n",
    "        If ``prior_basis = 'physical'``, satellite fraction to assume.\n",
    "\n",
    "    sigv : float, default=None\n",
    "        If ``prior_basis = 'physical'``, velocity dispersion to assume.\n",
    "\n",
    "    Reference\n",
    "    ---------\n",
    "    - https://arxiv.org/abs/2208.02791\n",
    "    - https://github.com/henoriega/FOLPS-nu\n",
    "    \"\"\"\n",
    "    _default_options = dict(freedom=None, prior_basis='physical', tracer=None, fsat=None, sigv=None, shotnoise=1e4)\n",
    "\n",
    "    # @staticmethod\n",
    "    # def _params(params, freedom=None, prior_basis='physical'):\n",
    "    #     fix = []\n",
    "    #     if freedom in ['min', 'max']:\n",
    "    #         for param in params.select(basename=['b1']):\n",
    "    #             param.update(prior=dict(limits=[0., 10.]))\n",
    "    #         for param in params.select(basename=['b2']):\n",
    "    #             param.update(prior=dict(limits=[-50., 50.]))\n",
    "    #         for param in params.select(basename=['bs', 'b3', 'alpha*', 'sn*']):\n",
    "    #             param.update(prior=None)\n",
    "    #     if freedom == 'max':\n",
    "    #         for param in params.select(basename=['b1', 'b2', 'bs', 'b3']):\n",
    "    #             param.update(fixed=False)\n",
    "    #         fix += ['ct']\n",
    "    #     if freedom == 'min':\n",
    "    #         fix += ['b3', 'bs', 'ct']\n",
    "    #     for param in params.select(basename=fix):\n",
    "    #         param.update(value=0., fixed=True)\n",
    "    #     if prior_basis == 'physical':\n",
    "    #         for param in list(params):\n",
    "    #             basename = param.basename\n",
    "    #             param.update(basename=basename + 'p')\n",
    "    #             #params.set({'basename': basename, 'namespace': param.namespace, 'derived': True})\n",
    "    #         for param in params.select(basename='b1p'):\n",
    "    #             param.update(prior=dict(dist='uniform', limits=[0., 3.]), ref=dict(dist='norm', loc=1., scale=0.1))\n",
    "    #         for param in params.select(basename=['b2p', 'bsp', 'b3p']):\n",
    "    #             param.update(prior=dict(dist='norm', loc=0., scale=5.), ref=dict(dist='norm', loc=0., scale=1.))\n",
    "    #         for param in params.select(basename='b3p'):\n",
    "    #             param.update(value=0., fixed=True)\n",
    "    #         for param in params.select(basename='alpha*p'):\n",
    "    #             param.update(prior=dict(dist='norm', loc=0., scale=12.5), ref=dict(dist='norm', loc=0., scale=1.))  # 50% at k = 0.2 h/Mpc\n",
    "    #         for param in params.select(basename='sn*p'):\n",
    "    #             param.update(prior=dict(dist='norm', loc=0., scale=2. if 'sn0' in param.basename else 5.), ref=dict(dist='norm', loc=0., scale=1.))\n",
    "    #     return params\n",
    "\n",
    "    # def set_params(self):\n",
    "    #     self.required_bias_params = ['b1', 'b2', 'bs', 'b3', 'alpha0', 'alpha2', 'alpha4', 'ct', 'sn0', 'sn2','X_Fog_p']\n",
    "    #     default_values = {'b1': 2.}\n",
    "    #     self.required_bias_params = {name: default_values.get(name, 0.) for name in self.required_bias_params}\n",
    "    #     self.is_physical_prior = self.options['prior_basis'] == 'physical'\n",
    "    #     if self.is_physical_prior:\n",
    "    #         for name in list(self.required_bias_params):\n",
    "    #             self.required_bias_params[name + 'p'] = self.required_bias_params.pop(name)\n",
    "    #         settings = get_physical_stochastic_settings(tracer=self.options['tracer'])\n",
    "    #         for name, value in settings.items():\n",
    "    #             if self.options[name] is None: self.options[name] = value\n",
    "    #         if self.mpicomm.rank == 0:\n",
    "    #             self.log_debug('Using fsat, sigv = {:.3f}, {:.3f}.'.format(self.options['fsat'], self.options['sigv']))\n",
    "    #     super().set_params(pt_params=[])\n",
    "    #     fix = []\n",
    "    #     if 4 not in self.ells: fix += ['alpha4']\n",
    "    #     if 2 not in self.ells: fix += ['alpha2', 'sn2']\n",
    "    #     for param in self.init.params.select(basename=fix):\n",
    "    #         param.update(value=0., fixed=True)\n",
    "    #     self.nd = 1e-4\n",
    "    #     self.fsat = self.snd = 1.\n",
    "    #     if self.is_physical_prior:\n",
    "    #         self.fsat, self.snd = self.options['fsat'], self.options['shotnoise'] * self.nd  # normalized by 1e-4\n",
    "\n",
    "    def calculate(self, **params):\n",
    "        super(FOLPSv2TracerPowerSpectrumMultipoles, self).calculate()\n",
    "        # params = {**self.required_bias_params, **params}\n",
    "        # if self.is_physical_prior:\n",
    "        #     sigma8 = self.pt.sigma8\n",
    "        #     f = self.pt.fsigma8 / sigma8\n",
    "        #     # b1E = b1L + 1\n",
    "        #     # b2E = 8/21 * b1L + b2L\n",
    "        #     # bsE = -4/7 b1L + bsL\n",
    "        #     b1L, b2L, bsL, b3 = params['b1p'] / sigma8 - 1., params['b2p'] / sigma8**2, params['bsp'] / sigma8**2, params['b3p']\n",
    "        #     pars = [1. + b1L, b2L + 8. / 21. * b1L, bsL, b3]  # compensate bs by 4. / 7. * b1L as it is removed by combine_bias_terms_poles below\n",
    "        #     pars += [(1 + b1L)**2 * params['alpha0p'], f * (1 + b1L) * (params['alpha0p'] + params['alpha2p']),\n",
    "        #              f * (f * params['alpha2p'] + (1 + b1L) * params['alpha4p']), 0.]\n",
    "        #     sigv = self.options['sigv']\n",
    "        #     pars += [params['sn{:d}p'.format(i)] * self.snd * (self.fsat if i > 0 else 1.) * sigv**i for i in [0, 2]]\n",
    "        # else:\n",
    "        #     pars = [params[name] for name in self.required_bias_params]\n",
    "        # #self.__dict__.update(dict(zip(['b1', 'b2', 'bs', 'b3', 'alpha0', 'alpha2', 'alpha4', 'alpha6', 'sn0', 'sn2'], pars)))  # for derived parameters\n",
    "        # opts = {name: params.get(name, default) for name, default in self.optional_bias_params.items()}\n",
    "        pars = [1.0, 0.5, 0.3, 0.1, 0.01, 0.02, 0.03, 0.04, 0.001, 0.002, 0.0]\n",
    "        self.power = self.pt.combine_bias_terms_poles(pars, **opts, nd=self.nd)\n",
    "        "
   ]
  },
  {
   "cell_type": "code",
   "execution_count": 9,
   "metadata": {},
   "outputs": [],
   "source": [
    "from desilike.theories.galaxy_clustering.full_shape import DirectPowerSpectrumTemplate, KaiserTracerPowerSpectrumMultipoles, SimpleTracerPowerSpectrumMultipoles, FOLPSAXPowerSpectrumMultipoles,FOLPSTracerPowerSpectrumMultipoles,FOLPSv2TracerPowerSpectrumMultipoles\n",
    "from desilike.observables.galaxy_clustering import TracerPowerSpectrumMultipolesObservable\n",
    "from desilike.likelihoods import ObservablesGaussianLikelihood\n",
    "from desilike.parameter import ParameterCollection\n",
    "from desilike import setup_logging\n",
    "# from desilike_private.theories.galaxy_clustering.full_shape import FOLPSv2TracerPowerSpectrumMultipoles\n",
    "\n",
    "z=1.\n",
    "template = DirectPowerSpectrumTemplate(z=z, fiducial='DESI')\n",
    "template()\n",
    "template.calculate()\n",
    "for param in ['omega_b', 'n_s']: template.params[param].update(fixed=True)\n",
    "# theory = FOLPSAXPowerSpectrumMultipoles(template=template)\n",
    "theory2 = FOLPSv2TracerPowerSpectrumMultipoles(template=template,prior_basis='standard')\n",
    "theory3 = FOLPSTracerPowerSpectrumMultipoles(template=template,prior_basis='standard')\n",
    "\n",
    "# theory.compute()"
   ]
  },
  {
   "cell_type": "code",
   "execution_count": 10,
   "metadata": {},
   "outputs": [
    {
     "name": "stdout",
     "output_type": "stream",
     "text": [
      "Loading matrices from matrices_nfftlog128_Afull_True_remove-DeltaP_False.npy\n"
     ]
    },
    {
     "name": "stderr",
     "output_type": "stream",
     "text": [
      "/global/common/software/desi/users/adematti/perlmutter/cosmodesiconda/20240118-1.0.0/code/cosmoprimo/main/lib/python3.10/site-packages/cosmoprimo/eisenstein_hu.py:25: UserWarning: EisensteinHuNoWiggleEngine cannot cope with massive neutrinos\n",
      "  warnings.warn('{} cannot cope with massive neutrinos'.format(self.__class__.__name__))\n"
     ]
    },
    {
     "name": "stdout",
     "output_type": "stream",
     "text": [
      "Loading matrices from matrices_nfftlog128_Afull_True_remove-DeltaP_False.npy\n",
      "<desilike.theories.galaxy_clustering.full_shape.Namespace object at 0x7f385c246d70>\n",
      "[ 1.50000000e+00  0.00000000e+00 -2.85714286e-01  5.07936508e-02\n",
      "  0.00000000e+00  0.00000000e+00  0.00000000e+00  0.00000000e+00\n",
      "  0.00000000e+00  0.00000000e+00  1.00000000e+04  0.00000000e+00]\n",
      "N = 128 sampling points\n",
      "M matrices have been computed\n",
      "N = 128 sampling points\n",
      "M matrices have been computed\n"
     ]
    }
   ],
   "source": [
    "a,b,c=theory2()\n",
    "d,e,f=theory3()"
   ]
  },
  {
   "cell_type": "code",
   "execution_count": 11,
   "metadata": {},
   "outputs": [
    {
     "data": {
      "text/plain": [
       "<matplotlib.legend.Legend at 0x7f381c4fcf70>"
      ]
     },
     "execution_count": 11,
     "metadata": {},
     "output_type": "execute_result"
    },
    {
     "data": {
      "image/png": "[encoded data removed]",
      "text/plain": [
       "<Figure size 640x480 with 1 Axes>"
      ]
     },
     "metadata": {
      "image/png": {
       "height": 413,
       "width": 552
      }
     },
     "output_type": "display_data"
    }
   ],
   "source": [
    "k=theory2.k\n",
    "plt.plot(k,k*a,label='FOLPSv2')\n",
    "plt.plot(k,k*d,label='FOLPSv1')\n",
    "plt.legend()"
   ]
  },
  {
   "cell_type": "code",
   "execution_count": 12,
   "metadata": {},
   "outputs": [
    {
     "name": "stderr",
     "output_type": "stream",
     "text": [
      "/global/common/software/desi/users/adematti/perlmutter/cosmodesiconda/20240118-1.0.0/code/cosmoprimo/main/lib/python3.10/site-packages/cosmoprimo/eisenstein_hu.py:25: UserWarning: EisensteinHuNoWiggleEngine cannot cope with massive neutrinos\n",
      "  warnings.warn('{} cannot cope with massive neutrinos'.format(self.__class__.__name__))\n"
     ]
    }
   ],
   "source": [
    "template.init.update(with_now='peakaverage')\n",
    "template()\n",
    "template.calculate()\n",
    "# theory.initialize()\n",
    "# theory.calculate()"
   ]
  },
  {
   "cell_type": "code",
   "execution_count": 13,
   "metadata": {},
   "outputs": [
    {
     "name": "stdout",
     "output_type": "stream",
     "text": [
      "True\n",
      "True\n",
      "(400,)\n"
     ]
    }
   ],
   "source": [
    "print(hasattr(template, 'pk_dd'))       # should be True\n",
    "print(hasattr(template, 'pknow_dd'))    # should be True\n",
    "print(template.pk_dd.shape) "
   ]
  },
  {
   "cell_type": "code",
   "execution_count": 40,
   "metadata": {},
   "outputs": [
    {
     "data": {
      "text/plain": [
       "[<matplotlib.lines.Line2D at 0x7f424832b2b0>]"
      ]
     },
     "execution_count": 40,
     "metadata": {},
     "output_type": "execute_result"
    },
    {
     "data": {
      "image/png": "[encoded data removed]",
      "text/plain": [
       "<Figure size 640x480 with 1 Axes>"
      ]
     },
     "metadata": {
      "image/png": {
       "height": 413,
       "width": 560
      }
     },
     "output_type": "display_data"
    }
   ],
   "source": [
    "plt.plot(theory.k,a*theory.k)"
   ]
  },
  {
   "cell_type": "code",
   "execution_count": 4,
   "metadata": {},
   "outputs": [
    {
     "name": "stdout",
     "output_type": "stream",
     "text": [
      "/global/common/software/desi/users/adematti/perlmutter/cosmodesiconda/20240118-1.0.0/code/desilike/main/lib/python3.10/site-packages/desilike/__init__.py\n"
     ]
    }
   ],
   "source": [
    "# import folps\n",
    "import desilike\n",
    "print(desilike.__file__)"
   ]
  },
  {
   "cell_type": "code",
   "execution_count": 22,
   "metadata": {},
   "outputs": [
    {
     "name": "stdout",
     "output_type": "stream",
     "text": [
      "Loading matrices from matrices_nfftlog128_Afull_True_remove-DeltaP_False.npy\n"
     ]
    },
    {
     "name": "stderr",
     "output_type": "stream",
     "text": [
      "/global/common/software/desi/users/adematti/perlmutter/cosmodesiconda/20240118-1.0.0/code/cosmoprimo/main/lib/python3.10/site-packages/cosmoprimo/eisenstein_hu.py:25: UserWarning: EisensteinHuNoWiggleEngine cannot cope with massive neutrinos\n",
      "  warnings.warn('{} cannot cope with massive neutrinos'.format(self.__class__.__name__))\n"
     ]
    },
    {
     "ename": "AttributeError",
     "evalue": "<desilike.theories.primordial_cosmology.Cosmoprimo object at 0x7f1e2879fd30> has not attribute cosmo; try calling it first?",
     "output_type": "error",
     "traceback": [
      "\u001b[0;31m---------------------------------------------------------------------------\u001b[0m",
      "\u001b[0;31mAttributeError\u001b[0m                            Traceback (most recent call last)",
      "Cell \u001b[0;32mIn[22], line 2\u001b[0m\n\u001b[1;32m      1\u001b[0m theory2\u001b[38;5;241m.\u001b[39minitialize()\n\u001b[0;32m----> 2\u001b[0m \u001b[43mtheory2\u001b[49m\u001b[38;5;241;43m.\u001b[39;49m\u001b[43mcalculate\u001b[49m\u001b[43m(\u001b[49m\u001b[43m)\u001b[49m\n",
      "Cell \u001b[0;32mIn[20], line 38\u001b[0m, in \u001b[0;36mFOLPSv2PowerSpectrumMultipoles.calculate\u001b[0;34m(self)\u001b[0m\n\u001b[1;32m     36\u001b[0m \u001b[38;5;28mself\u001b[39m\u001b[38;5;241m.\u001b[39mtemplate()\n\u001b[1;32m     37\u001b[0m \u001b[38;5;28mself\u001b[39m\u001b[38;5;241m.\u001b[39mtemplate\u001b[38;5;241m.\u001b[39minitialize()\n\u001b[0;32m---> 38\u001b[0m \u001b[38;5;28;43mself\u001b[39;49m\u001b[38;5;241;43m.\u001b[39;49m\u001b[43mtemplate\u001b[49m\u001b[38;5;241;43m.\u001b[39;49m\u001b[43mcalculate\u001b[49m\u001b[43m(\u001b[49m\u001b[43m)\u001b[49m\n\u001b[1;32m     39\u001b[0m cosmo_params[\u001b[38;5;124m'\u001b[39m\u001b[38;5;124mpkttlin\u001b[39m\u001b[38;5;124m'\u001b[39m] \u001b[38;5;241m=\u001b[39m \u001b[38;5;28mself\u001b[39m\u001b[38;5;241m.\u001b[39mtemplate\u001b[38;5;241m.\u001b[39mpk_dd \u001b[38;5;241m*\u001b[39m \u001b[38;5;28mself\u001b[39m\u001b[38;5;241m.\u001b[39mtemplate\u001b[38;5;241m.\u001b[39mfk\u001b[38;5;241m*\u001b[39m\u001b[38;5;241m*\u001b[39m\u001b[38;5;241m2\u001b[39m\n\u001b[1;32m     40\u001b[0m cosmo_params[\u001b[38;5;124m'\u001b[39m\u001b[38;5;124mf0\u001b[39m\u001b[38;5;124m'\u001b[39m] \u001b[38;5;241m=\u001b[39m \u001b[38;5;28mself\u001b[39m\u001b[38;5;241m.\u001b[39mtemplate\u001b[38;5;241m.\u001b[39mf0\n",
      "File \u001b[0;32m/global/common/software/desi/users/adematti/perlmutter/cosmodesiconda/20240118-1.0.0/code/desilike/main/lib/python3.10/site-packages/desilike/theories/galaxy_clustering/power_template.py:252\u001b[0m, in \u001b[0;36mDirectPowerSpectrumTemplate.calculate\u001b[0;34m(self)\u001b[0m\n\u001b[1;32m    250\u001b[0m \u001b[38;5;28;01mdef\u001b[39;00m \u001b[38;5;21mcalculate\u001b[39m(\u001b[38;5;28mself\u001b[39m):\n\u001b[1;32m    251\u001b[0m     \u001b[38;5;66;03m# compute the power spectrum for the current cosmo\u001b[39;00m\n\u001b[0;32m--> 252\u001b[0m     \u001b[43mBasePowerSpectrumExtractor\u001b[49m\u001b[38;5;241;43m.\u001b[39;49m\u001b[43m_set_base\u001b[49m\u001b[43m(\u001b[49m\u001b[38;5;28;43mself\u001b[39;49m\u001b[43m,\u001b[49m\u001b[43m \u001b[49m\u001b[43mwith_now\u001b[49m\u001b[38;5;241;43m=\u001b[39;49m\u001b[38;5;28;43mself\u001b[39;49m\u001b[38;5;241;43m.\u001b[39;49m\u001b[43mwith_now\u001b[49m\u001b[43m)\u001b[49m\n\u001b[1;32m    253\u001b[0m     \u001b[38;5;28mself\u001b[39m\u001b[38;5;241m.\u001b[39mpk_dd \u001b[38;5;241m=\u001b[39m \u001b[38;5;28mself\u001b[39m\u001b[38;5;241m.\u001b[39mpk_dd_interpolator(\u001b[38;5;28mself\u001b[39m\u001b[38;5;241m.\u001b[39mk)\n\u001b[1;32m    254\u001b[0m     \u001b[38;5;28;01mif\u001b[39;00m \u001b[38;5;28mself\u001b[39m\u001b[38;5;241m.\u001b[39mwith_now:\n",
      "File \u001b[0;32m/global/common/software/desi/users/adematti/perlmutter/cosmodesiconda/20240118-1.0.0/code/desilike/main/lib/python3.10/site-packages/desilike/theories/galaxy_clustering/power_template.py:51\u001b[0m, in \u001b[0;36mBasePowerSpectrumExtractor._set_base\u001b[0;34m(self, fiducial, with_now)\u001b[0m\n\u001b[1;32m     49\u001b[0m \u001b[38;5;28;01mdef\u001b[39;00m \u001b[38;5;21m_set_base\u001b[39m(\u001b[38;5;28mself\u001b[39m, fiducial\u001b[38;5;241m=\u001b[39m\u001b[38;5;28;01mFalse\u001b[39;00m, with_now\u001b[38;5;241m=\u001b[39m\u001b[38;5;28;01mFalse\u001b[39;00m):\n\u001b[1;32m     50\u001b[0m     cosmo \u001b[38;5;241m=\u001b[39m \u001b[38;5;28mself\u001b[39m\u001b[38;5;241m.\u001b[39mfiducial \u001b[38;5;28;01mif\u001b[39;00m fiducial \u001b[38;5;28;01melse\u001b[39;00m \u001b[38;5;28mself\u001b[39m\u001b[38;5;241m.\u001b[39mcosmo\n\u001b[0;32m---> 51\u001b[0m     \u001b[38;5;28;01mif\u001b[39;00m \u001b[38;5;129;01mnot\u001b[39;00m \u001b[38;5;28misinstance\u001b[39m(cosmo, Cosmology): cosmo \u001b[38;5;241m=\u001b[39m \u001b[43mcosmo\u001b[49m\u001b[38;5;241;43m.\u001b[39;49m\u001b[43mcosmo\u001b[49m\n\u001b[1;32m     52\u001b[0m     fo \u001b[38;5;241m=\u001b[39m cosmo\u001b[38;5;241m.\u001b[39mget_fourier()\n\u001b[1;32m     53\u001b[0m     state \u001b[38;5;241m=\u001b[39m {}\n",
      "File \u001b[0;32m/global/common/software/desi/users/adematti/perlmutter/cosmodesiconda/20240118-1.0.0/code/desilike/main/lib/python3.10/site-packages/desilike/theories/primordial_cosmology.py:129\u001b[0m, in \u001b[0;36mCosmoprimo.__getattr__\u001b[0;34m(self, name)\u001b[0m\n\u001b[1;32m    127\u001b[0m \u001b[38;5;28;01mif\u001b[39;00m \u001b[38;5;124m'\u001b[39m\u001b[38;5;124mcosmo\u001b[39m\u001b[38;5;124m'\u001b[39m \u001b[38;5;129;01min\u001b[39;00m \u001b[38;5;28mself\u001b[39m\u001b[38;5;241m.\u001b[39m\u001b[38;5;18m__dict__\u001b[39m:\n\u001b[1;32m    128\u001b[0m     \u001b[38;5;28;01mreturn\u001b[39;00m get_from_cosmo(\u001b[38;5;28mself\u001b[39m\u001b[38;5;241m.\u001b[39mcosmo, name)\n\u001b[0;32m--> 129\u001b[0m \u001b[38;5;28;01mraise\u001b[39;00m \u001b[38;5;167;01mAttributeError\u001b[39;00m(\u001b[38;5;124m'\u001b[39m\u001b[38;5;132;01m{}\u001b[39;00m\u001b[38;5;124m has not attribute \u001b[39m\u001b[38;5;132;01m{}\u001b[39;00m\u001b[38;5;124m; try calling it first?\u001b[39m\u001b[38;5;124m'\u001b[39m\u001b[38;5;241m.\u001b[39mformat(\u001b[38;5;28mself\u001b[39m, name))\n",
      "\u001b[0;31mAttributeError\u001b[0m: <desilike.theories.primordial_cosmology.Cosmoprimo object at 0x7f1e2879fd30> has not attribute cosmo; try calling it first?"
     ]
    }
   ],
   "source": [
    "theory2.initialize()\n",
    "theory2.calculate()"
   ]
  },
  {
   "cell_type": "code",
   "execution_count": 8,
   "metadata": {},
   "outputs": [
    {
     "name": "stdout",
     "output_type": "stream",
     "text": [
      "Loading matrices from matrices_nfftlog128_Afull_True_remove-DeltaP_False.npy\n"
     ]
    },
    {
     "ename": "AttributeError",
     "evalue": "calculator FOLPSv2PowerSpectrumMultipoles has no attribute kt; have you run any calculation already by calling this calculator or calculators that depend on it (typically, a likelihood?)",
     "output_type": "error",
     "traceback": [
      "\u001b[0;31m---------------------------------------------------------------------------\u001b[0m",
      "\u001b[0;31mAttributeError\u001b[0m                            Traceback (most recent call last)",
      "File \u001b[0;32m/global/common/software/desi/users/adematti/perlmutter/cosmodesiconda/20240118-1.0.0/code/desilike/main/lib/python3.10/site-packages/desilike/base.py:1195\u001b[0m, in \u001b[0;36mBaseCalculator.__getattr__\u001b[0;34m(self, name)\u001b[0m\n\u001b[1;32m   1194\u001b[0m \u001b[38;5;28;01mtry\u001b[39;00m:\n\u001b[0;32m-> 1195\u001b[0m     \u001b[38;5;28;01mreturn\u001b[39;00m \u001b[38;5;28;43mobject\u001b[39;49m\u001b[38;5;241;43m.\u001b[39;49m\u001b[38;5;21;43m__getattribute__\u001b[39;49m\u001b[43m(\u001b[49m\u001b[38;5;28;43mself\u001b[39;49m\u001b[43m,\u001b[49m\u001b[43m \u001b[49m\u001b[43mname\u001b[49m\u001b[43m)\u001b[49m\n\u001b[1;32m   1196\u001b[0m \u001b[38;5;28;01mexcept\u001b[39;00m \u001b[38;5;167;01mAttributeError\u001b[39;00m \u001b[38;5;28;01mas\u001b[39;00m exc:\n",
      "\u001b[0;31mAttributeError\u001b[0m: 'FOLPSv2PowerSpectrumMultipoles' object has no attribute 'kt'",
      "\nThe above exception was the direct cause of the following exception:\n",
      "\u001b[0;31mAttributeError\u001b[0m                            Traceback (most recent call last)",
      "Cell \u001b[0;32mIn[8], line 2\u001b[0m\n\u001b[1;32m      1\u001b[0m pars \u001b[38;5;241m=\u001b[39m [\u001b[38;5;241m1.0\u001b[39m, \u001b[38;5;241m0.5\u001b[39m, \u001b[38;5;241m0.3\u001b[39m, \u001b[38;5;241m0.1\u001b[39m, \u001b[38;5;241m0.01\u001b[39m, \u001b[38;5;241m0.02\u001b[39m, \u001b[38;5;241m0.03\u001b[39m, \u001b[38;5;241m0.04\u001b[39m, \u001b[38;5;241m0.001\u001b[39m, \u001b[38;5;241m0.002\u001b[39m, \u001b[38;5;241m0.0\u001b[39m]\n\u001b[0;32m----> 2\u001b[0m \u001b[43mtheory2\u001b[49m\u001b[38;5;241;43m.\u001b[39;49m\u001b[43mcombine_bias_terms_poles\u001b[49m\u001b[43m(\u001b[49m\u001b[43mpars\u001b[49m\u001b[43m)\u001b[49m\n",
      "Cell \u001b[0;32mIn[6], line 69\u001b[0m, in \u001b[0;36mFOLPSv2PowerSpectrumMultipoles.combine_bias_terms_poles\u001b[0;34m(self, pars, nd)\u001b[0m\n\u001b[1;32m     68\u001b[0m \u001b[38;5;28;01mdef\u001b[39;00m \u001b[38;5;21mcombine_bias_terms_poles\u001b[39m(\u001b[38;5;28mself\u001b[39m, pars, nd\u001b[38;5;241m=\u001b[39m\u001b[38;5;241m1e-4\u001b[39m):\n\u001b[0;32m---> 69\u001b[0m     table \u001b[38;5;241m=\u001b[39m (\u001b[38;5;28;43mself\u001b[39;49m\u001b[38;5;241;43m.\u001b[39;49m\u001b[43mkt\u001b[49m,) \u001b[38;5;241m+\u001b[39m \u001b[38;5;28mtuple\u001b[39m(\u001b[38;5;28mself\u001b[39m\u001b[38;5;241m.\u001b[39mpt\u001b[38;5;241m.\u001b[39mtable) \u001b[38;5;241m+\u001b[39m \u001b[38;5;28mtuple\u001b[39m(\u001b[38;5;28mself\u001b[39m\u001b[38;5;241m.\u001b[39mpt\u001b[38;5;241m.\u001b[39mscalars)\n\u001b[1;32m     70\u001b[0m     table_now \u001b[38;5;241m=\u001b[39m (\u001b[38;5;28mself\u001b[39m\u001b[38;5;241m.\u001b[39mkt,) \u001b[38;5;241m+\u001b[39m \u001b[38;5;28mtuple\u001b[39m(\u001b[38;5;28mself\u001b[39m\u001b[38;5;241m.\u001b[39mpt\u001b[38;5;241m.\u001b[39mtable_now) \u001b[38;5;241m+\u001b[39m \u001b[38;5;28mtuple\u001b[39m(\u001b[38;5;28mself\u001b[39m\u001b[38;5;241m.\u001b[39mpt\u001b[38;5;241m.\u001b[39mscalars_now)\n\u001b[1;32m     71\u001b[0m     \u001b[38;5;66;03m# pars = list(pars) + [1. / nd]  # add shot noise\u001b[39;00m\n",
      "File \u001b[0;32m/global/common/software/desi/users/adematti/perlmutter/cosmodesiconda/20240118-1.0.0/code/desilike/main/lib/python3.10/site-packages/desilike/base.py:1197\u001b[0m, in \u001b[0;36mBaseCalculator.__getattr__\u001b[0;34m(self, name)\u001b[0m\n\u001b[1;32m   1195\u001b[0m     \u001b[38;5;28;01mreturn\u001b[39;00m \u001b[38;5;28mobject\u001b[39m\u001b[38;5;241m.\u001b[39m\u001b[38;5;21m__getattribute__\u001b[39m(\u001b[38;5;28mself\u001b[39m, name)\n\u001b[1;32m   1196\u001b[0m \u001b[38;5;28;01mexcept\u001b[39;00m \u001b[38;5;167;01mAttributeError\u001b[39;00m \u001b[38;5;28;01mas\u001b[39;00m exc:\n\u001b[0;32m-> 1197\u001b[0m     \u001b[38;5;28;01mraise\u001b[39;00m \u001b[38;5;167;01mAttributeError\u001b[39;00m(\u001b[38;5;124m'\u001b[39m\u001b[38;5;124mcalculator \u001b[39m\u001b[38;5;132;01m{}\u001b[39;00m\u001b[38;5;124m has no attribute \u001b[39m\u001b[38;5;132;01m{}\u001b[39;00m\u001b[38;5;124m; \u001b[39m\u001b[38;5;124m'\u001b[39m\n\u001b[1;32m   1198\u001b[0m                          \u001b[38;5;124m'\u001b[39m\u001b[38;5;124mhave you run any calculation already by calling this calculator or calculators \u001b[39m\u001b[38;5;124m'\u001b[39m\n\u001b[1;32m   1199\u001b[0m                          \u001b[38;5;124m'\u001b[39m\u001b[38;5;124mthat depend on it (typically, a likelihood?)\u001b[39m\u001b[38;5;124m'\u001b[39m\u001b[38;5;241m.\u001b[39mformat(\u001b[38;5;28mself\u001b[39m\u001b[38;5;241m.\u001b[39m\u001b[38;5;18m__class__\u001b[39m\u001b[38;5;241m.\u001b[39m\u001b[38;5;18m__name__\u001b[39m, name)) \u001b[38;5;28;01mfrom\u001b[39;00m \u001b[38;5;21;01mexc\u001b[39;00m\n",
      "\u001b[0;31mAttributeError\u001b[0m: calculator FOLPSv2PowerSpectrumMultipoles has no attribute kt; have you run any calculation already by calling this calculator or calculators that depend on it (typically, a likelihood?)"
     ]
    }
   ],
   "source": [
    "pars = [1.0, 0.5, 0.3, 0.1, 0.01, 0.02, 0.03, 0.04, 0.001, 0.002, 0.0]\n",
    "theory2()"
   ]
  },
  {
   "cell_type": "code",
   "execution_count": 19,
   "metadata": {},
   "outputs": [
    {
     "data": {
      "text/plain": [
       "['__call__',\n",
       " '__class__',\n",
       " '__clear__',\n",
       " '__copy__',\n",
       " '__deepcopy__',\n",
       " '__delattr__',\n",
       " '__dict__',\n",
       " '__dir__',\n",
       " '__doc__',\n",
       " '__eq__',\n",
       " '__format__',\n",
       " '__ge__',\n",
       " '__getattr__',\n",
       " '__getattribute__',\n",
       " '__getstate__',\n",
       " '__gt__',\n",
       " '__hash__',\n",
       " '__init__',\n",
       " '__init_subclass__',\n",
       " '__le__',\n",
       " '__lt__',\n",
       " '__module__',\n",
       " '__ne__',\n",
       " '__new__',\n",
       " '__reduce__',\n",
       " '__reduce_ex__',\n",
       " '__repr__',\n",
       " '__setattr__',\n",
       " '__setstate__',\n",
       " '__sizeof__',\n",
       " '__str__',\n",
       " '__subclasshook__',\n",
       " '__weakref__',\n",
       " '_default_options',\n",
       " '_get_non_linear',\n",
       " '_klim',\n",
       " '_mpicomm',\n",
       " '_pt_attrs',\n",
       " 'all_params',\n",
       " 'calculate',\n",
       " 'combine_bias_terms_poles',\n",
       " 'copy',\n",
       " 'deepcopy',\n",
       " 'ells',\n",
       " 'from_state',\n",
       " 'fsigma8',\n",
       " 'get',\n",
       " 'info',\n",
       " 'init',\n",
       " 'initialize',\n",
       " 'install',\n",
       " 'k',\n",
       " 'kt',\n",
       " 'load',\n",
       " 'log_critical',\n",
       " 'log_debug',\n",
       " 'log_error',\n",
       " 'log_info',\n",
       " 'log_warning',\n",
       " 'logger',\n",
       " 'matrices',\n",
       " 'mpicomm',\n",
       " 'mu',\n",
       " 'options',\n",
       " 'params',\n",
       " 'pt',\n",
       " 'runtime_info',\n",
       " 'save',\n",
       " 'set_k_mu',\n",
       " 'sigma8',\n",
       " 'template',\n",
       " 'to_poles',\n",
       " 'varied_params',\n",
       " 'wmu',\n",
       " 'z']"
      ]
     },
     "execution_count": 19,
     "metadata": {},
     "output_type": "execute_result"
    }
   ],
   "source": [
    "dir(theory)"
   ]
  },
  {
   "cell_type": "code",
   "execution_count": 25,
   "metadata": {},
   "outputs": [],
   "source": [
    "p = theory.calculate"
   ]
  },
  {
   "cell_type": "code",
   "execution_count": 28,
   "metadata": {},
   "outputs": [
    {
     "data": {
      "text/plain": [
       "<bound method FOLPSAXPowerSpectrumMultipoles.calculate of <__main__.FOLPSAXPowerSpectrumMultipoles object at 0x7f44242b3a30>>"
      ]
     },
     "execution_count": 28,
     "metadata": {},
     "output_type": "execute_result"
    }
   ],
   "source": [
    "theory.calculate"
   ]
  },
  {
   "cell_type": "code",
   "execution_count": 29,
   "metadata": {},
   "outputs": [
    {
     "ename": "TypeError",
     "evalue": "cannot unpack non-iterable NoneType object",
     "output_type": "error",
     "traceback": [
      "\u001b[0;31m---------------------------------------------------------------------------\u001b[0m",
      "\u001b[0;31mTypeError\u001b[0m                                 Traceback (most recent call last)",
      "Cell \u001b[0;32mIn[29], line 1\u001b[0m\n\u001b[0;32m----> 1\u001b[0m a,b,c\u001b[38;5;241m=\u001b[39mtheory()\n",
      "\u001b[0;31mTypeError\u001b[0m: cannot unpack non-iterable NoneType object"
     ]
    }
   ],
   "source": [
    "a,b,c=theory()"
   ]
  },
  {
   "cell_type": "code",
   "execution_count": 2,
   "metadata": {},
   "outputs": [],
   "source": [
    "import desilike"
   ]
  },
  {
   "cell_type": "code",
   "execution_count": 3,
   "metadata": {},
   "outputs": [
    {
     "ename": "AttributeError",
     "evalue": "module 'desilike' has no attribute '_file_'",
     "output_type": "error",
     "traceback": [
      "\u001b[0;31m---------------------------------------------------------------------------\u001b[0m",
      "\u001b[0;31mAttributeError\u001b[0m                            Traceback (most recent call last)",
      "Cell \u001b[0;32mIn[3], line 1\u001b[0m\n\u001b[0;32m----> 1\u001b[0m \u001b[43mdesilike\u001b[49m\u001b[38;5;241;43m.\u001b[39;49m\u001b[43m_file_\u001b[49m\n",
      "\u001b[0;31mAttributeError\u001b[0m: module 'desilike' has no attribute '_file_'"
     ]
    }
   ],
   "source": [
    "desilike._file_"
   ]
  },
  {
   "cell_type": "code",
   "execution_count": 2,
   "metadata": {},
   "outputs": [
    {
     "name": "stdout",
     "output_type": "stream",
     "text": [
      "/bin/bash: module: line 1: syntax error: unexpected end of file\n",
      "/bin/bash: error importing function definition for `module'\n",
      "/bin/bash: ml: line 1: syntax error: unexpected end of file\n",
      "/bin/bash: error importing function definition for `ml'\n",
      "Defaulting to user installation because normal site-packages is not writeable\n",
      "Collecting git+https://github.com/cosmodesi/desilike\n",
      "  Cloning https://github.com/cosmodesi/desilike to /tmp/pip-req-build-hqkq_qr2\n",
      "  Running command git clone --filter=blob:none --quiet https://github.com/cosmodesi/desilike /tmp/pip-req-build-hqkq_qr2\n",
      "  Resolved https://github.com/cosmodesi/desilike to commit c948d980209378c1596562eb90cfa4319e53b1a5\n",
      "  Installing build dependencies ... \u001b[?25ldone\n",
      "\u001b[?25h  Getting requirements to build wheel ... \u001b[?25ldone\n",
      "\u001b[?25h  Preparing metadata (pyproject.toml) ... \u001b[?25ldone\n",
      "\u001b[?25hCollecting cosmoprimo@ git+https://github.com/cosmodesi/cosmoprimo (from desilike==0.0.1)\n",
      "  Cloning https://github.com/cosmodesi/cosmoprimo to /tmp/pip-install-39jfedb5/cosmoprimo_b57a05c0d15e4b418b8ddd222ad07a94\n",
      "  Running command git clone --filter=blob:none --quiet https://github.com/cosmodesi/cosmoprimo /tmp/pip-install-39jfedb5/cosmoprimo_b57a05c0d15e4b418b8ddd222ad07a94\n",
      "  Resolved https://github.com/cosmodesi/cosmoprimo to commit f35dec664b50dea83033204a8cdb6ec586be30b9\n",
      "  Installing build dependencies ... \u001b[?25ldone\n",
      "\u001b[?25h  Getting requirements to build wheel ... \u001b[?25ldone\n",
      "\u001b[?25h  Preparing metadata (pyproject.toml) ... \u001b[?25ldone\n",
      "\u001b[?25hRequirement already satisfied: numpy<2.0,>=1.18.0 in /global/common/software/desi/users/adematti/perlmutter/cosmodesiconda/20240118-1.0.0/conda/lib/python3.10/site-packages (from desilike==0.0.1) (1.26.3)\n",
      "Requirement already satisfied: scipy in /global/common/software/desi/users/adematti/perlmutter/cosmodesiconda/20240118-1.0.0/conda/lib/python3.10/site-packages (from desilike==0.0.1) (1.11.4)\n",
      "Requirement already satisfied: pyyaml in /global/common/software/desi/users/adematti/perlmutter/cosmodesiconda/20240118-1.0.0/conda/lib/python3.10/site-packages (from desilike==0.0.1) (6.0.1)\n",
      "Requirement already satisfied: mpi4py in /global/common/software/desi/users/adematti/perlmutter/cosmodesiconda/20240118-1.0.0/conda/lib/python3.10/site-packages (from desilike==0.0.1) (3.1.5)\n",
      "Building wheels for collected packages: desilike, cosmoprimo\n",
      "  Building wheel for desilike (pyproject.toml) ... \u001b[?25ldone\n",
      "\u001b[?25h  Created wheel for desilike: filename=desilike-0.0.1-py3-none-any.whl size=501560 sha256=e25f315036c850044544b000696bc4ea35db0f0e16a1f1bb93efd36b659042d9\n",
      "  Stored in directory: /tmp/pip-ephem-wheel-cache-ij7u_9ng/wheels/12/fb/39/dd1f32f29c95bb831021fcf14606a92f728d46c0ea048f3f7c\n",
      "  Building wheel for cosmoprimo (pyproject.toml) ... \u001b[?25ldone\n",
      "\u001b[?25h  Created wheel for cosmoprimo: filename=cosmoprimo-1.0.0-py3-none-any.whl size=5670751 sha256=f8c34e3c8dd0a0b412008ae5e23b40096f73d13fb3a3e8e99534814a485340e6\n",
      "  Stored in directory: /tmp/pip-ephem-wheel-cache-ij7u_9ng/wheels/3d/e4/33/8b1cd15473790760456c98a7d5eafa65e9db2945fecdef2a00\n",
      "Successfully built desilike cosmoprimo\n",
      "Installing collected packages: cosmoprimo, desilike\n",
      "Successfully installed cosmoprimo-1.0.0 desilike-0.0.1\n"
     ]
    }
   ],
   "source": []
  },
  {
   "cell_type": "code",
   "execution_count": 3,
   "metadata": {},
   "outputs": [
    {
     "name": "stdout",
     "output_type": "stream",
     "text": [
      "Collecting git+https://github.com/cosmodesi/desilike\n",
      "  Cloning https://github.com/cosmodesi/desilike to /tmp/pip-req-build-m70walvh\n",
      "  Running command git clone --filter=blob:none --quiet https://github.com/cosmodesi/desilike /tmp/pip-req-build-m70walvh\n",
      "  Resolved https://github.com/cosmodesi/desilike to commit c948d980209378c1596562eb90cfa4319e53b1a5\n",
      "  Installing build dependencies ... \u001b[?25ldone\n",
      "\u001b[?25h  Getting requirements to build wheel ... \u001b[?25ldone\n",
      "\u001b[?25h  Preparing metadata (pyproject.toml) ... \u001b[?25ldone\n",
      "\u001b[?25hCollecting cosmoprimo@ git+https://github.com/cosmodesi/cosmoprimo\n",
      "  Cloning https://github.com/cosmodesi/cosmoprimo to /tmp/pip-install-sje7gw1i/cosmoprimo_a8ff0fa10f2f40d7ad366e7ebcc31d6c\n",
      "  Running command git clone --filter=blob:none --quiet https://github.com/cosmodesi/cosmoprimo /tmp/pip-install-sje7gw1i/cosmoprimo_a8ff0fa10f2f40d7ad366e7ebcc31d6c\n",
      "  Resolved https://github.com/cosmodesi/cosmoprimo to commit f35dec664b50dea83033204a8cdb6ec586be30b9\n",
      "  Installing build dependencies ... \u001b[?25ldone\n",
      "\u001b[?25h  Getting requirements to build wheel ... \u001b[?25ldone\n",
      "\u001b[?25h  Preparing metadata (pyproject.toml) ... \u001b[?25ldone\n",
      "\u001b[?25hCollecting numpy<2.0,>=1.18.0\n",
      "  Downloading numpy-1.26.4-cp310-cp310-manylinux_2_17_x86_64.manylinux2014_x86_64.whl (18.2 MB)\n",
      "\u001b[2K     \u001b[90m━━━━━━━━━━━━━━━━━━━━━━━━━━━━━━━━━━━━━━━\u001b[0m \u001b[32m18.2/18.2 MB\u001b[0m \u001b[31m108.1 MB/s\u001b[0m eta \u001b[36m0:00:00\u001b[0m00:01\u001b[0m0:01\u001b[0m\n",
      "\u001b[?25hCollecting pyyaml\n",
      "  Downloading PyYAML-6.0.2-cp310-cp310-manylinux_2_17_x86_64.manylinux2014_x86_64.whl (751 kB)\n",
      "\u001b[2K     \u001b[90m━━━━━━━━━━━━━━━━━━━━━━━━━━━━━━━━━━━━━━\u001b[0m \u001b[32m751.2/751.2 kB\u001b[0m \u001b[31m87.7 MB/s\u001b[0m eta \u001b[36m0:00:00\u001b[0m\n",
      "\u001b[?25hCollecting scipy\n",
      "  Downloading scipy-1.15.3-cp310-cp310-manylinux_2_17_x86_64.manylinux2014_x86_64.whl (37.7 MB)\n",
      "\u001b[2K     \u001b[90m━━━━━━━━━━━━━━━━━━━━━━━━━━━━━━━━━━━━━━━━\u001b[0m \u001b[32m37.7/37.7 MB\u001b[0m \u001b[31m71.6 MB/s\u001b[0m eta \u001b[36m0:00:00\u001b[0m00:01\u001b[0m00:01\u001b[0m\n",
      "\u001b[?25hCollecting mpi4py\n",
      "  Downloading mpi4py-4.1.0-cp310-cp310-manylinux1_x86_64.manylinux_2_5_x86_64.whl (1.4 MB)\n",
      "\u001b[2K     \u001b[90m━━━━━━━━━━━━━━━━━━━━━━━━━━━━━━━━━━━━━━━━\u001b[0m \u001b[32m1.4/1.4 MB\u001b[0m \u001b[31m114.1 MB/s\u001b[0m eta \u001b[36m0:00:00\u001b[0m\n",
      "\u001b[?25hBuilding wheels for collected packages: cosmoprimo\n",
      "  Building wheel for cosmoprimo (pyproject.toml) ... \u001b[?25ldone\n",
      "\u001b[?25h  Created wheel for cosmoprimo: filename=cosmoprimo-1.0.0-py3-none-any.whl size=5670751 sha256=edf2420720f4f6163c6e5e430afa647f1ec2c77af2d56dfcb2e48d850c8aade3\n",
      "  Stored in directory: /tmp/pip-ephem-wheel-cache-ebfzf4_r/wheels/3d/e4/33/8b1cd15473790760456c98a7d5eafa65e9db2945fecdef2a00\n",
      "Successfully built cosmoprimo\n",
      "Installing collected packages: pyyaml, numpy, mpi4py, scipy, cosmoprimo\n",
      "  Attempting uninstall: numpy\n",
      "    Found existing installation: numpy 2.2.6\n",
      "    Uninstalling numpy-2.2.6:\n",
      "      Successfully uninstalled numpy-2.2.6\n",
      "Successfully installed cosmoprimo-1.0.0 mpi4py-4.1.0 numpy-1.26.4 pyyaml-6.0.2 scipy-1.15.3\n",
      "\n",
      "\u001b[1m[\u001b[0m\u001b[34;49mnotice\u001b[0m\u001b[1;39;49m]\u001b[0m\u001b[39;49m A new release of pip is available: \u001b[0m\u001b[31;49m23.0.1\u001b[0m\u001b[39;49m -> \u001b[0m\u001b[32;49m25.1.1\u001b[0m\n",
      "\u001b[1m[\u001b[0m\u001b[34;49mnotice\u001b[0m\u001b[1;39;49m]\u001b[0m\u001b[39;49m To update, run: \u001b[0m\u001b[32;49mpip install --upgrade pip\u001b[0m\n"
     ]
    }
   ],
   "source": [
    "!python -m pip install git+https://github.com/cosmodesi/desilike"
   ]
  },
  {
   "cell_type": "code",
   "execution_count": null,
   "metadata": {},
   "outputs": [],
   "source": []
  }
 ],
 "metadata": {
  "kernelspec": {
   "display_name": "cosmodesi-main",
   "language": "python",
   "name": "cosmodesi-main"
  },
  "language_info": {
   "codemirror_mode": {
    "name": "ipython",
    "version": 3
   },
   "file_extension": ".py",
   "mimetype": "text/x-python",
   "name": "python",
   "nbconvert_exporter": "python",
   "pygments_lexer": "ipython3",
   "version": "3.10.13"
  }
 },
 "nbformat": 4,
 "nbformat_minor": 2
}
