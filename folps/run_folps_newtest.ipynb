{
 "cells": [
  {
   "cell_type": "code",
   "execution_count": 1,
   "id": "f8e82ba4",
   "metadata": {
    "scrolled": true
   },
   "outputs": [
    {
     "name": "stdout",
     "output_type": "stream",
     "text": [
      "✅ Using NumPy with CPU.\n"
     ]
    }
   ],
   "source": [
    "import os\n",
    "\n",
    "# Select the backend before importing folps.py\n",
    "os.environ[\"FOLPS_BACKEND\"] = \"numpy\"  #'numpy' or 'jax'\n",
    "\n",
    "from folps_newtest import *\n",
    "from cosmo_class import *\n",
    "from use_fkpt import *"
   ]
  },
  {
   "cell_type": "code",
   "execution_count": 2,
   "id": "cba06616",
   "metadata": {},
   "outputs": [],
   "source": [
    "#omega_i = Omega_i h² \n",
    "omega_b = 0.022;        #baryons\n",
    "omega_cdm = 0.122;       #CDM\n",
    "omega_ncdm = 0.0006442;    #massive neutrinos \n",
    "h = 0.6711;                 #h = H0/100\n",
    "z_pk = 0.3;  #evaluation redshift\n",
    "z_pk_scale = 0.97\n",
    "CosmoParams = [z_pk, omega_b, omega_cdm, omega_ncdm, h]"
   ]
  },
  {
   "cell_type": "code",
   "execution_count": 3,
   "id": "d19ad2b3",
   "metadata": {},
   "outputs": [
    {
     "name": "stdout",
     "output_type": "stream",
     "text": [
      "CPU times: user 1.58 s, sys: 12.8 ms, total: 1.6 s\n",
      "Wall time: 228 ms\n"
     ]
    }
   ],
   "source": [
    "%%time\n",
    "#linear power spectrum\n",
    "ps = generate_ps(h = 0.6711, ombh2 = 0.022, omch2 = 0.122, omnuh2 = 0.0006442, \n",
    "            As = 2e-9, ns = 0.965, z = z_pk, z_scale=[0.97],\n",
    "            N_ur = 2.0328,\n",
    "            khmin = 0.0001, khmax = 2.0, nbk = 1000, spectra = 'matter')\n",
    "inputpkT = np.array([ps['kh'], ps['pk']])\n",
    "kwargs = {'z': z_pk, 'f0':0.6900011469771554, 'h': h}"
   ]
  },
  {
   "cell_type": "code",
   "execution_count": 4,
   "id": "e26b04fe",
   "metadata": {},
   "outputs": [
    {
     "name": "stdout",
     "output_type": "stream",
     "text": [
      "Loading matrices from matrices_nfftlog128_AfullTrue.npy\n"
     ]
    }
   ],
   "source": [
    "matrix = MatrixCalculator(A_full=True)\n",
    "mmatrices = matrix.get_mmatrices()"
   ]
  },
  {
   "cell_type": "code",
   "execution_count": 5,
   "id": "d24d6ebf",
   "metadata": {},
   "outputs": [
    {
     "name": "stdout",
     "output_type": "stream",
     "text": [
      "CPU times: user 207 µs, sys: 9 µs, total: 216 µs\n",
      "Wall time: 210 µs\n"
     ]
    }
   ],
   "source": [
    "%%time\n",
    "#1-loop\n",
    "nonlinear = NonLinearPowerSpectrumCalculator(mmatrices=mmatrices,\n",
    "                                             kernels='fk',\n",
    "                                             **kwargs)"
   ]
  },
  {
   "cell_type": "code",
   "execution_count": 6,
   "id": "82769060",
   "metadata": {},
   "outputs": [],
   "source": [
    "kwargs = {'z': z_pk, 'h': h, 'Omega_m': ps['cosmo'].Omega0_m(), 'f0':0.6900011469771554,\n",
    "          #'f0':classy['cosmo'].scale_independent_growth_factor_f(z_pk)\n",
    "         }"
   ]
  },
  {
   "cell_type": "code",
   "execution_count": 10,
   "id": "6ac9e64f",
   "metadata": {
    "scrolled": true
   },
   "outputs": [
    {
     "name": "stdout",
     "output_type": "stream",
     "text": [
      "CPU times: user 106 ms, sys: 8.39 ms, total: 114 ms\n",
      "Wall time: 58.9 ms\n"
     ]
    }
   ],
   "source": [
    "%%time\n",
    "table, table_now = nonlinear.calculate_loop_table(k=inputpkT[0], pklin=inputpkT[1], cosmo=ps['cosmo'],\n",
    "                                             **kwargs)"
   ]
  },
  {
   "cell_type": "code",
   "execution_count": 11,
   "id": "c0c3dca5",
   "metadata": {},
   "outputs": [],
   "source": [
    "# Bias parameters\n",
    "b1 = 1.70               \n",
    "b2 = -0.45\n",
    "bs2 = -4/7*(b1 - 1)\n",
    "b3nl = 32/315*(b1 - 1)\n",
    "# EFT parameters\n",
    "alpha0 = 3.0               #units: [Mpc/h]^2              \n",
    "alpha2 = -29.0             #units: [Mpc/h]^2\n",
    "alpha4 = 0.0               #units: [Mpc/h]^2\n",
    "ctilde = 0.0               #units: [Mpc/h]^4\n",
    "# Stochatic parameters\n",
    "PshotP = 5000\n",
    "alphashot0 = 0.08\n",
    "alphashot2 = -8.0          #units: [Mpc/h]^2\n",
    "pars = [b1, b2, bs2, b3nl, alpha0, alpha2, alpha4, ctilde, alphashot0, alphashot2, PshotP]\n",
    "qpar, qper = 1., 1.\n",
    "\n",
    "\n",
    "k = np.logspace(np.log10(0.01), np.log10(0.3), num=100) # array of  output k in [h/Mpc]"
   ]
  },
  {
   "cell_type": "code",
   "execution_count": 12,
   "id": "0f780950",
   "metadata": {},
   "outputs": [
    {
     "name": "stdout",
     "output_type": "stream",
     "text": [
      "CPU times: user 3 µs, sys: 1 µs, total: 4 µs\n",
      "Wall time: 4.53 µs\n"
     ]
    }
   ],
   "source": [
    "%%time\n",
    "multipoles = RSDMultipolesPowerSpectrumCalculator(model='EFT')"
   ]
  },
  {
   "cell_type": "code",
   "execution_count": 13,
   "id": "e888d6d5",
   "metadata": {},
   "outputs": [
    {
     "name": "stdout",
     "output_type": "stream",
     "text": [
      "CPU times: user 11.1 ms, sys: 0 ns, total: 11.1 ms\n",
      "Wall time: 10.9 ms\n"
     ]
    }
   ],
   "source": [
    "%%time\n",
    "P0, P2, P4  = multipoles.get_rsd_pkell(kobs=k, qpar=qpar, qper=qper, pars=pars, table=table, table_now=table_now)"
   ]
  },
  {
   "cell_type": "code",
   "execution_count": 14,
   "id": "6b73e712",
   "metadata": {},
   "outputs": [
    {
     "name": "stdout",
     "output_type": "stream",
     "text": [
      "CPU times: user 3.74 ms, sys: 0 ns, total: 3.74 ms\n",
      "Wall time: 3.21 ms\n"
     ]
    }
   ],
   "source": [
    "%%time\n",
    "P0_noir, P2_noir  = multipoles.get_rsd_pkell(kobs=k, qpar=qpar, qper=qper, pars=pars, table=table, table_now=table_now, ells=(0, 2),IR_resummation=False)"
   ]
  },
  {
   "cell_type": "code",
   "execution_count": 15,
   "id": "4cdc7e47",
   "metadata": {},
   "outputs": [
    {
     "data": {
      "image/png": "[encoded data removed]",
      "text/plain": [
       "<Figure size 700x500 with 1 Axes>"
      ]
     },
     "metadata": {},
     "output_type": "display_data"
    }
   ],
   "source": [
    "import matplotlib\n",
    "import matplotlib.pyplot as plt\n",
    "\n",
    "fig, axs = plt.subplots(figsize=(7,5))\n",
    "axs.set_xlabel(r'$k \\, [h\\, Mpc^{-1}]$', fontsize =  14)\n",
    "axs.set_ylabel(r'$k P_{\\ell}(k) \\, [h^{-1} \\,  Mpc]^2$', fontsize =  14)\n",
    "\n",
    "axs.plot(k, k * P0, color = 'navy', ls='-', label=r'$\\ell = 0$')\n",
    "axs.plot(k, k * P0_noir, color = 'navy', ls='-.')\n",
    "\n",
    "axs.plot(k, k * P2, color = 'maroon', ls='-', label=r'$\\ell = 2$')\n",
    "axs.plot(k, k * P2_noir, color = 'maroon', ls='-.')\n",
    "axs.plot(k, k * P4, color = 'darkgreen', ls='-', label=r'$\\ell = 4$')\n",
    "\n",
    "axs.set_xlim([k[0], 0.2])\n",
    "#axs.set_ylim([-200.0, 1800])\n",
    "\n",
    "leg1 = axs.legend(loc = 'best');\n",
    "leg1.get_frame().set_linewidth(0.0);\n",
    "\n",
    "plt.show()"
   ]
  },
  {
   "cell_type": "code",
   "execution_count": 16,
   "id": "52c72146",
   "metadata": {},
   "outputs": [
    {
     "data": {
      "text/plain": [
       "'EFT'"
      ]
     },
     "execution_count": 16,
     "metadata": {},
     "output_type": "execute_result"
    }
   ],
   "source": [
    "multipoles.model"
   ]
  },
  {
   "cell_type": "code",
   "execution_count": 17,
   "id": "4bf3f2db",
   "metadata": {},
   "outputs": [
    {
     "data": {
      "text/plain": [
       "34"
      ]
     },
     "execution_count": 17,
     "metadata": {},
     "output_type": "execute_result"
    }
   ],
   "source": [
    "len(table)"
   ]
  },
  {
   "cell_type": "code",
   "execution_count": 76,
   "id": "3e919b14",
   "metadata": {},
   "outputs": [
    {
     "data": {
      "text/plain": [
       "array([-1.73986880e-04, -2.15599254e-04, -2.67178168e-04, -3.31110098e-04,\n",
       "       -4.10351561e-04, -5.08564259e-04, -6.30281702e-04, -7.81114775e-04,\n",
       "       -9.68005450e-04, -1.19953968e-03, -1.48633241e-03, -1.84150029e-03,\n",
       "       -2.28124133e-03, -2.82554559e-03, -3.49906705e-03, -4.33219185e-03,\n",
       "       -5.36234406e-03, -6.63557696e-03, -8.20850760e-03, -1.01506673e-02,\n",
       "       -1.25473566e-02, -1.55031095e-02, -1.91458838e-02, -2.36321097e-02,\n",
       "       -2.91527500e-02, -3.59405601e-02, -4.42787782e-02, -5.45115107e-02,\n",
       "       -6.70560974e-02, -8.24177502e-02, -1.01206784e-01, -1.24158818e-01,\n",
       "       -1.52158400e-01, -1.86266574e-01, -2.27752879e-01, -2.78132164e-01,\n",
       "       -3.39206536e-01, -4.13112754e-01, -5.02375458e-01, -6.09966670e-01,\n",
       "       -7.39371670e-01, -8.94660794e-01, -1.08056597e+00, -1.30256039e+00,\n",
       "       -1.56693983e+00, -1.88090384e+00, -2.25263433e+00, -2.69136697e+00,\n",
       "       -3.20744799e+00, -3.81236790e+00, -4.51876396e+00, -5.34038469e+00,\n",
       "       -6.29200963e+00, -7.38931396e+00, -8.64866255e+00, -1.00868173e+01,\n",
       "       -1.17205488e+01, -1.35661583e+01, -1.56389249e+01, -1.79524983e+01,\n",
       "       -2.05182476e+01, -2.33445843e+01, -2.64363086e+01, -2.97940758e+01,\n",
       "       -3.34141133e+01, -3.72882989e+01, -4.14046462e+01, -4.57481806e+01,\n",
       "       -5.03022040e+01, -5.50500205e+01, -5.99772109e+01, -6.50743661e+01,\n",
       "       -7.03398125e+01, -7.57815044e+01, -8.14172351e+01, -8.72727248e+01,\n",
       "       -9.33776503e+01, -9.97597759e+01, -1.06436881e+02, -1.13405793e+02,\n",
       "       -1.20628661e+02, -1.28019076e+02, -1.35433715e+02, -1.42676362e+02,\n",
       "       -1.49518738e+02, -1.55736976e+02, -1.61156716e+02, -1.65696251e+02,\n",
       "       -1.69395847e+02, -1.72420502e+02, -1.75023755e+02, -1.77467512e+02,\n",
       "       -1.79912954e+02, -1.82325660e+02, -1.84453100e+02, -1.85910681e+02,\n",
       "       -1.86352905e+02, -1.85645011e+02, -1.83937619e+02, -1.81599144e+02,\n",
       "       -1.79039109e+02, -1.76504320e+02, -1.73938767e+02, -1.70995262e+02,\n",
       "       -1.67255419e+02, -1.62580603e+02, -1.57317083e+02, -1.52078190e+02,\n",
       "       -1.47215724e+02, -1.42518986e+02, -1.37501657e+02, -1.31934412e+02,\n",
       "       -1.26004565e+02, -1.20039586e+02, -1.14236820e+02, -1.08612928e+02,\n",
       "       -1.03049733e+02, -9.74172263e+01, -9.17685693e+01, -8.63428647e+01])"
      ]
     },
     "execution_count": 76,
     "metadata": {},
     "output_type": "execute_result"
    }
   ],
   "source": [
    "table[31]"
   ]
  },
  {
   "cell_type": "code",
   "execution_count": 78,
   "id": "8c46205a",
   "metadata": {
    "scrolled": false
   },
   "outputs": [
    {
     "data": {
      "text/plain": [
       "array([-1.66350799e-04, -2.06055710e-04, -2.55242101e-04, -3.16170822e-04,\n",
       "       -3.91639428e-04, -4.85108481e-04, -6.00857168e-04, -7.44174854e-04,\n",
       "       -9.21596653e-04, -1.14119285e-03, -1.41292412e-03, -1.74907714e-03,\n",
       "       -2.16479809e-03, -2.67874516e-03, -3.31388560e-03, -4.09846757e-03,\n",
       "       -5.06720364e-03, -6.26270991e-03, -7.73725268e-03, -9.55486464e-03,\n",
       "       -1.17939030e-02, -1.45501350e-02, -1.79404518e-02, -2.21073280e-02,\n",
       "       -2.72241648e-02, -3.35016725e-02, -4.11954731e-02, -5.06151244e-02,\n",
       "       -6.21347986e-02, -7.62058773e-02, -9.33717539e-02, -1.14285162e-01,\n",
       "       -1.39728370e-01, -1.70636593e-01, -2.08125015e-01, -2.53519802e-01,\n",
       "       -3.08393522e-01, -3.74605348e-01, -4.54346357e-01, -5.50190174e-01,\n",
       "       -6.65149085e-01, -8.02735680e-01, -9.67029922e-01, -1.16275133e+00,\n",
       "       -1.39533559e+00, -1.67101442e+00, -1.99689730e+00, -2.38105289e+00,\n",
       "       -2.83258817e+00, -3.36172210e+00, -3.97985019e+00, -4.69959467e+00,\n",
       "       -5.53483421e+00, -6.50070698e+00, -7.61358076e+00, -8.89098389e+00,\n",
       "       -1.03514891e+01, -1.20145390e+01, -1.39002003e+01, -1.60288344e+01,\n",
       "       -1.84206768e+01, -2.10953276e+01, -2.40711552e+01, -2.73646116e+01,\n",
       "       -3.09894505e+01, -3.49558379e+01, -3.92693715e+01, -4.39300667e+01,\n",
       "       -4.89314155e+01, -5.42596384e+01, -5.98932302e+01, -6.58028509e+01,\n",
       "       -7.19515935e+01, -7.82956767e+01, -8.47856568e+01, -9.13682501e+01,\n",
       "       -9.79887633e+01, -1.04593982e+02, -1.11135267e+02, -1.17571615e+02,\n",
       "       -1.23872457e+02, -1.30019756e+02, -1.36008356e+02, -1.41842930e+02,\n",
       "       -1.47529946e+02, -1.53064693e+02, -1.58416570e+02, -1.63518928e+02,\n",
       "       -1.68270506e+02, -1.72551897e+02, -1.76253261e+02, -1.79302263e+02,\n",
       "       -1.81678831e+02, -1.83408768e+02, -1.84539431e+02, -1.85111042e+02,\n",
       "       -1.85139658e+02, -1.84620019e+02, -1.83543126e+02, -1.81913931e+02,\n",
       "       -1.79756202e+02, -1.77103565e+02, -1.73987746e+02, -1.70435890e+02,\n",
       "       -1.66477831e+02, -1.62153541e+02, -1.57512039e+02, -1.52603018e+02,\n",
       "       -1.47469292e+02, -1.42145984e+02, -1.36665902e+02, -1.31065988e+02,\n",
       "       -1.25389247e+02, -1.19680141e+02, -1.13977068e+02, -1.08308418e+02,\n",
       "       -1.02695562e+02, -9.71595344e+01, -9.17248338e+01, -8.64168343e+01])"
      ]
     },
     "execution_count": 78,
     "metadata": {},
     "output_type": "execute_result"
    }
   ],
   "source": [
    "table_now[31]"
   ]
  },
  {
   "cell_type": "code",
   "execution_count": null,
   "id": "d1589e3e",
   "metadata": {},
   "outputs": [],
   "source": []
  },
  {
   "cell_type": "code",
   "execution_count": null,
   "id": "b2f21d76",
   "metadata": {},
   "outputs": [],
   "source": []
  },
  {
   "cell_type": "code",
   "execution_count": null,
   "id": "5d266997",
   "metadata": {},
   "outputs": [],
   "source": []
  },
  {
   "cell_type": "code",
   "execution_count": null,
   "id": "d185c72a",
   "metadata": {},
   "outputs": [],
   "source": []
  },
  {
   "cell_type": "code",
   "execution_count": null,
   "id": "9669c339",
   "metadata": {},
   "outputs": [],
   "source": [
    "############################# Bispectrum ###############################3"
   ]
  },
  {
   "cell_type": "code",
   "execution_count": null,
   "id": "b5efe2ac",
   "metadata": {},
   "outputs": [],
   "source": [
    "classy  = run_class(h = 0.6711, ombh2 = 0.022, omch2 = 0.122, omnuh2 = 0.0006442, \n",
    "                    As = 2e-9, ns = 0.965, z = 0.3, z_scale=[0.97],\n",
    "                    N_ur = 2.0328,\n",
    "                    khmin = 0.0001, khmax = 2.0, nbk = 1000, spectra = 'matter')"
   ]
  },
  {
   "cell_type": "code",
   "execution_count": null,
   "id": "4b75e0c0",
   "metadata": {},
   "outputs": [],
   "source": [
    "#pars for Bispectrum\n",
    "z_pk=0.0;\n",
    "\n",
    "\n",
    "b1v = 1;\n",
    "c1v = 0; b2v = 0.0; bsv = 0;\n",
    "\n",
    "Omv=classy['cosmo'].Omega0_m();\n",
    "hv=classy['cosmo'].h(); \n",
    "f=classy['cosmo'].scale_independent_growth_factor_f(z_pk)\n",
    "\n",
    "qparv = 1; qperpv = 1;\n",
    "Bshotv=0.0\n",
    "Pshotv=0.0\n",
    "\n",
    "\n",
    "bisp_nuis_paramsv=[b1v,b2v,bsv,c1v,Bshotv,Pshotv]\n",
    "bisp_cosmo_paramsv=[Omv, hv, nonlinear.f0]"
   ]
  },
  {
   "cell_type": "code",
   "execution_count": null,
   "id": "ca6df13d",
   "metadata": {},
   "outputs": [],
   "source": [
    "ks = np.logspace(np.log10(0.0001), np.log10(0.4), 30)\n",
    "k1k2T = np.vstack([ks,ks]).T"
   ]
  },
  {
   "cell_type": "code",
   "execution_count": null,
   "id": "0ee6d719",
   "metadata": {},
   "outputs": [],
   "source": [
    "%%time\n",
    "#precision=[8,10,10]\n",
    "B000,B202=Bisp_Sugiyama(bisp_cosmo_paramsv, bisp_nuis_paramsv, pk_input=nonlinear.inputpkT, z_pk=z_pk, k1k2pairs=k1k2T, Omfid=-1,qpar=1,qperp=1)#,precision=precision)"
   ]
  },
  {
   "cell_type": "code",
   "execution_count": null,
   "id": "68c204b8",
   "metadata": {},
   "outputs": [],
   "source": [
    "fig, axs = plt.subplots(figsize=(7,5))\n",
    "axs.set_xlabel(r'$k \\, [h\\, Mpc^{-1}]$', fontsize =  14)\n",
    "axs.set_ylabel(r'$k^2 B(k,k) $', fontsize =  14)\n",
    "\n",
    "#axs.plot(k1k2T.T[0], k1k2T.T[0]*k1k2T.T[0]*B000, ls='-', label='B000')\n",
    "#axs.plot(k1k2T.T[0],k1k2T.T[0]*k1k2T.T[0]*B202, ls='-', label='B202')\n",
    "\n",
    "\n",
    "axs.loglog(k1k2T.T[0],B000, ls='-', label='B000')\n",
    "axs.loglog(k1k2T.T[0],B202, ls='-', label='B202')\n",
    "axs.loglog(nonlinear.inputpkT[0],nonlinear.inputpkT[1]*nonlinear.inputpkT[1], ls='-', label='P^2')\n",
    "\n",
    "\n",
    "\n",
    "axs.set_xlim([0.0001,0.15])\n",
    "axs.set_ylim([1e5, 1e10])\n",
    "\n",
    "leg1 = axs.legend(loc = 'best');\n",
    "leg1.get_frame().set_linewidth(0.0);\n",
    "\n",
    "plt.show()"
   ]
  },
  {
   "cell_type": "code",
   "execution_count": null,
   "id": "628b7805",
   "metadata": {},
   "outputs": [],
   "source": [
    "inputpkT[1]"
   ]
  },
  {
   "cell_type": "markdown",
   "id": "d10f3dfd",
   "metadata": {},
   "source": [
    "# "
   ]
  },
  {
   "cell_type": "code",
   "execution_count": null,
   "id": "1ff439d7-9c7e-4138-97b4-c8622c6e2b12",
   "metadata": {},
   "outputs": [],
   "source": []
  },
  {
   "cell_type": "code",
   "execution_count": null,
   "id": "698b7e58-68cc-4968-8b4d-8aa99215ec55",
   "metadata": {},
   "outputs": [],
   "source": []
  }
 ],
 "metadata": {
  "kernelspec": {
   "display_name": "Python 3 (ipykernel)",
   "language": "python",
   "name": "python3"
  },
  "language_info": {
   "codemirror_mode": {
    "name": "ipython",
    "version": 3
   },
   "file_extension": ".py",
   "mimetype": "text/x-python",
   "name": "python",
   "nbconvert_exporter": "python",
   "pygments_lexer": "ipython3",
   "version": "3.9.7"
  }
 },
 "nbformat": 4,
 "nbformat_minor": 5
}
